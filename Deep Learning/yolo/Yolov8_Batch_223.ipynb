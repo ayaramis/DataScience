{
 "cells": [
  {
   "cell_type": "markdown",
   "id": "1652fc9f-bf28-4428-a702-b0c3fb48baa7",
   "metadata": {},
   "source": [
    "https://github.com/ultralytics/ultralytics"
   ]
  },
  {
   "cell_type": "code",
   "execution_count": null,
   "id": "4b4dd1ed",
   "metadata": {},
   "outputs": [],
   "source": [
    "#pip install opencv-python"
   ]
  },
  {
   "cell_type": "code",
   "execution_count": null,
   "id": "dd847f83-ce67-453c-8838-cde0defd63fe",
   "metadata": {},
   "outputs": [],
   "source": [
    "# 3-5 dakika sürebilir"
   ]
  },
  {
   "cell_type": "code",
   "execution_count": null,
   "id": "e87296ef",
   "metadata": {
    "scrolled": true
   },
   "outputs": [],
   "source": [
    "#pip install ultralytics           "
   ]
  },
  {
   "cell_type": "markdown",
   "id": "1f561cc1-ed17-408f-9d54-369110cd5d1c",
   "metadata": {},
   "source": [
    "YOLO, görüntüyü bir kez işleyerek nesneleri tespit etme yeteneğine sahiptir (\"You Only Look Once\" yani \"Bir Kez Bakıyoruz\" anlamına gelir).\n",
    "\n",
    "Görüntü, önceden tanımlanmış bir ölçeğe sahip bir ızgara (grid) bölgesine ayrılır. Her ızgara hücresi belirli bir sayıda tahmin kutusu (bounding box) içerir.\n",
    "\n",
    "Her bir tahmin kutusu, o bölgede bulunabilecek nesnelerin sınıfını ve konumunu tahmin etmek için kullanılır. Bu tahminler, derin bir evrişimli sinir ağı (CNN) aracılığıyla yapılır.\n",
    "\n",
    "Sonuç olarak, YOLO aynı anda birden fazla nesneyi tespit edebilir ve bu tespitleri bir çıktı olarak verir.\n",
    "\n",
    "Özetle, YOLO'nun özel çalışma mantığı, görüntüyü ızgaralara bölmek ve her bir ızgara hücresindeki tahmin kutuları aracılığıyla nesne tespiti yapmaktır. Diğer yandan, CNN genel olarak bir görüntü veri setinden özellikler çıkarmak ve bu özellikleri kullanarak çeşitli görevler gerçekleştirmek için kullanılır. YOLO, içinde CNN tabanlı katmanlar barındıran bir nesne tespiti modelidir."
   ]
  },
  {
   "cell_type": "code",
   "execution_count": 1,
   "id": "0e2cf3c9",
   "metadata": {},
   "outputs": [],
   "source": [
    "from ultralytics import YOLO\n",
    "#from ultralytics.yolo.v8.detect.predict import DetectionPredictor   \n",
    "from ultralytics.models.yolo.detect import DetectionPredictor    # hata alanlar bu işlemi deneyebilir\n",
    "import cv2\n",
    "\n",
    "import numpy as np\n",
    "import matplotlib.pyplot as plt"
   ]
  },
  {
   "cell_type": "markdown",
   "id": "42f9089e-ab79-4caa-b313-ee14cc7457e1",
   "metadata": {},
   "source": [
    "**Not:** kamerayı kapatmak için kerneli kapat (shut down)"
   ]
  },
  {
   "cell_type": "code",
   "execution_count": null,
   "id": "1da6291c",
   "metadata": {
    "scrolled": true,
    "tags": []
   },
   "outputs": [],
   "source": [
    "# Load a model\n",
    "model = YOLO(\"yolov8n.pt\")            # load a pretrained model (recommended for training)\n",
    "\n",
    "# Use the model\n",
    "results= model.predict(source=\"0\", show=True)\n",
    "print(results)"
   ]
  },
  {
   "cell_type": "code",
   "execution_count": 2,
   "id": "cfb302a6",
   "metadata": {},
   "outputs": [
    {
     "name": "stdout",
     "output_type": "stream",
     "text": [
      "\n",
      "image 1/1 c:\\Users\\Yaramis\\Documents\\GitHub\\DataScience\\Deep Learning\\yolo\\dog.png: 448x640 1 dog, 726.0ms\n",
      "Speed: 11.0ms preprocess, 726.0ms inference, 5935.0ms postprocess per image at shape (1, 3, 448, 640)\n"
     ]
    }
   ],
   "source": [
    "model = YOLO(\"yolov8n.pt\")            # load a pretrained model (recommended for training)\n",
    "result_1 = model.predict(\"dog.png\")"
   ]
  },
  {
   "cell_type": "code",
   "execution_count": 3,
   "id": "2e041477",
   "metadata": {},
   "outputs": [
    {
     "name": "stdout",
     "output_type": "stream",
     "text": [
      "\n",
      "image 1/1 c:\\Users\\Yaramis\\Documents\\GitHub\\DataScience\\Deep Learning\\yolo\\sky.jpg: 384x640 1 airplane, 458.0ms\n",
      "Speed: 10.0ms preprocess, 458.0ms inference, 8.0ms postprocess per image at shape (1, 3, 384, 640)\n"
     ]
    }
   ],
   "source": [
    "model = YOLO(\"yolov8n.pt\")  # load a pretrained model (recommended for training)\n",
    "result_2 = model.predict(\"sky.jpg\")"
   ]
  },
  {
   "cell_type": "code",
   "execution_count": 4,
   "id": "c43ebb3b",
   "metadata": {
    "scrolled": true
   },
   "outputs": [
    {
     "name": "stdout",
     "output_type": "stream",
     "text": [
      "\n",
      "\n",
      "WARNING  inference results will accumulate in RAM unless `stream=True` is passed, causing potential out-of-memory\n",
      "errors for large sources or long-running streams and videos. See https://docs.ultralytics.com/modes/predict/ for help.\n",
      "\n",
      "Example:\n",
      "    results = model(source=..., stream=True)  # generator of Results objects\n",
      "    for r in results:\n",
      "        boxes = r.boxes  # Boxes object for bbox outputs\n",
      "        masks = r.masks  # Masks object for segment masks outputs\n",
      "        probs = r.probs  # Class probabilities for classification outputs\n",
      "\n",
      "video 1/1 (frame 1/166) c:\\Users\\Yaramis\\Documents\\GitHub\\DataScience\\Deep Learning\\yolo\\smooth_traffic.mp4: 640x384 9 cars, 1 bus, 1 truck, 404.0ms\n",
      "video 1/1 (frame 2/166) c:\\Users\\Yaramis\\Documents\\GitHub\\DataScience\\Deep Learning\\yolo\\smooth_traffic.mp4: 640x384 9 cars, 2 buss, 1 truck, 438.0ms\n",
      "video 1/1 (frame 3/166) c:\\Users\\Yaramis\\Documents\\GitHub\\DataScience\\Deep Learning\\yolo\\smooth_traffic.mp4: 640x384 1 person, 9 cars, 2 buss, 523.0ms\n",
      "video 1/1 (frame 4/166) c:\\Users\\Yaramis\\Documents\\GitHub\\DataScience\\Deep Learning\\yolo\\smooth_traffic.mp4: 640x384 1 person, 9 cars, 2 buss, 376.0ms\n",
      "video 1/1 (frame 5/166) c:\\Users\\Yaramis\\Documents\\GitHub\\DataScience\\Deep Learning\\yolo\\smooth_traffic.mp4: 640x384 1 person, 9 cars, 2 buss, 322.0ms\n",
      "video 1/1 (frame 6/166) c:\\Users\\Yaramis\\Documents\\GitHub\\DataScience\\Deep Learning\\yolo\\smooth_traffic.mp4: 640x384 1 person, 8 cars, 2 buss, 493.0ms\n",
      "video 1/1 (frame 7/166) c:\\Users\\Yaramis\\Documents\\GitHub\\DataScience\\Deep Learning\\yolo\\smooth_traffic.mp4: 640x384 1 person, 8 cars, 2 buss, 663.0ms\n",
      "video 1/1 (frame 8/166) c:\\Users\\Yaramis\\Documents\\GitHub\\DataScience\\Deep Learning\\yolo\\smooth_traffic.mp4: 640x384 1 person, 9 cars, 2 buss, 1 truck, 372.0ms\n",
      "video 1/1 (frame 9/166) c:\\Users\\Yaramis\\Documents\\GitHub\\DataScience\\Deep Learning\\yolo\\smooth_traffic.mp4: 640x384 1 person, 9 cars, 1 bus, 1 truck, 354.0ms\n",
      "video 1/1 (frame 10/166) c:\\Users\\Yaramis\\Documents\\GitHub\\DataScience\\Deep Learning\\yolo\\smooth_traffic.mp4: 640x384 1 person, 8 cars, 3 buss, 1 truck, 294.0ms\n",
      "video 1/1 (frame 11/166) c:\\Users\\Yaramis\\Documents\\GitHub\\DataScience\\Deep Learning\\yolo\\smooth_traffic.mp4: 640x384 1 person, 9 cars, 4 buss, 337.0ms\n",
      "video 1/1 (frame 12/166) c:\\Users\\Yaramis\\Documents\\GitHub\\DataScience\\Deep Learning\\yolo\\smooth_traffic.mp4: 640x384 1 person, 10 cars, 2 buss, 1 truck, 353.0ms\n",
      "video 1/1 (frame 13/166) c:\\Users\\Yaramis\\Documents\\GitHub\\DataScience\\Deep Learning\\yolo\\smooth_traffic.mp4: 640x384 1 person, 10 cars, 2 buss, 1 truck, 310.0ms\n",
      "video 1/1 (frame 14/166) c:\\Users\\Yaramis\\Documents\\GitHub\\DataScience\\Deep Learning\\yolo\\smooth_traffic.mp4: 640x384 1 person, 11 cars, 328.0ms\n",
      "video 1/1 (frame 15/166) c:\\Users\\Yaramis\\Documents\\GitHub\\DataScience\\Deep Learning\\yolo\\smooth_traffic.mp4: 640x384 1 person, 11 cars, 2 buss, 1 truck, 323.0ms\n",
      "video 1/1 (frame 16/166) c:\\Users\\Yaramis\\Documents\\GitHub\\DataScience\\Deep Learning\\yolo\\smooth_traffic.mp4: 640x384 10 cars, 2 buss, 2 trucks, 357.0ms\n",
      "video 1/1 (frame 17/166) c:\\Users\\Yaramis\\Documents\\GitHub\\DataScience\\Deep Learning\\yolo\\smooth_traffic.mp4: 640x384 1 person, 11 cars, 1 bus, 2 trucks, 364.0ms\n",
      "video 1/1 (frame 18/166) c:\\Users\\Yaramis\\Documents\\GitHub\\DataScience\\Deep Learning\\yolo\\smooth_traffic.mp4: 640x384 1 person, 9 cars, 2 buss, 1 truck, 355.0ms\n",
      "video 1/1 (frame 19/166) c:\\Users\\Yaramis\\Documents\\GitHub\\DataScience\\Deep Learning\\yolo\\smooth_traffic.mp4: 640x384 1 person, 8 cars, 3 buss, 1 truck, 395.0ms\n",
      "video 1/1 (frame 20/166) c:\\Users\\Yaramis\\Documents\\GitHub\\DataScience\\Deep Learning\\yolo\\smooth_traffic.mp4: 640x384 1 person, 10 cars, 2 buss, 1 truck, 285.0ms\n",
      "video 1/1 (frame 21/166) c:\\Users\\Yaramis\\Documents\\GitHub\\DataScience\\Deep Learning\\yolo\\smooth_traffic.mp4: 640x384 1 person, 10 cars, 2 buss, 1 truck, 336.0ms\n",
      "video 1/1 (frame 22/166) c:\\Users\\Yaramis\\Documents\\GitHub\\DataScience\\Deep Learning\\yolo\\smooth_traffic.mp4: 640x384 1 person, 12 cars, 2 buss, 324.0ms\n",
      "video 1/1 (frame 23/166) c:\\Users\\Yaramis\\Documents\\GitHub\\DataScience\\Deep Learning\\yolo\\smooth_traffic.mp4: 640x384 1 person, 12 cars, 2 buss, 329.0ms\n",
      "video 1/1 (frame 24/166) c:\\Users\\Yaramis\\Documents\\GitHub\\DataScience\\Deep Learning\\yolo\\smooth_traffic.mp4: 640x384 1 person, 12 cars, 2 buss, 349.0ms\n",
      "video 1/1 (frame 25/166) c:\\Users\\Yaramis\\Documents\\GitHub\\DataScience\\Deep Learning\\yolo\\smooth_traffic.mp4: 640x384 1 person, 11 cars, 2 buss, 1 toilet, 314.0ms\n",
      "video 1/1 (frame 26/166) c:\\Users\\Yaramis\\Documents\\GitHub\\DataScience\\Deep Learning\\yolo\\smooth_traffic.mp4: 640x384 1 person, 11 cars, 2 buss, 1 toilet, 787.0ms\n",
      "video 1/1 (frame 27/166) c:\\Users\\Yaramis\\Documents\\GitHub\\DataScience\\Deep Learning\\yolo\\smooth_traffic.mp4: 640x384 1 person, 10 cars, 2 buss, 1 toilet, 505.0ms\n",
      "video 1/1 (frame 28/166) c:\\Users\\Yaramis\\Documents\\GitHub\\DataScience\\Deep Learning\\yolo\\smooth_traffic.mp4: 640x384 1 person, 12 cars, 2 buss, 310.0ms\n",
      "video 1/1 (frame 29/166) c:\\Users\\Yaramis\\Documents\\GitHub\\DataScience\\Deep Learning\\yolo\\smooth_traffic.mp4: 640x384 1 person, 11 cars, 1 bus, 352.0ms\n",
      "video 1/1 (frame 30/166) c:\\Users\\Yaramis\\Documents\\GitHub\\DataScience\\Deep Learning\\yolo\\smooth_traffic.mp4: 640x384 1 person, 11 cars, 2 buss, 301.0ms\n",
      "video 1/1 (frame 31/166) c:\\Users\\Yaramis\\Documents\\GitHub\\DataScience\\Deep Learning\\yolo\\smooth_traffic.mp4: 640x384 1 person, 11 cars, 1 bus, 295.0ms\n",
      "video 1/1 (frame 32/166) c:\\Users\\Yaramis\\Documents\\GitHub\\DataScience\\Deep Learning\\yolo\\smooth_traffic.mp4: 640x384 1 person, 11 cars, 1 bus, 305.0ms\n",
      "video 1/1 (frame 33/166) c:\\Users\\Yaramis\\Documents\\GitHub\\DataScience\\Deep Learning\\yolo\\smooth_traffic.mp4: 640x384 1 person, 11 cars, 1 bus, 297.0ms\n",
      "video 1/1 (frame 34/166) c:\\Users\\Yaramis\\Documents\\GitHub\\DataScience\\Deep Learning\\yolo\\smooth_traffic.mp4: 640x384 1 person, 9 cars, 1 bus, 1 dining table, 329.0ms\n",
      "video 1/1 (frame 35/166) c:\\Users\\Yaramis\\Documents\\GitHub\\DataScience\\Deep Learning\\yolo\\smooth_traffic.mp4: 640x384 1 person, 10 cars, 1 bus, 361.0ms\n",
      "video 1/1 (frame 36/166) c:\\Users\\Yaramis\\Documents\\GitHub\\DataScience\\Deep Learning\\yolo\\smooth_traffic.mp4: 640x384 1 person, 10 cars, 1 bus, 1 truck, 358.0ms\n",
      "video 1/1 (frame 37/166) c:\\Users\\Yaramis\\Documents\\GitHub\\DataScience\\Deep Learning\\yolo\\smooth_traffic.mp4: 640x384 1 person, 10 cars, 1 bus, 1 truck, 287.0ms\n",
      "video 1/1 (frame 38/166) c:\\Users\\Yaramis\\Documents\\GitHub\\DataScience\\Deep Learning\\yolo\\smooth_traffic.mp4: 640x384 1 person, 11 cars, 1 bus, 1 truck, 392.0ms\n",
      "video 1/1 (frame 39/166) c:\\Users\\Yaramis\\Documents\\GitHub\\DataScience\\Deep Learning\\yolo\\smooth_traffic.mp4: 640x384 1 person, 12 cars, 1 bus, 1 truck, 386.0ms\n",
      "video 1/1 (frame 40/166) c:\\Users\\Yaramis\\Documents\\GitHub\\DataScience\\Deep Learning\\yolo\\smooth_traffic.mp4: 640x384 1 person, 10 cars, 2 buss, 1 truck, 1 chair, 329.0ms\n",
      "video 1/1 (frame 41/166) c:\\Users\\Yaramis\\Documents\\GitHub\\DataScience\\Deep Learning\\yolo\\smooth_traffic.mp4: 640x384 1 person, 10 cars, 1 bus, 330.0ms\n",
      "video 1/1 (frame 42/166) c:\\Users\\Yaramis\\Documents\\GitHub\\DataScience\\Deep Learning\\yolo\\smooth_traffic.mp4: 640x384 1 person, 10 cars, 1 bus, 330.0ms\n",
      "video 1/1 (frame 43/166) c:\\Users\\Yaramis\\Documents\\GitHub\\DataScience\\Deep Learning\\yolo\\smooth_traffic.mp4: 640x384 1 person, 11 cars, 1 bus, 330.0ms\n",
      "video 1/1 (frame 44/166) c:\\Users\\Yaramis\\Documents\\GitHub\\DataScience\\Deep Learning\\yolo\\smooth_traffic.mp4: 640x384 1 person, 11 cars, 1 bus, 1 truck, 342.0ms\n",
      "video 1/1 (frame 45/166) c:\\Users\\Yaramis\\Documents\\GitHub\\DataScience\\Deep Learning\\yolo\\smooth_traffic.mp4: 640x384 1 person, 10 cars, 2 buss, 1 truck, 381.0ms\n",
      "video 1/1 (frame 46/166) c:\\Users\\Yaramis\\Documents\\GitHub\\DataScience\\Deep Learning\\yolo\\smooth_traffic.mp4: 640x384 1 person, 10 cars, 3 buss, 1 truck, 363.0ms\n",
      "video 1/1 (frame 47/166) c:\\Users\\Yaramis\\Documents\\GitHub\\DataScience\\Deep Learning\\yolo\\smooth_traffic.mp4: 640x384 9 cars, 2 buss, 1 truck, 339.0ms\n",
      "video 1/1 (frame 48/166) c:\\Users\\Yaramis\\Documents\\GitHub\\DataScience\\Deep Learning\\yolo\\smooth_traffic.mp4: 640x384 9 cars, 2 buss, 353.0ms\n",
      "video 1/1 (frame 49/166) c:\\Users\\Yaramis\\Documents\\GitHub\\DataScience\\Deep Learning\\yolo\\smooth_traffic.mp4: 640x384 9 cars, 2 buss, 309.0ms\n",
      "video 1/1 (frame 50/166) c:\\Users\\Yaramis\\Documents\\GitHub\\DataScience\\Deep Learning\\yolo\\smooth_traffic.mp4: 640x384 2 persons, 9 cars, 2 buss, 497.0ms\n",
      "video 1/1 (frame 51/166) c:\\Users\\Yaramis\\Documents\\GitHub\\DataScience\\Deep Learning\\yolo\\smooth_traffic.mp4: 640x384 2 persons, 11 cars, 3 buss, 1 truck, 311.0ms\n",
      "video 1/1 (frame 52/166) c:\\Users\\Yaramis\\Documents\\GitHub\\DataScience\\Deep Learning\\yolo\\smooth_traffic.mp4: 640x384 2 persons, 9 cars, 3 buss, 1 truck, 322.0ms\n",
      "video 1/1 (frame 53/166) c:\\Users\\Yaramis\\Documents\\GitHub\\DataScience\\Deep Learning\\yolo\\smooth_traffic.mp4: 640x384 2 persons, 10 cars, 3 buss, 283.0ms\n",
      "video 1/1 (frame 54/166) c:\\Users\\Yaramis\\Documents\\GitHub\\DataScience\\Deep Learning\\yolo\\smooth_traffic.mp4: 640x384 1 person, 9 cars, 2 buss, 1 truck, 300.0ms\n",
      "video 1/1 (frame 55/166) c:\\Users\\Yaramis\\Documents\\GitHub\\DataScience\\Deep Learning\\yolo\\smooth_traffic.mp4: 640x384 1 person, 10 cars, 2 buss, 294.0ms\n",
      "video 1/1 (frame 56/166) c:\\Users\\Yaramis\\Documents\\GitHub\\DataScience\\Deep Learning\\yolo\\smooth_traffic.mp4: 640x384 1 person, 8 cars, 3 buss, 341.0ms\n",
      "video 1/1 (frame 57/166) c:\\Users\\Yaramis\\Documents\\GitHub\\DataScience\\Deep Learning\\yolo\\smooth_traffic.mp4: 640x384 2 persons, 7 cars, 3 buss, 375.0ms\n",
      "video 1/1 (frame 58/166) c:\\Users\\Yaramis\\Documents\\GitHub\\DataScience\\Deep Learning\\yolo\\smooth_traffic.mp4: 640x384 1 person, 8 cars, 3 buss, 349.0ms\n",
      "video 1/1 (frame 59/166) c:\\Users\\Yaramis\\Documents\\GitHub\\DataScience\\Deep Learning\\yolo\\smooth_traffic.mp4: 640x384 1 person, 8 cars, 3 buss, 344.0ms\n",
      "video 1/1 (frame 60/166) c:\\Users\\Yaramis\\Documents\\GitHub\\DataScience\\Deep Learning\\yolo\\smooth_traffic.mp4: 640x384 1 person, 9 cars, 2 buss, 318.0ms\n",
      "video 1/1 (frame 61/166) c:\\Users\\Yaramis\\Documents\\GitHub\\DataScience\\Deep Learning\\yolo\\smooth_traffic.mp4: 640x384 1 person, 9 cars, 3 buss, 405.0ms\n",
      "video 1/1 (frame 62/166) c:\\Users\\Yaramis\\Documents\\GitHub\\DataScience\\Deep Learning\\yolo\\smooth_traffic.mp4: 640x384 1 person, 9 cars, 3 buss, 401.0ms\n",
      "video 1/1 (frame 63/166) c:\\Users\\Yaramis\\Documents\\GitHub\\DataScience\\Deep Learning\\yolo\\smooth_traffic.mp4: 640x384 1 person, 9 cars, 3 buss, 328.0ms\n",
      "video 1/1 (frame 64/166) c:\\Users\\Yaramis\\Documents\\GitHub\\DataScience\\Deep Learning\\yolo\\smooth_traffic.mp4: 640x384 1 person, 9 cars, 3 buss, 1 truck, 352.0ms\n",
      "video 1/1 (frame 65/166) c:\\Users\\Yaramis\\Documents\\GitHub\\DataScience\\Deep Learning\\yolo\\smooth_traffic.mp4: 640x384 1 person, 11 cars, 3 buss, 355.0ms\n",
      "video 1/1 (frame 66/166) c:\\Users\\Yaramis\\Documents\\GitHub\\DataScience\\Deep Learning\\yolo\\smooth_traffic.mp4: 640x384 1 person, 9 cars, 2 buss, 338.0ms\n",
      "video 1/1 (frame 67/166) c:\\Users\\Yaramis\\Documents\\GitHub\\DataScience\\Deep Learning\\yolo\\smooth_traffic.mp4: 640x384 1 person, 12 cars, 2 buss, 369.0ms\n",
      "video 1/1 (frame 68/166) c:\\Users\\Yaramis\\Documents\\GitHub\\DataScience\\Deep Learning\\yolo\\smooth_traffic.mp4: 640x384 1 person, 12 cars, 3 buss, 285.0ms\n",
      "video 1/1 (frame 69/166) c:\\Users\\Yaramis\\Documents\\GitHub\\DataScience\\Deep Learning\\yolo\\smooth_traffic.mp4: 640x384 1 person, 12 cars, 2 buss, 294.0ms\n",
      "video 1/1 (frame 70/166) c:\\Users\\Yaramis\\Documents\\GitHub\\DataScience\\Deep Learning\\yolo\\smooth_traffic.mp4: 640x384 1 person, 13 cars, 2 buss, 341.0ms\n",
      "video 1/1 (frame 71/166) c:\\Users\\Yaramis\\Documents\\GitHub\\DataScience\\Deep Learning\\yolo\\smooth_traffic.mp4: 640x384 1 person, 10 cars, 2 buss, 341.0ms\n",
      "video 1/1 (frame 72/166) c:\\Users\\Yaramis\\Documents\\GitHub\\DataScience\\Deep Learning\\yolo\\smooth_traffic.mp4: 640x384 10 cars, 3 buss, 329.0ms\n",
      "video 1/1 (frame 73/166) c:\\Users\\Yaramis\\Documents\\GitHub\\DataScience\\Deep Learning\\yolo\\smooth_traffic.mp4: 640x384 10 cars, 2 buss, 326.0ms\n",
      "video 1/1 (frame 74/166) c:\\Users\\Yaramis\\Documents\\GitHub\\DataScience\\Deep Learning\\yolo\\smooth_traffic.mp4: 640x384 1 person, 10 cars, 2 buss, 328.0ms\n",
      "video 1/1 (frame 75/166) c:\\Users\\Yaramis\\Documents\\GitHub\\DataScience\\Deep Learning\\yolo\\smooth_traffic.mp4: 640x384 1 person, 11 cars, 2 buss, 374.0ms\n",
      "video 1/1 (frame 76/166) c:\\Users\\Yaramis\\Documents\\GitHub\\DataScience\\Deep Learning\\yolo\\smooth_traffic.mp4: 640x384 1 person, 9 cars, 4 buss, 294.0ms\n",
      "video 1/1 (frame 77/166) c:\\Users\\Yaramis\\Documents\\GitHub\\DataScience\\Deep Learning\\yolo\\smooth_traffic.mp4: 640x384 1 person, 9 cars, 4 buss, 331.0ms\n",
      "video 1/1 (frame 78/166) c:\\Users\\Yaramis\\Documents\\GitHub\\DataScience\\Deep Learning\\yolo\\smooth_traffic.mp4: 640x384 1 person, 10 cars, 4 buss, 332.0ms\n",
      "video 1/1 (frame 79/166) c:\\Users\\Yaramis\\Documents\\GitHub\\DataScience\\Deep Learning\\yolo\\smooth_traffic.mp4: 640x384 11 cars, 4 buss, 651.0ms\n",
      "video 1/1 (frame 80/166) c:\\Users\\Yaramis\\Documents\\GitHub\\DataScience\\Deep Learning\\yolo\\smooth_traffic.mp4: 640x384 1 person, 11 cars, 2 buss, 360.0ms\n",
      "video 1/1 (frame 81/166) c:\\Users\\Yaramis\\Documents\\GitHub\\DataScience\\Deep Learning\\yolo\\smooth_traffic.mp4: 640x384 10 cars, 3 buss, 351.0ms\n",
      "video 1/1 (frame 82/166) c:\\Users\\Yaramis\\Documents\\GitHub\\DataScience\\Deep Learning\\yolo\\smooth_traffic.mp4: 640x384 11 cars, 2 buss, 1 truck, 453.0ms\n",
      "video 1/1 (frame 83/166) c:\\Users\\Yaramis\\Documents\\GitHub\\DataScience\\Deep Learning\\yolo\\smooth_traffic.mp4: 640x384 11 cars, 2 buss, 1 truck, 429.0ms\n",
      "video 1/1 (frame 84/166) c:\\Users\\Yaramis\\Documents\\GitHub\\DataScience\\Deep Learning\\yolo\\smooth_traffic.mp4: 640x384 12 cars, 1 bus, 412.0ms\n",
      "video 1/1 (frame 85/166) c:\\Users\\Yaramis\\Documents\\GitHub\\DataScience\\Deep Learning\\yolo\\smooth_traffic.mp4: 640x384 11 cars, 1 bus, 360.0ms\n",
      "video 1/1 (frame 86/166) c:\\Users\\Yaramis\\Documents\\GitHub\\DataScience\\Deep Learning\\yolo\\smooth_traffic.mp4: 640x384 10 cars, 2 buss, 2 trucks, 683.0ms\n",
      "video 1/1 (frame 87/166) c:\\Users\\Yaramis\\Documents\\GitHub\\DataScience\\Deep Learning\\yolo\\smooth_traffic.mp4: 640x384 11 cars, 2 buss, 1 truck, 1112.0ms\n",
      "video 1/1 (frame 88/166) c:\\Users\\Yaramis\\Documents\\GitHub\\DataScience\\Deep Learning\\yolo\\smooth_traffic.mp4: 640x384 1 person, 11 cars, 2 buss, 1 truck, 399.0ms\n",
      "video 1/1 (frame 89/166) c:\\Users\\Yaramis\\Documents\\GitHub\\DataScience\\Deep Learning\\yolo\\smooth_traffic.mp4: 640x384 1 person, 9 cars, 2 buss, 1 truck, 1 chair, 1 dining table, 396.0ms\n",
      "video 1/1 (frame 90/166) c:\\Users\\Yaramis\\Documents\\GitHub\\DataScience\\Deep Learning\\yolo\\smooth_traffic.mp4: 640x384 1 person, 9 cars, 2 buss, 306.0ms\n",
      "video 1/1 (frame 91/166) c:\\Users\\Yaramis\\Documents\\GitHub\\DataScience\\Deep Learning\\yolo\\smooth_traffic.mp4: 640x384 1 person, 9 cars, 2 buss, 1 chair, 1 dining table, 324.0ms\n",
      "video 1/1 (frame 92/166) c:\\Users\\Yaramis\\Documents\\GitHub\\DataScience\\Deep Learning\\yolo\\smooth_traffic.mp4: 640x384 1 person, 9 cars, 2 buss, 1 chair, 350.0ms\n",
      "video 1/1 (frame 93/166) c:\\Users\\Yaramis\\Documents\\GitHub\\DataScience\\Deep Learning\\yolo\\smooth_traffic.mp4: 640x384 1 person, 9 cars, 2 buss, 1 chair, 1 dining table, 372.0ms\n",
      "video 1/1 (frame 94/166) c:\\Users\\Yaramis\\Documents\\GitHub\\DataScience\\Deep Learning\\yolo\\smooth_traffic.mp4: 640x384 9 cars, 2 buss, 501.0ms\n",
      "video 1/1 (frame 95/166) c:\\Users\\Yaramis\\Documents\\GitHub\\DataScience\\Deep Learning\\yolo\\smooth_traffic.mp4: 640x384 9 cars, 2 buss, 399.0ms\n",
      "video 1/1 (frame 96/166) c:\\Users\\Yaramis\\Documents\\GitHub\\DataScience\\Deep Learning\\yolo\\smooth_traffic.mp4: 640x384 9 cars, 2 buss, 385.0ms\n",
      "video 1/1 (frame 97/166) c:\\Users\\Yaramis\\Documents\\GitHub\\DataScience\\Deep Learning\\yolo\\smooth_traffic.mp4: 640x384 9 cars, 1 bus, 431.0ms\n",
      "video 1/1 (frame 98/166) c:\\Users\\Yaramis\\Documents\\GitHub\\DataScience\\Deep Learning\\yolo\\smooth_traffic.mp4: 640x384 9 cars, 1 bus, 314.0ms\n",
      "video 1/1 (frame 99/166) c:\\Users\\Yaramis\\Documents\\GitHub\\DataScience\\Deep Learning\\yolo\\smooth_traffic.mp4: 640x384 9 cars, 1 bus, 311.0ms\n",
      "video 1/1 (frame 100/166) c:\\Users\\Yaramis\\Documents\\GitHub\\DataScience\\Deep Learning\\yolo\\smooth_traffic.mp4: 640x384 9 cars, 1 bus, 306.0ms\n",
      "video 1/1 (frame 101/166) c:\\Users\\Yaramis\\Documents\\GitHub\\DataScience\\Deep Learning\\yolo\\smooth_traffic.mp4: 640x384 9 cars, 1 bus, 340.0ms\n",
      "video 1/1 (frame 102/166) c:\\Users\\Yaramis\\Documents\\GitHub\\DataScience\\Deep Learning\\yolo\\smooth_traffic.mp4: 640x384 9 cars, 1 bus, 381.0ms\n",
      "video 1/1 (frame 103/166) c:\\Users\\Yaramis\\Documents\\GitHub\\DataScience\\Deep Learning\\yolo\\smooth_traffic.mp4: 640x384 9 cars, 1 bus, 273.0ms\n",
      "video 1/1 (frame 104/166) c:\\Users\\Yaramis\\Documents\\GitHub\\DataScience\\Deep Learning\\yolo\\smooth_traffic.mp4: 640x384 9 cars, 1 bus, 507.0ms\n",
      "video 1/1 (frame 105/166) c:\\Users\\Yaramis\\Documents\\GitHub\\DataScience\\Deep Learning\\yolo\\smooth_traffic.mp4: 640x384 9 cars, 1 bus, 511.0ms\n",
      "video 1/1 (frame 106/166) c:\\Users\\Yaramis\\Documents\\GitHub\\DataScience\\Deep Learning\\yolo\\smooth_traffic.mp4: 640x384 9 cars, 1 bus, 516.0ms\n",
      "video 1/1 (frame 107/166) c:\\Users\\Yaramis\\Documents\\GitHub\\DataScience\\Deep Learning\\yolo\\smooth_traffic.mp4: 640x384 10 cars, 2 buss, 363.0ms\n",
      "video 1/1 (frame 108/166) c:\\Users\\Yaramis\\Documents\\GitHub\\DataScience\\Deep Learning\\yolo\\smooth_traffic.mp4: 640x384 10 cars, 1 bus, 1 truck, 328.0ms\n",
      "video 1/1 (frame 109/166) c:\\Users\\Yaramis\\Documents\\GitHub\\DataScience\\Deep Learning\\yolo\\smooth_traffic.mp4: 640x384 9 cars, 1 bus, 1 truck, 311.0ms\n",
      "video 1/1 (frame 110/166) c:\\Users\\Yaramis\\Documents\\GitHub\\DataScience\\Deep Learning\\yolo\\smooth_traffic.mp4: 640x384 9 cars, 1 bus, 1 truck, 283.0ms\n",
      "video 1/1 (frame 111/166) c:\\Users\\Yaramis\\Documents\\GitHub\\DataScience\\Deep Learning\\yolo\\smooth_traffic.mp4: 640x384 9 cars, 1 bus, 299.0ms\n",
      "video 1/1 (frame 112/166) c:\\Users\\Yaramis\\Documents\\GitHub\\DataScience\\Deep Learning\\yolo\\smooth_traffic.mp4: 640x384 9 cars, 1 bus, 284.0ms\n",
      "video 1/1 (frame 113/166) c:\\Users\\Yaramis\\Documents\\GitHub\\DataScience\\Deep Learning\\yolo\\smooth_traffic.mp4: 640x384 9 cars, 1 bus, 1 truck, 310.0ms\n",
      "video 1/1 (frame 114/166) c:\\Users\\Yaramis\\Documents\\GitHub\\DataScience\\Deep Learning\\yolo\\smooth_traffic.mp4: 640x384 10 cars, 2 buss, 611.0ms\n",
      "video 1/1 (frame 115/166) c:\\Users\\Yaramis\\Documents\\GitHub\\DataScience\\Deep Learning\\yolo\\smooth_traffic.mp4: 640x384 9 cars, 1 bus, 352.0ms\n",
      "video 1/1 (frame 116/166) c:\\Users\\Yaramis\\Documents\\GitHub\\DataScience\\Deep Learning\\yolo\\smooth_traffic.mp4: 640x384 8 cars, 2 buss, 331.0ms\n",
      "video 1/1 (frame 117/166) c:\\Users\\Yaramis\\Documents\\GitHub\\DataScience\\Deep Learning\\yolo\\smooth_traffic.mp4: 640x384 9 cars, 2 buss, 455.0ms\n",
      "video 1/1 (frame 118/166) c:\\Users\\Yaramis\\Documents\\GitHub\\DataScience\\Deep Learning\\yolo\\smooth_traffic.mp4: 640x384 9 cars, 1 bus, 476.5ms\n",
      "video 1/1 (frame 119/166) c:\\Users\\Yaramis\\Documents\\GitHub\\DataScience\\Deep Learning\\yolo\\smooth_traffic.mp4: 640x384 9 cars, 1 bus, 330.0ms\n",
      "video 1/1 (frame 120/166) c:\\Users\\Yaramis\\Documents\\GitHub\\DataScience\\Deep Learning\\yolo\\smooth_traffic.mp4: 640x384 9 cars, 2 buss, 879.0ms\n",
      "video 1/1 (frame 121/166) c:\\Users\\Yaramis\\Documents\\GitHub\\DataScience\\Deep Learning\\yolo\\smooth_traffic.mp4: 640x384 9 cars, 2 buss, 722.0ms\n",
      "video 1/1 (frame 122/166) c:\\Users\\Yaramis\\Documents\\GitHub\\DataScience\\Deep Learning\\yolo\\smooth_traffic.mp4: 640x384 9 cars, 1 bus, 352.0ms\n",
      "video 1/1 (frame 123/166) c:\\Users\\Yaramis\\Documents\\GitHub\\DataScience\\Deep Learning\\yolo\\smooth_traffic.mp4: 640x384 9 cars, 1 bus, 299.0ms\n",
      "video 1/1 (frame 124/166) c:\\Users\\Yaramis\\Documents\\GitHub\\DataScience\\Deep Learning\\yolo\\smooth_traffic.mp4: 640x384 9 cars, 1 bus, 281.0ms\n",
      "video 1/1 (frame 125/166) c:\\Users\\Yaramis\\Documents\\GitHub\\DataScience\\Deep Learning\\yolo\\smooth_traffic.mp4: 640x384 9 cars, 1 bus, 302.0ms\n",
      "video 1/1 (frame 126/166) c:\\Users\\Yaramis\\Documents\\GitHub\\DataScience\\Deep Learning\\yolo\\smooth_traffic.mp4: 640x384 9 cars, 1 bus, 330.0ms\n",
      "video 1/1 (frame 127/166) c:\\Users\\Yaramis\\Documents\\GitHub\\DataScience\\Deep Learning\\yolo\\smooth_traffic.mp4: 640x384 8 cars, 2 buss, 318.0ms\n",
      "video 1/1 (frame 128/166) c:\\Users\\Yaramis\\Documents\\GitHub\\DataScience\\Deep Learning\\yolo\\smooth_traffic.mp4: 640x384 9 cars, 3 buss, 397.0ms\n",
      "video 1/1 (frame 129/166) c:\\Users\\Yaramis\\Documents\\GitHub\\DataScience\\Deep Learning\\yolo\\smooth_traffic.mp4: 640x384 9 cars, 2 buss, 1 truck, 411.0ms\n",
      "video 1/1 (frame 130/166) c:\\Users\\Yaramis\\Documents\\GitHub\\DataScience\\Deep Learning\\yolo\\smooth_traffic.mp4: 640x384 9 cars, 2 buss, 1 truck, 379.0ms\n",
      "video 1/1 (frame 131/166) c:\\Users\\Yaramis\\Documents\\GitHub\\DataScience\\Deep Learning\\yolo\\smooth_traffic.mp4: 640x384 9 cars, 2 buss, 361.0ms\n",
      "video 1/1 (frame 132/166) c:\\Users\\Yaramis\\Documents\\GitHub\\DataScience\\Deep Learning\\yolo\\smooth_traffic.mp4: 640x384 9 cars, 1 bus, 1 truck, 403.0ms\n",
      "video 1/1 (frame 133/166) c:\\Users\\Yaramis\\Documents\\GitHub\\DataScience\\Deep Learning\\yolo\\smooth_traffic.mp4: 640x384 9 cars, 2 buss, 1 truck, 563.0ms\n",
      "video 1/1 (frame 134/166) c:\\Users\\Yaramis\\Documents\\GitHub\\DataScience\\Deep Learning\\yolo\\smooth_traffic.mp4: 640x384 9 cars, 2 buss, 683.0ms\n",
      "video 1/1 (frame 135/166) c:\\Users\\Yaramis\\Documents\\GitHub\\DataScience\\Deep Learning\\yolo\\smooth_traffic.mp4: 640x384 8 cars, 2 buss, 893.0ms\n",
      "video 1/1 (frame 136/166) c:\\Users\\Yaramis\\Documents\\GitHub\\DataScience\\Deep Learning\\yolo\\smooth_traffic.mp4: 640x384 8 cars, 3 buss, 641.0ms\n",
      "video 1/1 (frame 137/166) c:\\Users\\Yaramis\\Documents\\GitHub\\DataScience\\Deep Learning\\yolo\\smooth_traffic.mp4: 640x384 1 person, 8 cars, 3 buss, 421.0ms\n",
      "video 1/1 (frame 138/166) c:\\Users\\Yaramis\\Documents\\GitHub\\DataScience\\Deep Learning\\yolo\\smooth_traffic.mp4: 640x384 8 cars, 3 buss, 402.0ms\n",
      "video 1/1 (frame 139/166) c:\\Users\\Yaramis\\Documents\\GitHub\\DataScience\\Deep Learning\\yolo\\smooth_traffic.mp4: 640x384 8 cars, 3 buss, 434.0ms\n",
      "video 1/1 (frame 140/166) c:\\Users\\Yaramis\\Documents\\GitHub\\DataScience\\Deep Learning\\yolo\\smooth_traffic.mp4: 640x384 8 cars, 3 buss, 416.9ms\n",
      "video 1/1 (frame 141/166) c:\\Users\\Yaramis\\Documents\\GitHub\\DataScience\\Deep Learning\\yolo\\smooth_traffic.mp4: 640x384 8 cars, 4 buss, 829.5ms\n",
      "video 1/1 (frame 142/166) c:\\Users\\Yaramis\\Documents\\GitHub\\DataScience\\Deep Learning\\yolo\\smooth_traffic.mp4: 640x384 8 cars, 4 buss, 498.3ms\n",
      "video 1/1 (frame 143/166) c:\\Users\\Yaramis\\Documents\\GitHub\\DataScience\\Deep Learning\\yolo\\smooth_traffic.mp4: 640x384 8 cars, 4 buss, 726.0ms\n",
      "video 1/1 (frame 144/166) c:\\Users\\Yaramis\\Documents\\GitHub\\DataScience\\Deep Learning\\yolo\\smooth_traffic.mp4: 640x384 8 cars, 4 buss, 473.0ms\n",
      "video 1/1 (frame 145/166) c:\\Users\\Yaramis\\Documents\\GitHub\\DataScience\\Deep Learning\\yolo\\smooth_traffic.mp4: 640x384 8 cars, 2 buss, 450.0ms\n",
      "video 1/1 (frame 146/166) c:\\Users\\Yaramis\\Documents\\GitHub\\DataScience\\Deep Learning\\yolo\\smooth_traffic.mp4: 640x384 8 cars, 2 buss, 322.0ms\n",
      "video 1/1 (frame 147/166) c:\\Users\\Yaramis\\Documents\\GitHub\\DataScience\\Deep Learning\\yolo\\smooth_traffic.mp4: 640x384 9 cars, 3 buss, 303.0ms\n",
      "video 1/1 (frame 148/166) c:\\Users\\Yaramis\\Documents\\GitHub\\DataScience\\Deep Learning\\yolo\\smooth_traffic.mp4: 640x384 8 cars, 3 buss, 318.0ms\n",
      "video 1/1 (frame 149/166) c:\\Users\\Yaramis\\Documents\\GitHub\\DataScience\\Deep Learning\\yolo\\smooth_traffic.mp4: 640x384 8 cars, 2 buss, 629.0ms\n",
      "video 1/1 (frame 150/166) c:\\Users\\Yaramis\\Documents\\GitHub\\DataScience\\Deep Learning\\yolo\\smooth_traffic.mp4: 640x384 7 cars, 3 buss, 672.0ms\n",
      "video 1/1 (frame 151/166) c:\\Users\\Yaramis\\Documents\\GitHub\\DataScience\\Deep Learning\\yolo\\smooth_traffic.mp4: 640x384 8 cars, 2 buss, 311.0ms\n",
      "video 1/1 (frame 152/166) c:\\Users\\Yaramis\\Documents\\GitHub\\DataScience\\Deep Learning\\yolo\\smooth_traffic.mp4: 640x384 8 cars, 2 buss, 282.0ms\n",
      "video 1/1 (frame 153/166) c:\\Users\\Yaramis\\Documents\\GitHub\\DataScience\\Deep Learning\\yolo\\smooth_traffic.mp4: 640x384 8 cars, 3 buss, 300.0ms\n",
      "video 1/1 (frame 154/166) c:\\Users\\Yaramis\\Documents\\GitHub\\DataScience\\Deep Learning\\yolo\\smooth_traffic.mp4: 640x384 8 cars, 3 buss, 304.0ms\n",
      "video 1/1 (frame 155/166) c:\\Users\\Yaramis\\Documents\\GitHub\\DataScience\\Deep Learning\\yolo\\smooth_traffic.mp4: 640x384 8 cars, 3 buss, 335.0ms\n",
      "video 1/1 (frame 156/166) c:\\Users\\Yaramis\\Documents\\GitHub\\DataScience\\Deep Learning\\yolo\\smooth_traffic.mp4: 640x384 7 cars, 3 buss, 325.0ms\n",
      "video 1/1 (frame 157/166) c:\\Users\\Yaramis\\Documents\\GitHub\\DataScience\\Deep Learning\\yolo\\smooth_traffic.mp4: 640x384 8 cars, 2 buss, 367.0ms\n",
      "video 1/1 (frame 158/166) c:\\Users\\Yaramis\\Documents\\GitHub\\DataScience\\Deep Learning\\yolo\\smooth_traffic.mp4: 640x384 8 cars, 2 buss, 332.0ms\n",
      "video 1/1 (frame 159/166) c:\\Users\\Yaramis\\Documents\\GitHub\\DataScience\\Deep Learning\\yolo\\smooth_traffic.mp4: 640x384 8 cars, 2 buss, 305.0ms\n",
      "video 1/1 (frame 160/166) c:\\Users\\Yaramis\\Documents\\GitHub\\DataScience\\Deep Learning\\yolo\\smooth_traffic.mp4: 640x384 7 cars, 2 buss, 1 chair, 1 dining table, 297.0ms\n",
      "video 1/1 (frame 161/166) c:\\Users\\Yaramis\\Documents\\GitHub\\DataScience\\Deep Learning\\yolo\\smooth_traffic.mp4: 640x384 7 cars, 1 bus, 2 chairs, 1 dining table, 336.0ms\n",
      "video 1/1 (frame 162/166) c:\\Users\\Yaramis\\Documents\\GitHub\\DataScience\\Deep Learning\\yolo\\smooth_traffic.mp4: 640x384 8 cars, 1 bus, 2 chairs, 1 dining table, 643.0ms\n",
      "video 1/1 (frame 163/166) c:\\Users\\Yaramis\\Documents\\GitHub\\DataScience\\Deep Learning\\yolo\\smooth_traffic.mp4: 640x384 7 cars, 1 bus, 3 chairs, 1 dining table, 695.0ms\n",
      "video 1/1 (frame 164/166) c:\\Users\\Yaramis\\Documents\\GitHub\\DataScience\\Deep Learning\\yolo\\smooth_traffic.mp4: 640x384 8 cars, 1 bus, 1 chair, 1 dining table, 476.0ms\n",
      "video 1/1 (frame 165/166) c:\\Users\\Yaramis\\Documents\\GitHub\\DataScience\\Deep Learning\\yolo\\smooth_traffic.mp4: 640x384 8 cars, 1 bus, 1 chair, 339.0ms\n",
      "video 1/1 (frame 166/166) c:\\Users\\Yaramis\\Documents\\GitHub\\DataScience\\Deep Learning\\yolo\\smooth_traffic.mp4: 640x384 6 cars, 1 bus, 1 truck, 2 chairs, 371.0ms\n",
      "Speed: 5.5ms preprocess, 396.5ms inference, 6.5ms postprocess per image at shape (1, 3, 640, 384)\n"
     ]
    }
   ],
   "source": [
    "model = YOLO(\"yolov8n.pt\")  # load a pretrained model (recommended for training)\n",
    "results = model.predict(source=\"smooth_traffic.mp4\")  "
   ]
  },
  {
   "cell_type": "markdown",
   "id": "0e701d8e-645e-49cd-a241-f054fb28d647",
   "metadata": {},
   "source": [
    "Bir video dosyasındaki kare sayısının kaç saniyeye denk geldiği, videonun çerçeve hızına (FPS) bağlıdır. FPS, bir videodaki her saniyede görüntülenen kare sayısını ifade eder. Örneğin, bir video 30 FPS ise, her saniyede 30 kare görüntülenir.\n",
    "\n",
    "Çerçeve hızı bilgisi olmadan doğrudan 166 karenin kaç saniyeye denk geldiğini söylemek zor olur. Ancak genellikle videolar için standart bir çerçeve hızı bulunur. Örneğin, yaygın olarak kullanılan bir çerçeve hızı olan 30 FPS ile hesap yaparsak:"
   ]
  },
  {
   "cell_type": "markdown",
   "id": "e650c90b-1a04-4a41-a322-d0af350d8698",
   "metadata": {},
   "source": [
    "166 / 30 = 5.53 sn "
   ]
  },
  {
   "cell_type": "markdown",
   "id": "60fca601-e2d8-42a6-99ac-0ce6f03136b8",
   "metadata": {},
   "source": [
    "### mAP@50:95 ile mAP@50 arasında ki fark"
   ]
  },
  {
   "cell_type": "markdown",
   "id": "7bdffa2e-84cd-421e-9ce0-3ec24983b5df",
   "metadata": {},
   "source": [
    "mAP@50:95 genellikle daha geniş bir aralığı kapsar ve modelin daha geniş bir doğruluk yelpazesini değerlendirmesine izin verir. Özellikle, daha düşük hassasiyet gerektiren görevlerde (örneğin, geniş nesne tespiti) mAP@50:95 tercih edilebilir. Ancak, bazı durumlarda (örneğin, yüksek hassasiyet gerektiren görevlerde), mAP@50 daha spesifik bir değerlendirme sağlayabilir."
   ]
  }
 ],
 "metadata": {
  "kernelspec": {
   "display_name": "Python 3 (ipykernel)",
   "language": "python",
   "name": "python3"
  },
  "language_info": {
   "codemirror_mode": {
    "name": "ipython",
    "version": 3
   },
   "file_extension": ".py",
   "mimetype": "text/x-python",
   "name": "python",
   "nbconvert_exporter": "python",
   "pygments_lexer": "ipython3",
   "version": "3.11.9"
  }
 },
 "nbformat": 4,
 "nbformat_minor": 5
}
