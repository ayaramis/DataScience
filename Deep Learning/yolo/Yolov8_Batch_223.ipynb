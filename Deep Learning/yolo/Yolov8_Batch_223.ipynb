{
 "cells": [
  {
   "cell_type": "markdown",
   "id": "1652fc9f-bf28-4428-a702-b0c3fb48baa7",
   "metadata": {},
   "source": [
    "https://github.com/ultralytics/ultralytics"
   ]
  },
  {
   "cell_type": "code",
   "execution_count": null,
   "id": "4b4dd1ed",
   "metadata": {},
   "outputs": [],
   "source": [
    "#pip install opencv-python"
   ]
  },
  {
   "cell_type": "code",
   "execution_count": null,
   "id": "dd847f83-ce67-453c-8838-cde0defd63fe",
   "metadata": {},
   "outputs": [],
   "source": [
    "# 3-5 dakika sürebilir"
   ]
  },
  {
   "cell_type": "code",
   "execution_count": 3,
   "id": "e87296ef",
   "metadata": {
    "scrolled": true
   },
   "outputs": [
    {
     "name": "stdout",
     "output_type": "stream",
     "text": [
      "Collecting ultralyticsNote: you may need to restart the kernel to use updated packages.\n"
     ]
    },
    {
     "name": "stderr",
     "output_type": "stream",
     "text": [
      "\n",
      "[notice] A new release of pip is available: 23.3.1 -> 24.0\n",
      "[notice] To update, run: C:\\Users\\Yaramis\\AppData\\Local\\Microsoft\\WindowsApps\\PythonSoftwareFoundation.Python.3.11_qbz5n2kfra8p0\\python.exe -m pip install --upgrade pip\n"
     ]
    },
    {
     "name": "stdout",
     "output_type": "stream",
     "text": [
      "\n",
      "  Using cached ultralytics-8.2.2-py3-none-any.whl.metadata (40 kB)\n",
      "Requirement already satisfied: matplotlib>=3.3.0 in c:\\users\\yaramis\\appdata\\local\\packages\\pythonsoftwarefoundation.python.3.11_qbz5n2kfra8p0\\localcache\\local-packages\\python311\\site-packages (from ultralytics) (3.8.2)\n",
      "Requirement already satisfied: opencv-python>=4.6.0 in c:\\users\\yaramis\\appdata\\local\\packages\\pythonsoftwarefoundation.python.3.11_qbz5n2kfra8p0\\localcache\\local-packages\\python311\\site-packages (from ultralytics) (4.9.0.80)\n",
      "Requirement already satisfied: pillow>=7.1.2 in c:\\users\\yaramis\\appdata\\local\\packages\\pythonsoftwarefoundation.python.3.11_qbz5n2kfra8p0\\localcache\\local-packages\\python311\\site-packages (from ultralytics) (10.1.0)\n",
      "Requirement already satisfied: pyyaml>=5.3.1 in c:\\users\\yaramis\\appdata\\local\\packages\\pythonsoftwarefoundation.python.3.11_qbz5n2kfra8p0\\localcache\\local-packages\\python311\\site-packages (from ultralytics) (6.0.1)\n",
      "Requirement already satisfied: requests>=2.23.0 in c:\\users\\yaramis\\appdata\\local\\packages\\pythonsoftwarefoundation.python.3.11_qbz5n2kfra8p0\\localcache\\local-packages\\python311\\site-packages (from ultralytics) (2.31.0)\n",
      "Requirement already satisfied: scipy>=1.4.1 in c:\\users\\yaramis\\appdata\\local\\packages\\pythonsoftwarefoundation.python.3.11_qbz5n2kfra8p0\\localcache\\local-packages\\python311\\site-packages (from ultralytics) (1.11.4)\n",
      "Requirement already satisfied: torch>=1.8.0 in c:\\users\\yaramis\\appdata\\local\\packages\\pythonsoftwarefoundation.python.3.11_qbz5n2kfra8p0\\localcache\\local-packages\\python311\\site-packages (from ultralytics) (2.1.2)\n",
      "Collecting torchvision>=0.9.0 (from ultralytics)\n",
      "  Using cached torchvision-0.17.2-cp311-cp311-win_amd64.whl.metadata (6.6 kB)\n",
      "Requirement already satisfied: tqdm>=4.64.0 in c:\\users\\yaramis\\appdata\\local\\packages\\pythonsoftwarefoundation.python.3.11_qbz5n2kfra8p0\\localcache\\local-packages\\python311\\site-packages (from ultralytics) (4.66.1)\n",
      "Requirement already satisfied: psutil in c:\\users\\yaramis\\appdata\\local\\packages\\pythonsoftwarefoundation.python.3.11_qbz5n2kfra8p0\\localcache\\local-packages\\python311\\site-packages (from ultralytics) (5.9.6)\n",
      "Requirement already satisfied: py-cpuinfo in c:\\users\\yaramis\\appdata\\local\\packages\\pythonsoftwarefoundation.python.3.11_qbz5n2kfra8p0\\localcache\\local-packages\\python311\\site-packages (from ultralytics) (9.0.0)\n",
      "Collecting thop>=0.1.1 (from ultralytics)\n",
      "  Using cached thop-0.1.1.post2209072238-py3-none-any.whl.metadata (2.7 kB)\n",
      "Requirement already satisfied: pandas>=1.1.4 in c:\\users\\yaramis\\appdata\\local\\packages\\pythonsoftwarefoundation.python.3.11_qbz5n2kfra8p0\\localcache\\local-packages\\python311\\site-packages (from ultralytics) (2.1.4)\n",
      "Requirement already satisfied: seaborn>=0.11.0 in c:\\users\\yaramis\\appdata\\local\\packages\\pythonsoftwarefoundation.python.3.11_qbz5n2kfra8p0\\localcache\\local-packages\\python311\\site-packages (from ultralytics) (0.13.2)\n",
      "Requirement already satisfied: contourpy>=1.0.1 in c:\\users\\yaramis\\appdata\\local\\packages\\pythonsoftwarefoundation.python.3.11_qbz5n2kfra8p0\\localcache\\local-packages\\python311\\site-packages (from matplotlib>=3.3.0->ultralytics) (1.2.0)\n",
      "Requirement already satisfied: cycler>=0.10 in c:\\users\\yaramis\\appdata\\local\\packages\\pythonsoftwarefoundation.python.3.11_qbz5n2kfra8p0\\localcache\\local-packages\\python311\\site-packages (from matplotlib>=3.3.0->ultralytics) (0.12.1)\n",
      "Requirement already satisfied: fonttools>=4.22.0 in c:\\users\\yaramis\\appdata\\local\\packages\\pythonsoftwarefoundation.python.3.11_qbz5n2kfra8p0\\localcache\\local-packages\\python311\\site-packages (from matplotlib>=3.3.0->ultralytics) (4.47.0)\n",
      "Requirement already satisfied: kiwisolver>=1.3.1 in c:\\users\\yaramis\\appdata\\local\\packages\\pythonsoftwarefoundation.python.3.11_qbz5n2kfra8p0\\localcache\\local-packages\\python311\\site-packages (from matplotlib>=3.3.0->ultralytics) (1.4.5)\n",
      "Requirement already satisfied: numpy<2,>=1.21 in c:\\users\\yaramis\\appdata\\local\\packages\\pythonsoftwarefoundation.python.3.11_qbz5n2kfra8p0\\localcache\\local-packages\\python311\\site-packages (from matplotlib>=3.3.0->ultralytics) (1.25.2)\n",
      "Requirement already satisfied: packaging>=20.0 in c:\\users\\yaramis\\appdata\\local\\packages\\pythonsoftwarefoundation.python.3.11_qbz5n2kfra8p0\\localcache\\local-packages\\python311\\site-packages (from matplotlib>=3.3.0->ultralytics) (23.2)\n",
      "Requirement already satisfied: pyparsing>=2.3.1 in c:\\users\\yaramis\\appdata\\local\\packages\\pythonsoftwarefoundation.python.3.11_qbz5n2kfra8p0\\localcache\\local-packages\\python311\\site-packages (from matplotlib>=3.3.0->ultralytics) (3.1.1)\n",
      "Requirement already satisfied: python-dateutil>=2.7 in c:\\users\\yaramis\\appdata\\local\\packages\\pythonsoftwarefoundation.python.3.11_qbz5n2kfra8p0\\localcache\\local-packages\\python311\\site-packages (from matplotlib>=3.3.0->ultralytics) (2.8.2)\n",
      "Requirement already satisfied: pytz>=2020.1 in c:\\users\\yaramis\\appdata\\local\\packages\\pythonsoftwarefoundation.python.3.11_qbz5n2kfra8p0\\localcache\\local-packages\\python311\\site-packages (from pandas>=1.1.4->ultralytics) (2023.3.post1)\n",
      "Requirement already satisfied: tzdata>=2022.1 in c:\\users\\yaramis\\appdata\\local\\packages\\pythonsoftwarefoundation.python.3.11_qbz5n2kfra8p0\\localcache\\local-packages\\python311\\site-packages (from pandas>=1.1.4->ultralytics) (2023.3)\n",
      "Requirement already satisfied: charset-normalizer<4,>=2 in c:\\users\\yaramis\\appdata\\local\\packages\\pythonsoftwarefoundation.python.3.11_qbz5n2kfra8p0\\localcache\\local-packages\\python311\\site-packages (from requests>=2.23.0->ultralytics) (3.3.1)\n",
      "Requirement already satisfied: idna<4,>=2.5 in c:\\users\\yaramis\\appdata\\local\\packages\\pythonsoftwarefoundation.python.3.11_qbz5n2kfra8p0\\localcache\\local-packages\\python311\\site-packages (from requests>=2.23.0->ultralytics) (3.4)\n",
      "Requirement already satisfied: urllib3<3,>=1.21.1 in c:\\users\\yaramis\\appdata\\local\\packages\\pythonsoftwarefoundation.python.3.11_qbz5n2kfra8p0\\localcache\\local-packages\\python311\\site-packages (from requests>=2.23.0->ultralytics) (2.0.7)\n",
      "Requirement already satisfied: certifi>=2017.4.17 in c:\\users\\yaramis\\appdata\\local\\packages\\pythonsoftwarefoundation.python.3.11_qbz5n2kfra8p0\\localcache\\local-packages\\python311\\site-packages (from requests>=2.23.0->ultralytics) (2023.7.22)\n",
      "Requirement already satisfied: filelock in c:\\users\\yaramis\\appdata\\local\\packages\\pythonsoftwarefoundation.python.3.11_qbz5n2kfra8p0\\localcache\\local-packages\\python311\\site-packages (from torch>=1.8.0->ultralytics) (3.13.1)\n",
      "Requirement already satisfied: typing-extensions in c:\\users\\yaramis\\appdata\\local\\packages\\pythonsoftwarefoundation.python.3.11_qbz5n2kfra8p0\\localcache\\local-packages\\python311\\site-packages (from torch>=1.8.0->ultralytics) (4.9.0)\n",
      "Requirement already satisfied: sympy in c:\\users\\yaramis\\appdata\\local\\packages\\pythonsoftwarefoundation.python.3.11_qbz5n2kfra8p0\\localcache\\local-packages\\python311\\site-packages (from torch>=1.8.0->ultralytics) (1.12)\n",
      "Requirement already satisfied: networkx in c:\\users\\yaramis\\appdata\\local\\packages\\pythonsoftwarefoundation.python.3.11_qbz5n2kfra8p0\\localcache\\local-packages\\python311\\site-packages (from torch>=1.8.0->ultralytics) (3.2.1)\n",
      "Requirement already satisfied: jinja2 in c:\\users\\yaramis\\appdata\\local\\packages\\pythonsoftwarefoundation.python.3.11_qbz5n2kfra8p0\\localcache\\local-packages\\python311\\site-packages (from torch>=1.8.0->ultralytics) (3.1.2)\n",
      "Requirement already satisfied: fsspec in c:\\users\\yaramis\\appdata\\local\\packages\\pythonsoftwarefoundation.python.3.11_qbz5n2kfra8p0\\localcache\\local-packages\\python311\\site-packages (from torch>=1.8.0->ultralytics) (2023.12.2)\n",
      "Collecting torch>=1.8.0 (from ultralytics)\n",
      "  Using cached torch-2.2.2-cp311-cp311-win_amd64.whl.metadata (26 kB)\n",
      "Requirement already satisfied: colorama in c:\\users\\yaramis\\appdata\\local\\packages\\pythonsoftwarefoundation.python.3.11_qbz5n2kfra8p0\\localcache\\local-packages\\python311\\site-packages (from tqdm>=4.64.0->ultralytics) (0.4.6)\n",
      "Requirement already satisfied: six>=1.5 in c:\\users\\yaramis\\appdata\\local\\packages\\pythonsoftwarefoundation.python.3.11_qbz5n2kfra8p0\\localcache\\local-packages\\python311\\site-packages (from python-dateutil>=2.7->matplotlib>=3.3.0->ultralytics) (1.16.0)\n",
      "Requirement already satisfied: MarkupSafe>=2.0 in c:\\users\\yaramis\\appdata\\local\\packages\\pythonsoftwarefoundation.python.3.11_qbz5n2kfra8p0\\localcache\\local-packages\\python311\\site-packages (from jinja2->torch>=1.8.0->ultralytics) (2.1.3)\n",
      "Requirement already satisfied: mpmath>=0.19 in c:\\users\\yaramis\\appdata\\local\\packages\\pythonsoftwarefoundation.python.3.11_qbz5n2kfra8p0\\localcache\\local-packages\\python311\\site-packages (from sympy->torch>=1.8.0->ultralytics) (1.3.0)\n",
      "Using cached ultralytics-8.2.2-py3-none-any.whl (750 kB)\n",
      "Using cached thop-0.1.1.post2209072238-py3-none-any.whl (15 kB)\n",
      "Using cached torchvision-0.17.2-cp311-cp311-win_amd64.whl (1.2 MB)\n",
      "Using cached torch-2.2.2-cp311-cp311-win_amd64.whl (198.6 MB)\n",
      "Installing collected packages: torch, torchvision, thop, ultralytics\n",
      "  Attempting uninstall: torch\n",
      "    Found existing installation: torch 2.1.2\n",
      "    Uninstalling torch-2.1.2:\n",
      "      Successfully uninstalled torch-2.1.2\n",
      "Successfully installed thop-0.1.1.post2209072238 torch-2.2.2 torchvision-0.17.2 ultralytics-8.2.2\n"
     ]
    }
   ],
   "source": [
    "pip install ultralytics           "
   ]
  },
  {
   "cell_type": "markdown",
   "id": "1f561cc1-ed17-408f-9d54-369110cd5d1c",
   "metadata": {},
   "source": [
    "YOLO, görüntüyü bir kez işleyerek nesneleri tespit etme yeteneğine sahiptir (\"You Only Look Once\" yani \"Bir Kez Bakıyoruz\" anlamına gelir).\n",
    "\n",
    "Görüntü, önceden tanımlanmış bir ölçeğe sahip bir ızgara (grid) bölgesine ayrılır. Her ızgara hücresi belirli bir sayıda tahmin kutusu (bounding box) içerir.\n",
    "\n",
    "Her bir tahmin kutusu, o bölgede bulunabilecek nesnelerin sınıfını ve konumunu tahmin etmek için kullanılır. Bu tahminler, derin bir evrişimli sinir ağı (CNN) aracılığıyla yapılır.\n",
    "\n",
    "Sonuç olarak, YOLO aynı anda birden fazla nesneyi tespit edebilir ve bu tespitleri bir çıktı olarak verir.\n",
    "\n",
    "Özetle, YOLO'nun özel çalışma mantığı, görüntüyü ızgaralara bölmek ve her bir ızgara hücresindeki tahmin kutuları aracılığıyla nesne tespiti yapmaktır. Diğer yandan, CNN genel olarak bir görüntü veri setinden özellikler çıkarmak ve bu özellikleri kullanarak çeşitli görevler gerçekleştirmek için kullanılır. YOLO, içinde CNN tabanlı katmanlar barındıran bir nesne tespiti modelidir."
   ]
  },
  {
   "cell_type": "code",
   "execution_count": 5,
   "id": "0e2cf3c9",
   "metadata": {},
   "outputs": [],
   "source": [
    "from ultralytics import YOLO\n",
    "#from ultralytics.yolo.v8.detect.predict import DetectionPredictor   \n",
    "from ultralytics.models.yolo.detect import DetectionPredictor    # hata alanlar bu işlemi deneyebilir\n",
    "import cv2\n",
    "\n",
    "import numpy as np\n",
    "import matplotlib.pyplot as plt"
   ]
  },
  {
   "cell_type": "markdown",
   "id": "42f9089e-ab79-4caa-b313-ee14cc7457e1",
   "metadata": {},
   "source": [
    "**Not:** kamerayı kapatmak için kerneli kapat (shut down)"
   ]
  },
  {
   "cell_type": "code",
   "execution_count": 6,
   "id": "1da6291c",
   "metadata": {
    "scrolled": true,
    "tags": []
   },
   "outputs": [
    {
     "name": "stdout",
     "output_type": "stream",
     "text": [
      "\n",
      "1/1: 0... Success  (inf frames of shape 640x480 at 30.00 FPS)\n",
      "\n",
      "\n",
      "WARNING  inference results will accumulate in RAM unless `stream=True` is passed, causing potential out-of-memory\n",
      "errors for large sources or long-running streams and videos. See https://docs.ultralytics.com/modes/predict/ for help.\n",
      "\n",
      "Example:\n",
      "    results = model(source=..., stream=True)  # generator of Results objects\n",
      "    for r in results:\n",
      "        boxes = r.boxes  # Boxes object for bbox outputs\n",
      "        masks = r.masks  # Masks object for segment masks outputs\n",
      "        probs = r.probs  # Class probabilities for classification outputs\n",
      "\n"
     ]
    }
   ],
   "source": [
    "# Load a model\n",
    "model = YOLO(\"yolov8n.pt\")            # load a pretrained model (recommended for training)\n",
    "\n",
    "# Use the model\n",
    "results= model.predict(source=\"0\", show=True)\n",
    "print(results)"
   ]
  },
  {
   "cell_type": "code",
   "execution_count": 2,
   "id": "cfb302a6",
   "metadata": {},
   "outputs": [
    {
     "name": "stdout",
     "output_type": "stream",
     "text": [
      "\n",
      "image 1/1 C:\\Users\\mertu\\Masast\\Batch223\\3-Computer Vission\\YoloV8\\dog.png: 448x640 1 dog, 380.3ms\n",
      "Speed: 10.4ms preprocess, 380.3ms inference, 2295.1ms postprocess per image at shape (1, 3, 448, 640)\n"
     ]
    }
   ],
   "source": [
    "model = YOLO(\"yolov8n.pt\")            # load a pretrained model (recommended for training)\n",
    "result_1 = model.predict(\"dog.png\")"
   ]
  },
  {
   "cell_type": "code",
   "execution_count": 3,
   "id": "2e041477",
   "metadata": {},
   "outputs": [
    {
     "name": "stdout",
     "output_type": "stream",
     "text": [
      "\n",
      "image 1/1 C:\\Users\\mertu\\Masast\\Batch223\\3-Computer Vission\\YoloV8\\sky.jpg: 384x640 1 airplane, 403.7ms\n",
      "Speed: 0.0ms preprocess, 403.7ms inference, 6.4ms postprocess per image at shape (1, 3, 384, 640)\n"
     ]
    }
   ],
   "source": [
    "model = YOLO(\"yolov8n.pt\")  # load a pretrained model (recommended for training)\n",
    "result_2 = model.predict(\"sky.jpg\")"
   ]
  },
  {
   "cell_type": "code",
   "execution_count": 4,
   "id": "c43ebb3b",
   "metadata": {
    "scrolled": true
   },
   "outputs": [
    {
     "name": "stdout",
     "output_type": "stream",
     "text": [
      "\n",
      "\n",
      "WARNING  inference results will accumulate in RAM unless `stream=True` is passed, causing potential out-of-memory\n",
      "errors for large sources or long-running streams and videos. See https://docs.ultralytics.com/modes/predict/ for help.\n",
      "\n",
      "Example:\n",
      "    results = model(source=..., stream=True)  # generator of Results objects\n",
      "    for r in results:\n",
      "        boxes = r.boxes  # Boxes object for bbox outputs\n",
      "        masks = r.masks  # Masks object for segment masks outputs\n",
      "        probs = r.probs  # Class probabilities for classification outputs\n",
      "\n",
      "video 1/1 (frame 1/166) C:\\Users\\mertu\\Masast\\Batch223\\3-Computer Vission\\YoloV8\\smooth_traffic.mp4: 640x384 9 cars, 1 bus, 1 truck, 372.7ms\n",
      "video 1/1 (frame 2/166) C:\\Users\\mertu\\Masast\\Batch223\\3-Computer Vission\\YoloV8\\smooth_traffic.mp4: 640x384 9 cars, 2 buss, 1 truck, 333.5ms\n",
      "video 1/1 (frame 3/166) C:\\Users\\mertu\\Masast\\Batch223\\3-Computer Vission\\YoloV8\\smooth_traffic.mp4: 640x384 1 person, 9 cars, 2 buss, 343.0ms\n",
      "video 1/1 (frame 4/166) C:\\Users\\mertu\\Masast\\Batch223\\3-Computer Vission\\YoloV8\\smooth_traffic.mp4: 640x384 1 person, 9 cars, 2 buss, 326.0ms\n",
      "video 1/1 (frame 5/166) C:\\Users\\mertu\\Masast\\Batch223\\3-Computer Vission\\YoloV8\\smooth_traffic.mp4: 640x384 1 person, 9 cars, 2 buss, 317.8ms\n",
      "video 1/1 (frame 6/166) C:\\Users\\mertu\\Masast\\Batch223\\3-Computer Vission\\YoloV8\\smooth_traffic.mp4: 640x384 1 person, 8 cars, 2 buss, 305.4ms\n",
      "video 1/1 (frame 7/166) C:\\Users\\mertu\\Masast\\Batch223\\3-Computer Vission\\YoloV8\\smooth_traffic.mp4: 640x384 1 person, 8 cars, 2 buss, 333.6ms\n",
      "video 1/1 (frame 8/166) C:\\Users\\mertu\\Masast\\Batch223\\3-Computer Vission\\YoloV8\\smooth_traffic.mp4: 640x384 1 person, 9 cars, 2 buss, 1 truck, 327.3ms\n",
      "video 1/1 (frame 9/166) C:\\Users\\mertu\\Masast\\Batch223\\3-Computer Vission\\YoloV8\\smooth_traffic.mp4: 640x384 1 person, 9 cars, 1 bus, 1 truck, 329.2ms\n",
      "video 1/1 (frame 10/166) C:\\Users\\mertu\\Masast\\Batch223\\3-Computer Vission\\YoloV8\\smooth_traffic.mp4: 640x384 1 person, 8 cars, 3 buss, 1 truck, 332.8ms\n",
      "video 1/1 (frame 11/166) C:\\Users\\mertu\\Masast\\Batch223\\3-Computer Vission\\YoloV8\\smooth_traffic.mp4: 640x384 1 person, 9 cars, 4 buss, 326.0ms\n",
      "video 1/1 (frame 12/166) C:\\Users\\mertu\\Masast\\Batch223\\3-Computer Vission\\YoloV8\\smooth_traffic.mp4: 640x384 1 person, 10 cars, 2 buss, 1 truck, 326.3ms\n",
      "video 1/1 (frame 13/166) C:\\Users\\mertu\\Masast\\Batch223\\3-Computer Vission\\YoloV8\\smooth_traffic.mp4: 640x384 1 person, 10 cars, 2 buss, 1 truck, 349.2ms\n",
      "video 1/1 (frame 14/166) C:\\Users\\mertu\\Masast\\Batch223\\3-Computer Vission\\YoloV8\\smooth_traffic.mp4: 640x384 1 person, 11 cars, 250.3ms\n",
      "video 1/1 (frame 15/166) C:\\Users\\mertu\\Masast\\Batch223\\3-Computer Vission\\YoloV8\\smooth_traffic.mp4: 640x384 1 person, 11 cars, 2 buss, 1 truck, 255.6ms\n",
      "video 1/1 (frame 16/166) C:\\Users\\mertu\\Masast\\Batch223\\3-Computer Vission\\YoloV8\\smooth_traffic.mp4: 640x384 10 cars, 2 buss, 2 trucks, 345.6ms\n",
      "video 1/1 (frame 17/166) C:\\Users\\mertu\\Masast\\Batch223\\3-Computer Vission\\YoloV8\\smooth_traffic.mp4: 640x384 1 person, 11 cars, 1 bus, 2 trucks, 335.2ms\n",
      "video 1/1 (frame 18/166) C:\\Users\\mertu\\Masast\\Batch223\\3-Computer Vission\\YoloV8\\smooth_traffic.mp4: 640x384 1 person, 9 cars, 2 buss, 1 truck, 386.8ms\n",
      "video 1/1 (frame 19/166) C:\\Users\\mertu\\Masast\\Batch223\\3-Computer Vission\\YoloV8\\smooth_traffic.mp4: 640x384 1 person, 8 cars, 3 buss, 1 truck, 357.3ms\n",
      "video 1/1 (frame 20/166) C:\\Users\\mertu\\Masast\\Batch223\\3-Computer Vission\\YoloV8\\smooth_traffic.mp4: 640x384 1 person, 10 cars, 2 buss, 1 truck, 282.5ms\n",
      "video 1/1 (frame 21/166) C:\\Users\\mertu\\Masast\\Batch223\\3-Computer Vission\\YoloV8\\smooth_traffic.mp4: 640x384 1 person, 10 cars, 2 buss, 1 truck, 274.0ms\n",
      "video 1/1 (frame 22/166) C:\\Users\\mertu\\Masast\\Batch223\\3-Computer Vission\\YoloV8\\smooth_traffic.mp4: 640x384 1 person, 12 cars, 2 buss, 271.6ms\n",
      "video 1/1 (frame 23/166) C:\\Users\\mertu\\Masast\\Batch223\\3-Computer Vission\\YoloV8\\smooth_traffic.mp4: 640x384 1 person, 12 cars, 2 buss, 315.6ms\n",
      "video 1/1 (frame 24/166) C:\\Users\\mertu\\Masast\\Batch223\\3-Computer Vission\\YoloV8\\smooth_traffic.mp4: 640x384 1 person, 12 cars, 2 buss, 402.3ms\n",
      "video 1/1 (frame 25/166) C:\\Users\\mertu\\Masast\\Batch223\\3-Computer Vission\\YoloV8\\smooth_traffic.mp4: 640x384 1 person, 11 cars, 2 buss, 1 toilet, 317.6ms\n",
      "video 1/1 (frame 26/166) C:\\Users\\mertu\\Masast\\Batch223\\3-Computer Vission\\YoloV8\\smooth_traffic.mp4: 640x384 1 person, 11 cars, 2 buss, 1 toilet, 317.4ms\n",
      "video 1/1 (frame 27/166) C:\\Users\\mertu\\Masast\\Batch223\\3-Computer Vission\\YoloV8\\smooth_traffic.mp4: 640x384 1 person, 10 cars, 2 buss, 1 toilet, 328.7ms\n",
      "video 1/1 (frame 28/166) C:\\Users\\mertu\\Masast\\Batch223\\3-Computer Vission\\YoloV8\\smooth_traffic.mp4: 640x384 1 person, 12 cars, 2 buss, 342.3ms\n",
      "video 1/1 (frame 29/166) C:\\Users\\mertu\\Masast\\Batch223\\3-Computer Vission\\YoloV8\\smooth_traffic.mp4: 640x384 1 person, 11 cars, 1 bus, 334.6ms\n",
      "video 1/1 (frame 30/166) C:\\Users\\mertu\\Masast\\Batch223\\3-Computer Vission\\YoloV8\\smooth_traffic.mp4: 640x384 1 person, 11 cars, 2 buss, 334.8ms\n",
      "video 1/1 (frame 31/166) C:\\Users\\mertu\\Masast\\Batch223\\3-Computer Vission\\YoloV8\\smooth_traffic.mp4: 640x384 1 person, 11 cars, 1 bus, 304.8ms\n",
      "video 1/1 (frame 32/166) C:\\Users\\mertu\\Masast\\Batch223\\3-Computer Vission\\YoloV8\\smooth_traffic.mp4: 640x384 1 person, 11 cars, 1 bus, 333.1ms\n",
      "video 1/1 (frame 33/166) C:\\Users\\mertu\\Masast\\Batch223\\3-Computer Vission\\YoloV8\\smooth_traffic.mp4: 640x384 1 person, 11 cars, 1 bus, 349.9ms\n",
      "video 1/1 (frame 34/166) C:\\Users\\mertu\\Masast\\Batch223\\3-Computer Vission\\YoloV8\\smooth_traffic.mp4: 640x384 1 person, 9 cars, 1 bus, 1 dining table, 327.6ms\n",
      "video 1/1 (frame 35/166) C:\\Users\\mertu\\Masast\\Batch223\\3-Computer Vission\\YoloV8\\smooth_traffic.mp4: 640x384 1 person, 10 cars, 1 bus, 328.3ms\n",
      "video 1/1 (frame 36/166) C:\\Users\\mertu\\Masast\\Batch223\\3-Computer Vission\\YoloV8\\smooth_traffic.mp4: 640x384 1 person, 10 cars, 1 bus, 1 truck, 334.0ms\n",
      "video 1/1 (frame 37/166) C:\\Users\\mertu\\Masast\\Batch223\\3-Computer Vission\\YoloV8\\smooth_traffic.mp4: 640x384 1 person, 10 cars, 1 bus, 1 truck, 374.5ms\n",
      "video 1/1 (frame 38/166) C:\\Users\\mertu\\Masast\\Batch223\\3-Computer Vission\\YoloV8\\smooth_traffic.mp4: 640x384 1 person, 11 cars, 1 bus, 1 truck, 344.3ms\n",
      "video 1/1 (frame 39/166) C:\\Users\\mertu\\Masast\\Batch223\\3-Computer Vission\\YoloV8\\smooth_traffic.mp4: 640x384 1 person, 12 cars, 1 bus, 1 truck, 319.9ms\n",
      "video 1/1 (frame 40/166) C:\\Users\\mertu\\Masast\\Batch223\\3-Computer Vission\\YoloV8\\smooth_traffic.mp4: 640x384 1 person, 10 cars, 2 buss, 1 truck, 1 chair, 343.9ms\n",
      "video 1/1 (frame 41/166) C:\\Users\\mertu\\Masast\\Batch223\\3-Computer Vission\\YoloV8\\smooth_traffic.mp4: 640x384 1 person, 10 cars, 1 bus, 324.9ms\n",
      "video 1/1 (frame 42/166) C:\\Users\\mertu\\Masast\\Batch223\\3-Computer Vission\\YoloV8\\smooth_traffic.mp4: 640x384 1 person, 10 cars, 1 bus, 333.0ms\n",
      "video 1/1 (frame 43/166) C:\\Users\\mertu\\Masast\\Batch223\\3-Computer Vission\\YoloV8\\smooth_traffic.mp4: 640x384 1 person, 11 cars, 1 bus, 331.8ms\n",
      "video 1/1 (frame 44/166) C:\\Users\\mertu\\Masast\\Batch223\\3-Computer Vission\\YoloV8\\smooth_traffic.mp4: 640x384 1 person, 11 cars, 1 bus, 1 truck, 330.8ms\n",
      "video 1/1 (frame 45/166) C:\\Users\\mertu\\Masast\\Batch223\\3-Computer Vission\\YoloV8\\smooth_traffic.mp4: 640x384 1 person, 10 cars, 2 buss, 1 truck, 333.4ms\n",
      "video 1/1 (frame 46/166) C:\\Users\\mertu\\Masast\\Batch223\\3-Computer Vission\\YoloV8\\smooth_traffic.mp4: 640x384 1 person, 10 cars, 3 buss, 1 truck, 328.4ms\n",
      "video 1/1 (frame 47/166) C:\\Users\\mertu\\Masast\\Batch223\\3-Computer Vission\\YoloV8\\smooth_traffic.mp4: 640x384 9 cars, 2 buss, 1 truck, 336.0ms\n",
      "video 1/1 (frame 48/166) C:\\Users\\mertu\\Masast\\Batch223\\3-Computer Vission\\YoloV8\\smooth_traffic.mp4: 640x384 9 cars, 2 buss, 332.6ms\n",
      "video 1/1 (frame 49/166) C:\\Users\\mertu\\Masast\\Batch223\\3-Computer Vission\\YoloV8\\smooth_traffic.mp4: 640x384 9 cars, 2 buss, 330.2ms\n",
      "video 1/1 (frame 50/166) C:\\Users\\mertu\\Masast\\Batch223\\3-Computer Vission\\YoloV8\\smooth_traffic.mp4: 640x384 2 persons, 9 cars, 2 buss, 327.4ms\n",
      "video 1/1 (frame 51/166) C:\\Users\\mertu\\Masast\\Batch223\\3-Computer Vission\\YoloV8\\smooth_traffic.mp4: 640x384 2 persons, 11 cars, 3 buss, 1 truck, 263.6ms\n",
      "video 1/1 (frame 52/166) C:\\Users\\mertu\\Masast\\Batch223\\3-Computer Vission\\YoloV8\\smooth_traffic.mp4: 640x384 2 persons, 9 cars, 3 buss, 1 truck, 346.7ms\n",
      "video 1/1 (frame 53/166) C:\\Users\\mertu\\Masast\\Batch223\\3-Computer Vission\\YoloV8\\smooth_traffic.mp4: 640x384 2 persons, 10 cars, 3 buss, 320.3ms\n",
      "video 1/1 (frame 54/166) C:\\Users\\mertu\\Masast\\Batch223\\3-Computer Vission\\YoloV8\\smooth_traffic.mp4: 640x384 1 person, 9 cars, 2 buss, 1 truck, 357.1ms\n",
      "video 1/1 (frame 55/166) C:\\Users\\mertu\\Masast\\Batch223\\3-Computer Vission\\YoloV8\\smooth_traffic.mp4: 640x384 1 person, 10 cars, 2 buss, 335.1ms\n",
      "video 1/1 (frame 56/166) C:\\Users\\mertu\\Masast\\Batch223\\3-Computer Vission\\YoloV8\\smooth_traffic.mp4: 640x384 1 person, 8 cars, 3 buss, 323.4ms\n",
      "video 1/1 (frame 57/166) C:\\Users\\mertu\\Masast\\Batch223\\3-Computer Vission\\YoloV8\\smooth_traffic.mp4: 640x384 2 persons, 7 cars, 3 buss, 340.7ms\n",
      "video 1/1 (frame 58/166) C:\\Users\\mertu\\Masast\\Batch223\\3-Computer Vission\\YoloV8\\smooth_traffic.mp4: 640x384 1 person, 8 cars, 3 buss, 347.7ms\n",
      "video 1/1 (frame 59/166) C:\\Users\\mertu\\Masast\\Batch223\\3-Computer Vission\\YoloV8\\smooth_traffic.mp4: 640x384 1 person, 8 cars, 3 buss, 285.8ms\n",
      "video 1/1 (frame 60/166) C:\\Users\\mertu\\Masast\\Batch223\\3-Computer Vission\\YoloV8\\smooth_traffic.mp4: 640x384 1 person, 9 cars, 2 buss, 310.9ms\n",
      "video 1/1 (frame 61/166) C:\\Users\\mertu\\Masast\\Batch223\\3-Computer Vission\\YoloV8\\smooth_traffic.mp4: 640x384 1 person, 9 cars, 3 buss, 333.3ms\n",
      "video 1/1 (frame 62/166) C:\\Users\\mertu\\Masast\\Batch223\\3-Computer Vission\\YoloV8\\smooth_traffic.mp4: 640x384 1 person, 9 cars, 3 buss, 321.2ms\n",
      "video 1/1 (frame 63/166) C:\\Users\\mertu\\Masast\\Batch223\\3-Computer Vission\\YoloV8\\smooth_traffic.mp4: 640x384 1 person, 9 cars, 3 buss, 378.1ms\n",
      "video 1/1 (frame 64/166) C:\\Users\\mertu\\Masast\\Batch223\\3-Computer Vission\\YoloV8\\smooth_traffic.mp4: 640x384 1 person, 9 cars, 3 buss, 1 truck, 382.9ms\n",
      "video 1/1 (frame 65/166) C:\\Users\\mertu\\Masast\\Batch223\\3-Computer Vission\\YoloV8\\smooth_traffic.mp4: 640x384 1 person, 11 cars, 3 buss, 280.7ms\n",
      "video 1/1 (frame 66/166) C:\\Users\\mertu\\Masast\\Batch223\\3-Computer Vission\\YoloV8\\smooth_traffic.mp4: 640x384 1 person, 9 cars, 2 buss, 317.6ms\n",
      "video 1/1 (frame 67/166) C:\\Users\\mertu\\Masast\\Batch223\\3-Computer Vission\\YoloV8\\smooth_traffic.mp4: 640x384 1 person, 12 cars, 2 buss, 354.4ms\n",
      "video 1/1 (frame 68/166) C:\\Users\\mertu\\Masast\\Batch223\\3-Computer Vission\\YoloV8\\smooth_traffic.mp4: 640x384 1 person, 12 cars, 3 buss, 287.3ms\n",
      "video 1/1 (frame 69/166) C:\\Users\\mertu\\Masast\\Batch223\\3-Computer Vission\\YoloV8\\smooth_traffic.mp4: 640x384 1 person, 12 cars, 2 buss, 346.9ms\n",
      "video 1/1 (frame 70/166) C:\\Users\\mertu\\Masast\\Batch223\\3-Computer Vission\\YoloV8\\smooth_traffic.mp4: 640x384 1 person, 13 cars, 2 buss, 298.3ms\n",
      "video 1/1 (frame 71/166) C:\\Users\\mertu\\Masast\\Batch223\\3-Computer Vission\\YoloV8\\smooth_traffic.mp4: 640x384 1 person, 10 cars, 2 buss, 308.1ms\n",
      "video 1/1 (frame 72/166) C:\\Users\\mertu\\Masast\\Batch223\\3-Computer Vission\\YoloV8\\smooth_traffic.mp4: 640x384 10 cars, 3 buss, 229.3ms\n",
      "video 1/1 (frame 73/166) C:\\Users\\mertu\\Masast\\Batch223\\3-Computer Vission\\YoloV8\\smooth_traffic.mp4: 640x384 10 cars, 2 buss, 301.4ms\n",
      "video 1/1 (frame 74/166) C:\\Users\\mertu\\Masast\\Batch223\\3-Computer Vission\\YoloV8\\smooth_traffic.mp4: 640x384 1 person, 10 cars, 2 buss, 315.1ms\n",
      "video 1/1 (frame 75/166) C:\\Users\\mertu\\Masast\\Batch223\\3-Computer Vission\\YoloV8\\smooth_traffic.mp4: 640x384 1 person, 11 cars, 2 buss, 306.3ms\n",
      "video 1/1 (frame 76/166) C:\\Users\\mertu\\Masast\\Batch223\\3-Computer Vission\\YoloV8\\smooth_traffic.mp4: 640x384 1 person, 9 cars, 4 buss, 330.9ms\n",
      "video 1/1 (frame 77/166) C:\\Users\\mertu\\Masast\\Batch223\\3-Computer Vission\\YoloV8\\smooth_traffic.mp4: 640x384 1 person, 9 cars, 4 buss, 364.0ms\n",
      "video 1/1 (frame 78/166) C:\\Users\\mertu\\Masast\\Batch223\\3-Computer Vission\\YoloV8\\smooth_traffic.mp4: 640x384 1 person, 10 cars, 4 buss, 284.8ms\n",
      "video 1/1 (frame 79/166) C:\\Users\\mertu\\Masast\\Batch223\\3-Computer Vission\\YoloV8\\smooth_traffic.mp4: 640x384 11 cars, 4 buss, 344.9ms\n",
      "video 1/1 (frame 80/166) C:\\Users\\mertu\\Masast\\Batch223\\3-Computer Vission\\YoloV8\\smooth_traffic.mp4: 640x384 1 person, 11 cars, 2 buss, 223.3ms\n",
      "video 1/1 (frame 81/166) C:\\Users\\mertu\\Masast\\Batch223\\3-Computer Vission\\YoloV8\\smooth_traffic.mp4: 640x384 10 cars, 3 buss, 335.8ms\n",
      "video 1/1 (frame 82/166) C:\\Users\\mertu\\Masast\\Batch223\\3-Computer Vission\\YoloV8\\smooth_traffic.mp4: 640x384 11 cars, 2 buss, 1 truck, 324.4ms\n",
      "video 1/1 (frame 83/166) C:\\Users\\mertu\\Masast\\Batch223\\3-Computer Vission\\YoloV8\\smooth_traffic.mp4: 640x384 11 cars, 2 buss, 1 truck, 362.6ms\n",
      "video 1/1 (frame 84/166) C:\\Users\\mertu\\Masast\\Batch223\\3-Computer Vission\\YoloV8\\smooth_traffic.mp4: 640x384 12 cars, 1 bus, 349.9ms\n",
      "video 1/1 (frame 85/166) C:\\Users\\mertu\\Masast\\Batch223\\3-Computer Vission\\YoloV8\\smooth_traffic.mp4: 640x384 11 cars, 1 bus, 362.4ms\n",
      "video 1/1 (frame 86/166) C:\\Users\\mertu\\Masast\\Batch223\\3-Computer Vission\\YoloV8\\smooth_traffic.mp4: 640x384 10 cars, 2 buss, 2 trucks, 356.0ms\n",
      "video 1/1 (frame 87/166) C:\\Users\\mertu\\Masast\\Batch223\\3-Computer Vission\\YoloV8\\smooth_traffic.mp4: 640x384 11 cars, 2 buss, 1 truck, 319.2ms\n",
      "video 1/1 (frame 88/166) C:\\Users\\mertu\\Masast\\Batch223\\3-Computer Vission\\YoloV8\\smooth_traffic.mp4: 640x384 1 person, 11 cars, 2 buss, 1 truck, 328.4ms\n",
      "video 1/1 (frame 89/166) C:\\Users\\mertu\\Masast\\Batch223\\3-Computer Vission\\YoloV8\\smooth_traffic.mp4: 640x384 1 person, 9 cars, 2 buss, 1 truck, 1 chair, 1 dining table, 333.8ms\n",
      "video 1/1 (frame 90/166) C:\\Users\\mertu\\Masast\\Batch223\\3-Computer Vission\\YoloV8\\smooth_traffic.mp4: 640x384 1 person, 9 cars, 2 buss, 318.0ms\n",
      "video 1/1 (frame 91/166) C:\\Users\\mertu\\Masast\\Batch223\\3-Computer Vission\\YoloV8\\smooth_traffic.mp4: 640x384 1 person, 9 cars, 2 buss, 1 chair, 1 dining table, 346.3ms\n",
      "video 1/1 (frame 92/166) C:\\Users\\mertu\\Masast\\Batch223\\3-Computer Vission\\YoloV8\\smooth_traffic.mp4: 640x384 1 person, 9 cars, 2 buss, 1 chair, 365.9ms\n",
      "video 1/1 (frame 93/166) C:\\Users\\mertu\\Masast\\Batch223\\3-Computer Vission\\YoloV8\\smooth_traffic.mp4: 640x384 1 person, 9 cars, 2 buss, 1 chair, 1 dining table, 318.1ms\n",
      "video 1/1 (frame 94/166) C:\\Users\\mertu\\Masast\\Batch223\\3-Computer Vission\\YoloV8\\smooth_traffic.mp4: 640x384 9 cars, 2 buss, 324.2ms\n",
      "video 1/1 (frame 95/166) C:\\Users\\mertu\\Masast\\Batch223\\3-Computer Vission\\YoloV8\\smooth_traffic.mp4: 640x384 9 cars, 2 buss, 340.4ms\n",
      "video 1/1 (frame 96/166) C:\\Users\\mertu\\Masast\\Batch223\\3-Computer Vission\\YoloV8\\smooth_traffic.mp4: 640x384 9 cars, 2 buss, 293.9ms\n",
      "video 1/1 (frame 97/166) C:\\Users\\mertu\\Masast\\Batch223\\3-Computer Vission\\YoloV8\\smooth_traffic.mp4: 640x384 9 cars, 1 bus, 320.1ms\n",
      "video 1/1 (frame 98/166) C:\\Users\\mertu\\Masast\\Batch223\\3-Computer Vission\\YoloV8\\smooth_traffic.mp4: 640x384 9 cars, 1 bus, 297.0ms\n",
      "video 1/1 (frame 99/166) C:\\Users\\mertu\\Masast\\Batch223\\3-Computer Vission\\YoloV8\\smooth_traffic.mp4: 640x384 9 cars, 1 bus, 335.6ms\n",
      "video 1/1 (frame 100/166) C:\\Users\\mertu\\Masast\\Batch223\\3-Computer Vission\\YoloV8\\smooth_traffic.mp4: 640x384 9 cars, 1 bus, 408.9ms\n",
      "video 1/1 (frame 101/166) C:\\Users\\mertu\\Masast\\Batch223\\3-Computer Vission\\YoloV8\\smooth_traffic.mp4: 640x384 9 cars, 1 bus, 288.6ms\n",
      "video 1/1 (frame 102/166) C:\\Users\\mertu\\Masast\\Batch223\\3-Computer Vission\\YoloV8\\smooth_traffic.mp4: 640x384 9 cars, 1 bus, 382.2ms\n",
      "video 1/1 (frame 103/166) C:\\Users\\mertu\\Masast\\Batch223\\3-Computer Vission\\YoloV8\\smooth_traffic.mp4: 640x384 9 cars, 1 bus, 337.2ms\n",
      "video 1/1 (frame 104/166) C:\\Users\\mertu\\Masast\\Batch223\\3-Computer Vission\\YoloV8\\smooth_traffic.mp4: 640x384 9 cars, 1 bus, 338.8ms\n",
      "video 1/1 (frame 105/166) C:\\Users\\mertu\\Masast\\Batch223\\3-Computer Vission\\YoloV8\\smooth_traffic.mp4: 640x384 9 cars, 1 bus, 326.6ms\n",
      "video 1/1 (frame 106/166) C:\\Users\\mertu\\Masast\\Batch223\\3-Computer Vission\\YoloV8\\smooth_traffic.mp4: 640x384 9 cars, 1 bus, 273.8ms\n",
      "video 1/1 (frame 107/166) C:\\Users\\mertu\\Masast\\Batch223\\3-Computer Vission\\YoloV8\\smooth_traffic.mp4: 640x384 10 cars, 2 buss, 338.4ms\n",
      "video 1/1 (frame 108/166) C:\\Users\\mertu\\Masast\\Batch223\\3-Computer Vission\\YoloV8\\smooth_traffic.mp4: 640x384 10 cars, 1 bus, 1 truck, 327.9ms\n",
      "video 1/1 (frame 109/166) C:\\Users\\mertu\\Masast\\Batch223\\3-Computer Vission\\YoloV8\\smooth_traffic.mp4: 640x384 9 cars, 1 bus, 1 truck, 316.1ms\n",
      "video 1/1 (frame 110/166) C:\\Users\\mertu\\Masast\\Batch223\\3-Computer Vission\\YoloV8\\smooth_traffic.mp4: 640x384 9 cars, 1 bus, 1 truck, 318.9ms\n",
      "video 1/1 (frame 111/166) C:\\Users\\mertu\\Masast\\Batch223\\3-Computer Vission\\YoloV8\\smooth_traffic.mp4: 640x384 9 cars, 1 bus, 322.0ms\n",
      "video 1/1 (frame 112/166) C:\\Users\\mertu\\Masast\\Batch223\\3-Computer Vission\\YoloV8\\smooth_traffic.mp4: 640x384 9 cars, 1 bus, 330.3ms\n",
      "video 1/1 (frame 113/166) C:\\Users\\mertu\\Masast\\Batch223\\3-Computer Vission\\YoloV8\\smooth_traffic.mp4: 640x384 9 cars, 1 bus, 1 truck, 343.7ms\n",
      "video 1/1 (frame 114/166) C:\\Users\\mertu\\Masast\\Batch223\\3-Computer Vission\\YoloV8\\smooth_traffic.mp4: 640x384 10 cars, 2 buss, 280.1ms\n",
      "video 1/1 (frame 115/166) C:\\Users\\mertu\\Masast\\Batch223\\3-Computer Vission\\YoloV8\\smooth_traffic.mp4: 640x384 9 cars, 1 bus, 259.6ms\n",
      "video 1/1 (frame 116/166) C:\\Users\\mertu\\Masast\\Batch223\\3-Computer Vission\\YoloV8\\smooth_traffic.mp4: 640x384 8 cars, 2 buss, 215.1ms\n",
      "video 1/1 (frame 117/166) C:\\Users\\mertu\\Masast\\Batch223\\3-Computer Vission\\YoloV8\\smooth_traffic.mp4: 640x384 9 cars, 2 buss, 320.9ms\n",
      "video 1/1 (frame 118/166) C:\\Users\\mertu\\Masast\\Batch223\\3-Computer Vission\\YoloV8\\smooth_traffic.mp4: 640x384 9 cars, 1 bus, 329.3ms\n",
      "video 1/1 (frame 119/166) C:\\Users\\mertu\\Masast\\Batch223\\3-Computer Vission\\YoloV8\\smooth_traffic.mp4: 640x384 9 cars, 1 bus, 311.3ms\n",
      "video 1/1 (frame 120/166) C:\\Users\\mertu\\Masast\\Batch223\\3-Computer Vission\\YoloV8\\smooth_traffic.mp4: 640x384 9 cars, 2 buss, 338.8ms\n",
      "video 1/1 (frame 121/166) C:\\Users\\mertu\\Masast\\Batch223\\3-Computer Vission\\YoloV8\\smooth_traffic.mp4: 640x384 9 cars, 2 buss, 344.1ms\n",
      "video 1/1 (frame 122/166) C:\\Users\\mertu\\Masast\\Batch223\\3-Computer Vission\\YoloV8\\smooth_traffic.mp4: 640x384 9 cars, 1 bus, 254.0ms\n",
      "video 1/1 (frame 123/166) C:\\Users\\mertu\\Masast\\Batch223\\3-Computer Vission\\YoloV8\\smooth_traffic.mp4: 640x384 9 cars, 1 bus, 242.6ms\n",
      "video 1/1 (frame 124/166) C:\\Users\\mertu\\Masast\\Batch223\\3-Computer Vission\\YoloV8\\smooth_traffic.mp4: 640x384 9 cars, 1 bus, 351.7ms\n",
      "video 1/1 (frame 125/166) C:\\Users\\mertu\\Masast\\Batch223\\3-Computer Vission\\YoloV8\\smooth_traffic.mp4: 640x384 9 cars, 1 bus, 340.3ms\n",
      "video 1/1 (frame 126/166) C:\\Users\\mertu\\Masast\\Batch223\\3-Computer Vission\\YoloV8\\smooth_traffic.mp4: 640x384 9 cars, 1 bus, 324.9ms\n",
      "video 1/1 (frame 127/166) C:\\Users\\mertu\\Masast\\Batch223\\3-Computer Vission\\YoloV8\\smooth_traffic.mp4: 640x384 8 cars, 2 buss, 334.8ms\n",
      "video 1/1 (frame 128/166) C:\\Users\\mertu\\Masast\\Batch223\\3-Computer Vission\\YoloV8\\smooth_traffic.mp4: 640x384 9 cars, 3 buss, 324.8ms\n",
      "video 1/1 (frame 129/166) C:\\Users\\mertu\\Masast\\Batch223\\3-Computer Vission\\YoloV8\\smooth_traffic.mp4: 640x384 9 cars, 2 buss, 1 truck, 347.6ms\n",
      "video 1/1 (frame 130/166) C:\\Users\\mertu\\Masast\\Batch223\\3-Computer Vission\\YoloV8\\smooth_traffic.mp4: 640x384 9 cars, 2 buss, 1 truck, 363.1ms\n",
      "video 1/1 (frame 131/166) C:\\Users\\mertu\\Masast\\Batch223\\3-Computer Vission\\YoloV8\\smooth_traffic.mp4: 640x384 9 cars, 2 buss, 377.5ms\n",
      "video 1/1 (frame 132/166) C:\\Users\\mertu\\Masast\\Batch223\\3-Computer Vission\\YoloV8\\smooth_traffic.mp4: 640x384 9 cars, 1 bus, 1 truck, 374.8ms\n",
      "video 1/1 (frame 133/166) C:\\Users\\mertu\\Masast\\Batch223\\3-Computer Vission\\YoloV8\\smooth_traffic.mp4: 640x384 9 cars, 2 buss, 1 truck, 334.1ms\n",
      "video 1/1 (frame 134/166) C:\\Users\\mertu\\Masast\\Batch223\\3-Computer Vission\\YoloV8\\smooth_traffic.mp4: 640x384 9 cars, 2 buss, 343.7ms\n",
      "video 1/1 (frame 135/166) C:\\Users\\mertu\\Masast\\Batch223\\3-Computer Vission\\YoloV8\\smooth_traffic.mp4: 640x384 8 cars, 2 buss, 342.5ms\n",
      "video 1/1 (frame 136/166) C:\\Users\\mertu\\Masast\\Batch223\\3-Computer Vission\\YoloV8\\smooth_traffic.mp4: 640x384 8 cars, 3 buss, 316.0ms\n",
      "video 1/1 (frame 137/166) C:\\Users\\mertu\\Masast\\Batch223\\3-Computer Vission\\YoloV8\\smooth_traffic.mp4: 640x384 1 person, 8 cars, 3 buss, 225.0ms\n",
      "video 1/1 (frame 138/166) C:\\Users\\mertu\\Masast\\Batch223\\3-Computer Vission\\YoloV8\\smooth_traffic.mp4: 640x384 8 cars, 3 buss, 331.4ms\n",
      "video 1/1 (frame 139/166) C:\\Users\\mertu\\Masast\\Batch223\\3-Computer Vission\\YoloV8\\smooth_traffic.mp4: 640x384 8 cars, 3 buss, 333.2ms\n",
      "video 1/1 (frame 140/166) C:\\Users\\mertu\\Masast\\Batch223\\3-Computer Vission\\YoloV8\\smooth_traffic.mp4: 640x384 8 cars, 3 buss, 320.2ms\n",
      "video 1/1 (frame 141/166) C:\\Users\\mertu\\Masast\\Batch223\\3-Computer Vission\\YoloV8\\smooth_traffic.mp4: 640x384 8 cars, 4 buss, 365.1ms\n",
      "video 1/1 (frame 142/166) C:\\Users\\mertu\\Masast\\Batch223\\3-Computer Vission\\YoloV8\\smooth_traffic.mp4: 640x384 8 cars, 4 buss, 402.8ms\n",
      "video 1/1 (frame 143/166) C:\\Users\\mertu\\Masast\\Batch223\\3-Computer Vission\\YoloV8\\smooth_traffic.mp4: 640x384 8 cars, 4 buss, 387.8ms\n",
      "video 1/1 (frame 144/166) C:\\Users\\mertu\\Masast\\Batch223\\3-Computer Vission\\YoloV8\\smooth_traffic.mp4: 640x384 8 cars, 4 buss, 313.0ms\n",
      "video 1/1 (frame 145/166) C:\\Users\\mertu\\Masast\\Batch223\\3-Computer Vission\\YoloV8\\smooth_traffic.mp4: 640x384 8 cars, 2 buss, 343.7ms\n",
      "video 1/1 (frame 146/166) C:\\Users\\mertu\\Masast\\Batch223\\3-Computer Vission\\YoloV8\\smooth_traffic.mp4: 640x384 8 cars, 2 buss, 296.4ms\n",
      "video 1/1 (frame 147/166) C:\\Users\\mertu\\Masast\\Batch223\\3-Computer Vission\\YoloV8\\smooth_traffic.mp4: 640x384 9 cars, 3 buss, 270.9ms\n",
      "video 1/1 (frame 148/166) C:\\Users\\mertu\\Masast\\Batch223\\3-Computer Vission\\YoloV8\\smooth_traffic.mp4: 640x384 8 cars, 3 buss, 319.4ms\n",
      "video 1/1 (frame 149/166) C:\\Users\\mertu\\Masast\\Batch223\\3-Computer Vission\\YoloV8\\smooth_traffic.mp4: 640x384 8 cars, 2 buss, 308.0ms\n",
      "video 1/1 (frame 150/166) C:\\Users\\mertu\\Masast\\Batch223\\3-Computer Vission\\YoloV8\\smooth_traffic.mp4: 640x384 7 cars, 3 buss, 337.1ms\n",
      "video 1/1 (frame 151/166) C:\\Users\\mertu\\Masast\\Batch223\\3-Computer Vission\\YoloV8\\smooth_traffic.mp4: 640x384 8 cars, 2 buss, 317.7ms\n",
      "video 1/1 (frame 152/166) C:\\Users\\mertu\\Masast\\Batch223\\3-Computer Vission\\YoloV8\\smooth_traffic.mp4: 640x384 8 cars, 2 buss, 364.9ms\n",
      "video 1/1 (frame 153/166) C:\\Users\\mertu\\Masast\\Batch223\\3-Computer Vission\\YoloV8\\smooth_traffic.mp4: 640x384 8 cars, 3 buss, 344.1ms\n",
      "video 1/1 (frame 154/166) C:\\Users\\mertu\\Masast\\Batch223\\3-Computer Vission\\YoloV8\\smooth_traffic.mp4: 640x384 8 cars, 3 buss, 381.8ms\n",
      "video 1/1 (frame 155/166) C:\\Users\\mertu\\Masast\\Batch223\\3-Computer Vission\\YoloV8\\smooth_traffic.mp4: 640x384 8 cars, 3 buss, 335.1ms\n",
      "video 1/1 (frame 156/166) C:\\Users\\mertu\\Masast\\Batch223\\3-Computer Vission\\YoloV8\\smooth_traffic.mp4: 640x384 7 cars, 3 buss, 335.3ms\n",
      "video 1/1 (frame 157/166) C:\\Users\\mertu\\Masast\\Batch223\\3-Computer Vission\\YoloV8\\smooth_traffic.mp4: 640x384 8 cars, 2 buss, 328.9ms\n",
      "video 1/1 (frame 158/166) C:\\Users\\mertu\\Masast\\Batch223\\3-Computer Vission\\YoloV8\\smooth_traffic.mp4: 640x384 8 cars, 2 buss, 303.6ms\n",
      "video 1/1 (frame 159/166) C:\\Users\\mertu\\Masast\\Batch223\\3-Computer Vission\\YoloV8\\smooth_traffic.mp4: 640x384 8 cars, 2 buss, 318.1ms\n",
      "video 1/1 (frame 160/166) C:\\Users\\mertu\\Masast\\Batch223\\3-Computer Vission\\YoloV8\\smooth_traffic.mp4: 640x384 7 cars, 2 buss, 1 chair, 1 dining table, 335.3ms\n",
      "video 1/1 (frame 161/166) C:\\Users\\mertu\\Masast\\Batch223\\3-Computer Vission\\YoloV8\\smooth_traffic.mp4: 640x384 7 cars, 1 bus, 2 chairs, 1 dining table, 315.8ms\n",
      "video 1/1 (frame 162/166) C:\\Users\\mertu\\Masast\\Batch223\\3-Computer Vission\\YoloV8\\smooth_traffic.mp4: 640x384 8 cars, 1 bus, 2 chairs, 1 dining table, 369.8ms\n",
      "video 1/1 (frame 163/166) C:\\Users\\mertu\\Masast\\Batch223\\3-Computer Vission\\YoloV8\\smooth_traffic.mp4: 640x384 7 cars, 1 bus, 3 chairs, 1 dining table, 239.8ms\n",
      "video 1/1 (frame 164/166) C:\\Users\\mertu\\Masast\\Batch223\\3-Computer Vission\\YoloV8\\smooth_traffic.mp4: 640x384 8 cars, 1 bus, 1 chair, 1 dining table, 321.0ms\n",
      "video 1/1 (frame 165/166) C:\\Users\\mertu\\Masast\\Batch223\\3-Computer Vission\\YoloV8\\smooth_traffic.mp4: 640x384 8 cars, 1 bus, 1 chair, 327.2ms\n",
      "video 1/1 (frame 166/166) C:\\Users\\mertu\\Masast\\Batch223\\3-Computer Vission\\YoloV8\\smooth_traffic.mp4: 640x384 6 cars, 1 bus, 1 truck, 2 chairs, 293.4ms\n",
      "Speed: 3.9ms preprocess, 326.1ms inference, 6.4ms postprocess per image at shape (1, 3, 640, 384)\n"
     ]
    }
   ],
   "source": [
    "model = YOLO(\"yolov8n.pt\")  # load a pretrained model (recommended for training)\n",
    "results = model.predict(source=\"smooth_traffic.mp4\")  "
   ]
  },
  {
   "cell_type": "markdown",
   "id": "0e701d8e-645e-49cd-a241-f054fb28d647",
   "metadata": {},
   "source": [
    "Bir video dosyasındaki kare sayısının kaç saniyeye denk geldiği, videonun çerçeve hızına (FPS) bağlıdır. FPS, bir videodaki her saniyede görüntülenen kare sayısını ifade eder. Örneğin, bir video 30 FPS ise, her saniyede 30 kare görüntülenir.\n",
    "\n",
    "Çerçeve hızı bilgisi olmadan doğrudan 166 karenin kaç saniyeye denk geldiğini söylemek zor olur. Ancak genellikle videolar için standart bir çerçeve hızı bulunur. Örneğin, yaygın olarak kullanılan bir çerçeve hızı olan 30 FPS ile hesap yaparsak:"
   ]
  },
  {
   "cell_type": "markdown",
   "id": "e650c90b-1a04-4a41-a322-d0af350d8698",
   "metadata": {},
   "source": [
    "166 / 30 = 5.53 sn "
   ]
  },
  {
   "cell_type": "markdown",
   "id": "60fca601-e2d8-42a6-99ac-0ce6f03136b8",
   "metadata": {},
   "source": [
    "### mAP@50:95 ile mAP@50 arasında ki fark"
   ]
  },
  {
   "cell_type": "markdown",
   "id": "7bdffa2e-84cd-421e-9ce0-3ec24983b5df",
   "metadata": {},
   "source": [
    "mAP@50:95 genellikle daha geniş bir aralığı kapsar ve modelin daha geniş bir doğruluk yelpazesini değerlendirmesine izin verir. Özellikle, daha düşük hassasiyet gerektiren görevlerde (örneğin, geniş nesne tespiti) mAP@50:95 tercih edilebilir. Ancak, bazı durumlarda (örneğin, yüksek hassasiyet gerektiren görevlerde), mAP@50 daha spesifik bir değerlendirme sağlayabilir."
   ]
  },
  {
   "cell_type": "code",
   "execution_count": null,
   "id": "56033430-7882-4016-b59a-21142abfa5a3",
   "metadata": {},
   "outputs": [],
   "source": []
  }
 ],
 "metadata": {
  "kernelspec": {
   "display_name": "Python 3 (ipykernel)",
   "language": "python",
   "name": "python3"
  },
  "language_info": {
   "codemirror_mode": {
    "name": "ipython",
    "version": 3
   },
   "file_extension": ".py",
   "mimetype": "text/x-python",
   "name": "python",
   "nbconvert_exporter": "python",
   "pygments_lexer": "ipython3",
   "version": "3.11.9"
  }
 },
 "nbformat": 4,
 "nbformat_minor": 5
}
