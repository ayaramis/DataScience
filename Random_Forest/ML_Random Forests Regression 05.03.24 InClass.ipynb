{
 "cells": [
  {
   "cell_type": "markdown",
   "id": "developing-assignment",
   "metadata": {},
   "source": [
    "# <p style=\"background-color:green;font-family:newtimeroman;font-size:200%;color:white;text-align:center;border-radius:20px 20px;\"><b>Random Forest - Regression</b></p>\n",
    "![](https://www.techproeducation.com/logo/headerlogo.svg)\n",
    "\n",
    "<b>Yeniliklerden ilk siz haberdar olmak istiyorsanız lütfen bizi takip etmeyi unutmayın </b>[YouTube](https://www.youtube.com/c/techproeducation) | [Instagram](https://www.instagram.com/techproeducation) | [Facebook](https://www.facebook.com/techproeducation) | [Telegram](https://t.me/joinchat/HH2qRvA-ulh4OWbb) | [WhatsApp](https://api.whatsapp.com/send/?phone=%2B15853042959&text&type=phone_number&app_absent=0) | [LinkedIn](https://www.linkedin.com/company/techproeducation/mycompany/) |"
   ]
  },
  {
   "cell_type": "markdown",
   "id": "3c96db5c",
   "metadata": {},
   "source": [
    "Random Forests, hem sınıflandırma (classification) hem de regresyon (regression) problemleri için kullanılabilen esnek bir makine öğrenimi yöntemidir. Her iki kullanım arasındaki temel farklar şu şekildedir:\n",
    "\n",
    "**Random Forests Sınıflandırma (Classification)**\n",
    "* **Amaç**: Veri setindeki örnekleri belirli kategorilere sınıflandırmak.\n",
    "* **Çıktı Tipi**: Discrete  label (örneğin, 'kedi', 'köpek', 'kuş' gibi).\n",
    "* **Karar Süreci**: Her karar ağacı bir sınıf etiketi tahmini yapar, ve tüm ağaçların tahminleri arasından en çok oy alan sınıf nihai tahmin olarak seçilir (çoğunluk oyu yöntemi).\n",
    "* **Performans Değerlendirmesi**: Doğruluk oranı, karışıklık matrisi, hatırlama, hassasiyet, F1 skoru gibi sınıflandırma metrikleri ile değerlendirilir.\n",
    "* **Uygulama Örneği**: E-postaları 'spam' veya 'spam değil' olarak sınıflandırmak.\n",
    "**Random Forests Regresyon (Regression)**\n",
    "* **Amaç**: Sürekli bir çıktıyı (sayısal değer) tahmin etmek.\n",
    "* **Çıktı Tipi**: Continuous sayısal değerler (örneğin, bir evin fiyatı, sıcaklık değeri gibi).\n",
    "* **Karar Süreci**: Her karar ağacı bir sayısal değer tahmini yapar, ve tüm ağaçların tahminlerinin ortalaması (veya bazen medyanı) nihai tahmin olarak kullanılır.\n",
    "* **Performans Değerlendirmesi**: Ortalama Karesel Hata (MSE), Ortalama Mutlak Hata (MAE), R-kare gibi regresyon metrikleri ile değerlendirilir.\n",
    "* **Uygulama Örneği**: Bir evin satış fiyatını tahmin etmek.\n",
    "\n",
    "Her iki durumda da, Random Forests yöntemi birden fazla karar ağacını kullanır ve bu ağaçların tahminlerini birleştirir. Ancak, sınıflandırma ve regresyon arasındaki temel fark, tahmin edilen çıktı türü ve bu tahminlerin nasıl birleştirildiğidir. Sınıflandırmada, sonuçlar kategori etiketleridir ve çoğunluk oyu ile belirlenirken, regresyonda sonuçlar sürekli sayısal değerlerdir ve genellikle ortalama veya medyan alınarak elde edilir."
   ]
  },
  {
   "cell_type": "markdown",
   "id": "25105b2b",
   "metadata": {},
   "source": [
    "# Exploratory Data Analysis (EDA)"
   ]
  },
  {
   "cell_type": "markdown",
   "id": "65f83bd0",
   "metadata": {},
   "source": [
    "**About Dataset**\n",
    "\n",
    "- **Car_Name**: Arabanın adı veya modeli.\n",
    "- **Year**: Arabanın üretim yılı.\n",
    "- **Selling_Price**: Arabanın satış fiyatı.\n",
    "- **Present_Price**: Arabanın şu anki showroom fiyatı.\n",
    "- **Kms_Driven**: Satış noktasına kadar arabayla gidilen toplam kilometre.\n",
    "- **Fuel_Type**: Arabanın kullandığı yakıt tipi.\n",
    "  - **Petrol**: Benzinle çalışan araçları ifade eder.\n",
    "  - **Diesel**: Dizel yakıtla çalışan araçları belirtir.\n",
    "  - **CNG**: Sıkıştırılmış doğal gazla (CNG) çalışan araçları tanımlar.\n",
    "- **Seller_Type**: Arabayı satan satıcı tipi.\n",
    "  - **Dealer**: Ticari operasyonlarının bir parçası olarak araç satan işletmeleri ifade eder.\n",
    "  - **Individual**: Kişisel bir aracını satan özel bireyleri belirtir.\n",
    "- **Transmission**: Arabanın sahip olduğu şanzıman tipi.\n",
    "  - **Manual**: Sürücünün manuel olarak vites değiştirdiği araçları tanımlar.\n",
    "  - **Automatic**: Vites değiştirme işleminin otomatikleştirildiği araçları ifade eder.\n",
    "- **Owner**: Arabanın önceki sahiplerinin sayısı.\n",
    "  - **First Owner**: Aracın orijinal sahibi tarafından satıldığını gösterir.\n",
    "  - **Second Owner**: Aracın mevcut satıcıdan önce bir önceki sahibi olduğunu belirtir.\n",
    "  - **Third Owner**, ve böyle devam eder.\n",
    "\n",
    "Bu veri seti, bir arabanın özelliklerine dayalı olarak satış fiyatının tahmin edilmesi içindir.\n",
    "\n",
    "-------------------------------------------------------------------------------------------------------------------------------\n",
    "\n",
    "- **Car_Name**: The name or model of the car.\n",
    "- **Year**: The year of manufacture of the car.\n",
    "- **Selling_Price**: The selling price of the car.\n",
    "- **Present_Price**: The current showroom price of the car.\n",
    "- **Kms_Driven**: The total kilometers driven by the car up to the point of sale.\n",
    "- **Fuel_Type**: This column would contain categories such as:\n",
    "  - **Petrol**: Cars that run on petrol fuel.\n",
    "  - **Diesel**: Cars that use diesel fuel.\n",
    "  - **CNG**: Cars that are powered by compressed natural gas.\n",
    "\n",
    "- **Seller_Type**: This column would indicate the type of seller offering the car, which could be:\n",
    "  - **Dealer**: A business that sells cars as part of its commercial operations.\n",
    "  - **Individual**: A private individual selling a personal vehicle.\n",
    "\n",
    "- **Transmission**: This refers to the gearbox system of the car, with common types being:\n",
    "  - **Manual**: Cars where the driver manually shifts gears.\n",
    "  - **Automatic**: Cars where the gear shifting process is automated.\n",
    "\n",
    "- **Owner**: This would typically be a numeric column indicating the number of previous owners of the car, but if it is categorical, it might have entries such as:\n",
    "  - **First Owner**: Indicates the car is being sold by its original owner.\n",
    "  - **Second Owner**: Indicates the car has had one previous owner before the current seller.\n",
    "  - **Third Owner**, and so on.\n",
    "  \n",
    "This data set is for estimating the selling price of a car based on its features."
   ]
  },
  {
   "cell_type": "code",
   "execution_count": 1,
   "id": "threaded-frank",
   "metadata": {
    "ExecuteTime": {
     "end_time": "2024-03-05T16:07:56.312517Z",
     "start_time": "2024-03-05T16:07:52.633476Z"
    }
   },
   "outputs": [],
   "source": [
    "import pandas as pd\n",
    "import numpy as np\n",
    "import matplotlib.pyplot as plt\n",
    "import seaborn as sns\n",
    "plt.rcParams[\"figure.figsize\"] = (9,5)\n",
    "import warnings\n",
    "warnings.filterwarnings('ignore')\n",
    "pd.set_option('display.max_rows', 1000)\n",
    "pd.set_option('display.max_columns', 1000)\n",
    "pd.set_option('display.width', 1000)\n",
    "pd.set_option('display.float_format', lambda x: '%.3f' % x)"
   ]
  },
  {
   "cell_type": "code",
   "execution_count": 2,
   "id": "resident-berkeley",
   "metadata": {
    "ExecuteTime": {
     "end_time": "2024-03-05T16:07:56.383071Z",
     "start_time": "2024-03-05T16:07:56.321516Z"
    }
   },
   "outputs": [],
   "source": [
    "df0 = pd.read_csv(\"car_dataset.csv\")\n",
    "df = df0.copy()"
   ]
  },
  {
   "cell_type": "code",
   "execution_count": 3,
   "id": "ede9ec7c",
   "metadata": {
    "ExecuteTime": {
     "end_time": "2024-03-05T16:07:56.430836Z",
     "start_time": "2024-03-05T16:07:56.386074Z"
    }
   },
   "outputs": [
    {
     "data": {
      "text/html": [
       "<div>\n",
       "<style scoped>\n",
       "    .dataframe tbody tr th:only-of-type {\n",
       "        vertical-align: middle;\n",
       "    }\n",
       "\n",
       "    .dataframe tbody tr th {\n",
       "        vertical-align: top;\n",
       "    }\n",
       "\n",
       "    .dataframe thead th {\n",
       "        text-align: right;\n",
       "    }\n",
       "</style>\n",
       "<table border=\"1\" class=\"dataframe\">\n",
       "  <thead>\n",
       "    <tr style=\"text-align: right;\">\n",
       "      <th></th>\n",
       "      <th>Car_Name</th>\n",
       "      <th>Year</th>\n",
       "      <th>Selling_Price</th>\n",
       "      <th>Present_Price</th>\n",
       "      <th>Kms_Driven</th>\n",
       "      <th>Fuel_Type</th>\n",
       "      <th>Seller_Type</th>\n",
       "      <th>Transmission</th>\n",
       "      <th>Owner</th>\n",
       "    </tr>\n",
       "  </thead>\n",
       "  <tbody>\n",
       "    <tr>\n",
       "      <th>0</th>\n",
       "      <td>ritz</td>\n",
       "      <td>2014</td>\n",
       "      <td>3.350</td>\n",
       "      <td>5.590</td>\n",
       "      <td>27000</td>\n",
       "      <td>Petrol</td>\n",
       "      <td>Dealer</td>\n",
       "      <td>Manual</td>\n",
       "      <td>0</td>\n",
       "    </tr>\n",
       "    <tr>\n",
       "      <th>1</th>\n",
       "      <td>sx4</td>\n",
       "      <td>2013</td>\n",
       "      <td>4.750</td>\n",
       "      <td>9.540</td>\n",
       "      <td>43000</td>\n",
       "      <td>Diesel</td>\n",
       "      <td>Dealer</td>\n",
       "      <td>Manual</td>\n",
       "      <td>0</td>\n",
       "    </tr>\n",
       "    <tr>\n",
       "      <th>2</th>\n",
       "      <td>ciaz</td>\n",
       "      <td>2017</td>\n",
       "      <td>7.250</td>\n",
       "      <td>9.850</td>\n",
       "      <td>6900</td>\n",
       "      <td>Petrol</td>\n",
       "      <td>Dealer</td>\n",
       "      <td>Manual</td>\n",
       "      <td>0</td>\n",
       "    </tr>\n",
       "    <tr>\n",
       "      <th>3</th>\n",
       "      <td>wagon r</td>\n",
       "      <td>2011</td>\n",
       "      <td>2.850</td>\n",
       "      <td>4.150</td>\n",
       "      <td>5200</td>\n",
       "      <td>Petrol</td>\n",
       "      <td>Dealer</td>\n",
       "      <td>Manual</td>\n",
       "      <td>0</td>\n",
       "    </tr>\n",
       "    <tr>\n",
       "      <th>4</th>\n",
       "      <td>swift</td>\n",
       "      <td>2014</td>\n",
       "      <td>4.600</td>\n",
       "      <td>6.870</td>\n",
       "      <td>42450</td>\n",
       "      <td>Diesel</td>\n",
       "      <td>Dealer</td>\n",
       "      <td>Manual</td>\n",
       "      <td>0</td>\n",
       "    </tr>\n",
       "  </tbody>\n",
       "</table>\n",
       "</div>"
      ],
      "text/plain": [
       "  Car_Name  Year  Selling_Price  Present_Price  Kms_Driven Fuel_Type Seller_Type Transmission  Owner\n",
       "0     ritz  2014          3.350          5.590       27000    Petrol      Dealer       Manual      0\n",
       "1      sx4  2013          4.750          9.540       43000    Diesel      Dealer       Manual      0\n",
       "2     ciaz  2017          7.250          9.850        6900    Petrol      Dealer       Manual      0\n",
       "3  wagon r  2011          2.850          4.150        5200    Petrol      Dealer       Manual      0\n",
       "4    swift  2014          4.600          6.870       42450    Diesel      Dealer       Manual      0"
      ]
     },
     "execution_count": 3,
     "metadata": {},
     "output_type": "execute_result"
    }
   ],
   "source": [
    "df.head()"
   ]
  },
  {
   "cell_type": "code",
   "execution_count": 4,
   "id": "improved-destruction",
   "metadata": {
    "ExecuteTime": {
     "end_time": "2024-03-05T16:07:56.445710Z",
     "start_time": "2024-03-05T16:07:56.437836Z"
    }
   },
   "outputs": [
    {
     "data": {
      "text/plain": [
       "(301, 9)"
      ]
     },
     "execution_count": 4,
     "metadata": {},
     "output_type": "execute_result"
    }
   ],
   "source": [
    "df.shape"
   ]
  },
  {
   "cell_type": "code",
   "execution_count": 5,
   "id": "available-berkeley",
   "metadata": {
    "ExecuteTime": {
     "end_time": "2024-03-05T16:07:56.579527Z",
     "start_time": "2024-03-05T16:07:56.449712Z"
    }
   },
   "outputs": [
    {
     "name": "stdout",
     "output_type": "stream",
     "text": [
      "<class 'pandas.core.frame.DataFrame'>\n",
      "RangeIndex: 301 entries, 0 to 300\n",
      "Data columns (total 9 columns):\n",
      " #   Column         Non-Null Count  Dtype  \n",
      "---  ------         --------------  -----  \n",
      " 0   Car_Name       301 non-null    object \n",
      " 1   Year           301 non-null    int64  \n",
      " 2   Selling_Price  301 non-null    float64\n",
      " 3   Present_Price  301 non-null    float64\n",
      " 4   Kms_Driven     301 non-null    int64  \n",
      " 5   Fuel_Type      301 non-null    object \n",
      " 6   Seller_Type    301 non-null    object \n",
      " 7   Transmission   301 non-null    object \n",
      " 8   Owner          301 non-null    int64  \n",
      "dtypes: float64(2), int64(3), object(4)\n",
      "memory usage: 21.3+ KB\n"
     ]
    }
   ],
   "source": [
    "df.info()"
   ]
  },
  {
   "cell_type": "code",
   "execution_count": 6,
   "id": "extended-maximum",
   "metadata": {
    "ExecuteTime": {
     "end_time": "2024-03-05T16:07:56.627718Z",
     "start_time": "2024-03-05T16:07:56.584530Z"
    },
    "scrolled": true
   },
   "outputs": [
    {
     "data": {
      "text/plain": [
       "Car_Name         0\n",
       "Year             0\n",
       "Selling_Price    0\n",
       "Present_Price    0\n",
       "Kms_Driven       0\n",
       "Fuel_Type        0\n",
       "Seller_Type      0\n",
       "Transmission     0\n",
       "Owner            0\n",
       "dtype: int64"
      ]
     },
     "execution_count": 6,
     "metadata": {},
     "output_type": "execute_result"
    }
   ],
   "source": [
    "df.isnull().sum()"
   ]
  },
  {
   "cell_type": "markdown",
   "id": "e3c292d9",
   "metadata": {},
   "source": [
    "**Random Forest ile Aykırı Değerlerin İşlenmesi**\n",
    "\n",
    "Random Forest, veri setlerindeki aykırı değerlere (outliers) karşı doğal bir dayanıklılık gösterir. Bu özelliği, karar ağaçları tabanlı bir ensemble (toplu) model olmasından kaynaklanır.\n",
    "\n",
    "**Random Forest ve Aykırı Değerler**\n",
    "- **Doğal Dayanıklılık**: Random Forest, her bir karar ağacını veri setinin rastgele bir alt kümesinden öğrenir. Bu, modelin aykırı değerlerden etkilenme riskini azaltır.\n",
    "- **Sonuçların Belirlenme Yöntemi**: Model sonuçları, birden fazla ağacın ortalaması veya çoğunluk oyu ile belirlenir. Bu yaklaşım, tek bir aykırı değerin model üzerinde aşırı bir etki yapmasını önler.\n",
    "- **Aykırı Değerlerin Gerçekliği**: Bazı durumlarda, aykırı değerler veri setinin gerçek bir parçasıdır ve önemli bilgiler içerebilir. Random Forest, bu tür gerçek aykırı değerleri dikkate alarak modeli eğitebilir.\n",
    "\n",
    "**Uygulama Önerileri**\n",
    "- **Aykırı Değerleri Dikkate Alma**: Random Forest kullanırken, aykırı değerlerin modelleme sürecinde otomatik olarak yönetildiğini göz önünde bulundurun.\n",
    "- **Veri Ön İşleme**: Aykırı değerlerin varlığı, modelin doğruluğunu etkileyebilir. Gerekli durumlarda, veri ön işleme adımlarıyla bu değerlerin etkisini azaltabilirsiniz.\n",
    "- **Model Değerlendirme**: Modeli değerlendirirken, aykırı değerlerin modelin genel performansına etkisini gözlemleyin.\n",
    "\n",
    "Sonuç olarak, Random Forest modeli, aykırı değerlere karşı dayanıklı bir yapıya sahiptir ve bu değerlerin model üzerindeki etkisini doğal yollarla azaltabilir. Bu özellik, modelin çeşitli veri setlerinde etkili bir şekilde kullanılmasını sağlar."
   ]
  },
  {
   "cell_type": "code",
   "execution_count": 7,
   "id": "iraqi-invitation",
   "metadata": {
    "ExecuteTime": {
     "end_time": "2024-03-05T16:07:56.672285Z",
     "start_time": "2024-03-05T16:07:56.631719Z"
    }
   },
   "outputs": [
    {
     "data": {
      "text/html": [
       "<div>\n",
       "<style scoped>\n",
       "    .dataframe tbody tr th:only-of-type {\n",
       "        vertical-align: middle;\n",
       "    }\n",
       "\n",
       "    .dataframe tbody tr th {\n",
       "        vertical-align: top;\n",
       "    }\n",
       "\n",
       "    .dataframe thead th {\n",
       "        text-align: right;\n",
       "    }\n",
       "</style>\n",
       "<table border=\"1\" class=\"dataframe\">\n",
       "  <thead>\n",
       "    <tr style=\"text-align: right;\">\n",
       "      <th></th>\n",
       "      <th>count</th>\n",
       "      <th>mean</th>\n",
       "      <th>std</th>\n",
       "      <th>min</th>\n",
       "      <th>25%</th>\n",
       "      <th>50%</th>\n",
       "      <th>75%</th>\n",
       "      <th>max</th>\n",
       "    </tr>\n",
       "  </thead>\n",
       "  <tbody>\n",
       "    <tr>\n",
       "      <th>Year</th>\n",
       "      <td>301.000</td>\n",
       "      <td>2013.628</td>\n",
       "      <td>2.892</td>\n",
       "      <td>2003.000</td>\n",
       "      <td>2012.000</td>\n",
       "      <td>2014.000</td>\n",
       "      <td>2016.000</td>\n",
       "      <td>2018.000</td>\n",
       "    </tr>\n",
       "    <tr>\n",
       "      <th>Selling_Price</th>\n",
       "      <td>301.000</td>\n",
       "      <td>4.661</td>\n",
       "      <td>5.083</td>\n",
       "      <td>0.100</td>\n",
       "      <td>0.900</td>\n",
       "      <td>3.600</td>\n",
       "      <td>6.000</td>\n",
       "      <td>35.000</td>\n",
       "    </tr>\n",
       "    <tr>\n",
       "      <th>Present_Price</th>\n",
       "      <td>301.000</td>\n",
       "      <td>7.628</td>\n",
       "      <td>8.644</td>\n",
       "      <td>0.320</td>\n",
       "      <td>1.200</td>\n",
       "      <td>6.400</td>\n",
       "      <td>9.900</td>\n",
       "      <td>92.600</td>\n",
       "    </tr>\n",
       "    <tr>\n",
       "      <th>Kms_Driven</th>\n",
       "      <td>301.000</td>\n",
       "      <td>36947.206</td>\n",
       "      <td>38886.884</td>\n",
       "      <td>500.000</td>\n",
       "      <td>15000.000</td>\n",
       "      <td>32000.000</td>\n",
       "      <td>48767.000</td>\n",
       "      <td>500000.000</td>\n",
       "    </tr>\n",
       "    <tr>\n",
       "      <th>Owner</th>\n",
       "      <td>301.000</td>\n",
       "      <td>0.043</td>\n",
       "      <td>0.248</td>\n",
       "      <td>0.000</td>\n",
       "      <td>0.000</td>\n",
       "      <td>0.000</td>\n",
       "      <td>0.000</td>\n",
       "      <td>3.000</td>\n",
       "    </tr>\n",
       "  </tbody>\n",
       "</table>\n",
       "</div>"
      ],
      "text/plain": [
       "                count      mean       std      min       25%       50%       75%        max\n",
       "Year          301.000  2013.628     2.892 2003.000  2012.000  2014.000  2016.000   2018.000\n",
       "Selling_Price 301.000     4.661     5.083    0.100     0.900     3.600     6.000     35.000\n",
       "Present_Price 301.000     7.628     8.644    0.320     1.200     6.400     9.900     92.600\n",
       "Kms_Driven    301.000 36947.206 38886.884  500.000 15000.000 32000.000 48767.000 500000.000\n",
       "Owner         301.000     0.043     0.248    0.000     0.000     0.000     0.000      3.000"
      ]
     },
     "execution_count": 7,
     "metadata": {},
     "output_type": "execute_result"
    }
   ],
   "source": [
    "df.describe().T"
   ]
  },
  {
   "cell_type": "code",
   "execution_count": 8,
   "id": "similar-metabolism",
   "metadata": {
    "ExecuteTime": {
     "end_time": "2024-03-05T16:07:57.166770Z",
     "start_time": "2024-03-05T16:07:56.676288Z"
    }
   },
   "outputs": [
    {
     "data": {
      "image/png": "[encoded data removed]",
      "text/plain": [
       "<Figure size 900x500 with 2 Axes>"
      ]
     },
     "metadata": {},
     "output_type": "display_data"
    }
   ],
   "source": [
    "sns.heatmap(df.corr(numeric_only=True), annot=True, cmap=\"viridis\")\n",
    "plt.show()"
   ]
  },
  {
   "cell_type": "code",
   "execution_count": 9,
   "id": "14be17bc",
   "metadata": {
    "ExecuteTime": {
     "end_time": "2024-03-05T16:07:57.686910Z",
     "start_time": "2024-03-05T16:07:57.169772Z"
    }
   },
   "outputs": [
    {
     "data": {
      "application/vnd.plotly.v1+json": {
       "config": {
        "plotlyServerURL": "https://plot.ly"
       },
       "data": [
        {
         "colorscale": [
          [
           0,
           "#000004"
          ],
          [
           0.1111111111111111,
           "#180f3d"
          ],
          [
           0.2222222222222222,
           "#440f76"
          ],
          [
           0.3333333333333333,
           "#721f81"
          ],
          [
           0.4444444444444444,
           "#9e2f7f"
          ],
          [
           0.5555555555555556,
           "#cd4071"
          ],
          [
           0.6666666666666666,
           "#f1605d"
          ],
          [
           0.7777777777777778,
           "#fd9668"
          ],
          [
           0.8888888888888888,
           "#feca8d"
          ],
          [
           1,
           "#fcfdbf"
          ]
         ],
         "type": "heatmap",
         "x": [
          "Year",
          "Selling_Price",
          "Present_Price",
          "Kms_Driven",
          "Owner"
         ],
         "y": [
          "Year",
          "Selling_Price",
          "Present_Price",
          "Kms_Driven",
          "Owner"
         ],
         "z": [
          [
           1,
           0.2361409801604347,
           -0.04758420974573064,
           -0.5243420406957324,
           -0.18210355920226318
          ],
          [
           0.2361409801604347,
           1,
           0.8789825451614949,
           0.02918709067429123,
           -0.08834409908720228
          ],
          [
           -0.04758420974573064,
           0.8789825451614949,
           1,
           0.20364703400913206,
           0.008057015342196454
          ],
          [
           -0.5243420406957324,
           0.02918709067429123,
           0.20364703400913206,
           1,
           0.08921620186144577
          ],
          [
           -0.18210355920226318,
           -0.08834409908720228,
           0.008057015342196454,
           0.08921620186144577,
           1
          ]
         ],
         "zmax": 1,
         "zmin": -1
        }
       ],
       "layout": {
        "height": 500,
        "template": {
         "data": {
          "bar": [
           {
            "error_x": {
             "color": "#2a3f5f"
            },
            "error_y": {
             "color": "#2a3f5f"
            },
            "marker": {
             "line": {
              "color": "#E5ECF6",
              "width": 0.5
             },
             "pattern": {
              "fillmode": "overlay",
              "size": 10,
              "solidity": 0.2
             }
            },
            "type": "bar"
           }
          ],
          "barpolar": [
           {
            "marker": {
             "line": {
              "color": "#E5ECF6",
              "width": 0.5
             },
             "pattern": {
              "fillmode": "overlay",
              "size": 10,
              "solidity": 0.2
             }
            },
            "type": "barpolar"
           }
          ],
          "carpet": [
           {
            "aaxis": {
             "endlinecolor": "#2a3f5f",
             "gridcolor": "white",
             "linecolor": "white",
             "minorgridcolor": "white",
             "startlinecolor": "#2a3f5f"
            },
            "baxis": {
             "endlinecolor": "#2a3f5f",
             "gridcolor": "white",
             "linecolor": "white",
             "minorgridcolor": "white",
             "startlinecolor": "#2a3f5f"
            },
            "type": "carpet"
           }
          ],
          "choropleth": [
           {
            "colorbar": {
             "outlinewidth": 0,
             "ticks": ""
            },
            "type": "choropleth"
           }
          ],
          "contour": [
           {
            "colorbar": {
             "outlinewidth": 0,
             "ticks": ""
            },
            "colorscale": [
             [
              0,
              "#0d0887"
             ],
             [
              0.1111111111111111,
              "#46039f"
             ],
             [
              0.2222222222222222,
              "#7201a8"
             ],
             [
              0.3333333333333333,
              "#9c179e"
             ],
             [
              0.4444444444444444,
              "#bd3786"
             ],
             [
              0.5555555555555556,
              "#d8576b"
             ],
             [
              0.6666666666666666,
              "#ed7953"
             ],
             [
              0.7777777777777778,
              "#fb9f3a"
             ],
             [
              0.8888888888888888,
              "#fdca26"
             ],
             [
              1,
              "#f0f921"
             ]
            ],
            "type": "contour"
           }
          ],
          "contourcarpet": [
           {
            "colorbar": {
             "outlinewidth": 0,
             "ticks": ""
            },
            "type": "contourcarpet"
           }
          ],
          "heatmap": [
           {
            "colorbar": {
             "outlinewidth": 0,
             "ticks": ""
            },
            "colorscale": [
             [
              0,
              "#0d0887"
             ],
             [
              0.1111111111111111,
              "#46039f"
             ],
             [
              0.2222222222222222,
              "#7201a8"
             ],
             [
              0.3333333333333333,
              "#9c179e"
             ],
             [
              0.4444444444444444,
              "#bd3786"
             ],
             [
              0.5555555555555556,
              "#d8576b"
             ],
             [
              0.6666666666666666,
              "#ed7953"
             ],
             [
              0.7777777777777778,
              "#fb9f3a"
             ],
             [
              0.8888888888888888,
              "#fdca26"
             ],
             [
              1,
              "#f0f921"
             ]
            ],
            "type": "heatmap"
           }
          ],
          "heatmapgl": [
           {
            "colorbar": {
             "outlinewidth": 0,
             "ticks": ""
            },
            "colorscale": [
             [
              0,
              "#0d0887"
             ],
             [
              0.1111111111111111,
              "#46039f"
             ],
             [
              0.2222222222222222,
              "#7201a8"
             ],
             [
              0.3333333333333333,
              "#9c179e"
             ],
             [
              0.4444444444444444,
              "#bd3786"
             ],
             [
              0.5555555555555556,
              "#d8576b"
             ],
             [
              0.6666666666666666,
              "#ed7953"
             ],
             [
              0.7777777777777778,
              "#fb9f3a"
             ],
             [
              0.8888888888888888,
              "#fdca26"
             ],
             [
              1,
              "#f0f921"
             ]
            ],
            "type": "heatmapgl"
           }
          ],
          "histogram": [
           {
            "marker": {
             "pattern": {
              "fillmode": "overlay",
              "size": 10,
              "solidity": 0.2
             }
            },
            "type": "histogram"
           }
          ],
          "histogram2d": [
           {
            "colorbar": {
             "outlinewidth": 0,
             "ticks": ""
            },
            "colorscale": [
             [
              0,
              "#0d0887"
             ],
             [
              0.1111111111111111,
              "#46039f"
             ],
             [
              0.2222222222222222,
              "#7201a8"
             ],
             [
              0.3333333333333333,
              "#9c179e"
             ],
             [
              0.4444444444444444,
              "#bd3786"
             ],
             [
              0.5555555555555556,
              "#d8576b"
             ],
             [
              0.6666666666666666,
              "#ed7953"
             ],
             [
              0.7777777777777778,
              "#fb9f3a"
             ],
             [
              0.8888888888888888,
              "#fdca26"
             ],
             [
              1,
              "#f0f921"
             ]
            ],
            "type": "histogram2d"
           }
          ],
          "histogram2dcontour": [
           {
            "colorbar": {
             "outlinewidth": 0,
             "ticks": ""
            },
            "colorscale": [
             [
              0,
              "#0d0887"
             ],
             [
              0.1111111111111111,
              "#46039f"
             ],
             [
              0.2222222222222222,
              "#7201a8"
             ],
             [
              0.3333333333333333,
              "#9c179e"
             ],
             [
              0.4444444444444444,
              "#bd3786"
             ],
             [
              0.5555555555555556,
              "#d8576b"
             ],
             [
              0.6666666666666666,
              "#ed7953"
             ],
             [
              0.7777777777777778,
              "#fb9f3a"
             ],
             [
              0.8888888888888888,
              "#fdca26"
             ],
             [
              1,
              "#f0f921"
             ]
            ],
            "type": "histogram2dcontour"
           }
          ],
          "mesh3d": [
           {
            "colorbar": {
             "outlinewidth": 0,
             "ticks": ""
            },
            "type": "mesh3d"
           }
          ],
          "parcoords": [
           {
            "line": {
             "colorbar": {
              "outlinewidth": 0,
              "ticks": ""
             }
            },
            "type": "parcoords"
           }
          ],
          "pie": [
           {
            "automargin": true,
            "type": "pie"
           }
          ],
          "scatter": [
           {
            "fillpattern": {
             "fillmode": "overlay",
             "size": 10,
             "solidity": 0.2
            },
            "type": "scatter"
           }
          ],
          "scatter3d": [
           {
            "line": {
             "colorbar": {
              "outlinewidth": 0,
              "ticks": ""
             }
            },
            "marker": {
             "colorbar": {
              "outlinewidth": 0,
              "ticks": ""
             }
            },
            "type": "scatter3d"
           }
          ],
          "scattercarpet": [
           {
            "marker": {
             "colorbar": {
              "outlinewidth": 0,
              "ticks": ""
             }
            },
            "type": "scattercarpet"
           }
          ],
          "scattergeo": [
           {
            "marker": {
             "colorbar": {
              "outlinewidth": 0,
              "ticks": ""
             }
            },
            "type": "scattergeo"
           }
          ],
          "scattergl": [
           {
            "marker": {
             "colorbar": {
              "outlinewidth": 0,
              "ticks": ""
             }
            },
            "type": "scattergl"
           }
          ],
          "scattermapbox": [
           {
            "marker": {
             "colorbar": {
              "outlinewidth": 0,
              "ticks": ""
             }
            },
            "type": "scattermapbox"
           }
          ],
          "scatterpolar": [
           {
            "marker": {
             "colorbar": {
              "outlinewidth": 0,
              "ticks": ""
             }
            },
            "type": "scatterpolar"
           }
          ],
          "scatterpolargl": [
           {
            "marker": {
             "colorbar": {
              "outlinewidth": 0,
              "ticks": ""
             }
            },
            "type": "scatterpolargl"
           }
          ],
          "scatterternary": [
           {
            "marker": {
             "colorbar": {
              "outlinewidth": 0,
              "ticks": ""
             }
            },
            "type": "scatterternary"
           }
          ],
          "surface": [
           {
            "colorbar": {
             "outlinewidth": 0,
             "ticks": ""
            },
            "colorscale": [
             [
              0,
              "#0d0887"
             ],
             [
              0.1111111111111111,
              "#46039f"
             ],
             [
              0.2222222222222222,
              "#7201a8"
             ],
             [
              0.3333333333333333,
              "#9c179e"
             ],
             [
              0.4444444444444444,
              "#bd3786"
             ],
             [
              0.5555555555555556,
              "#d8576b"
             ],
             [
              0.6666666666666666,
              "#ed7953"
             ],
             [
              0.7777777777777778,
              "#fb9f3a"
             ],
             [
              0.8888888888888888,
              "#fdca26"
             ],
             [
              1,
              "#f0f921"
             ]
            ],
            "type": "surface"
           }
          ],
          "table": [
           {
            "cells": {
             "fill": {
              "color": "#EBF0F8"
             },
             "line": {
              "color": "white"
             }
            },
            "header": {
             "fill": {
              "color": "#C8D4E3"
             },
             "line": {
              "color": "white"
             }
            },
            "type": "table"
           }
          ]
         },
         "layout": {
          "annotationdefaults": {
           "arrowcolor": "#2a3f5f",
           "arrowhead": 0,
           "arrowwidth": 1
          },
          "autotypenumbers": "strict",
          "coloraxis": {
           "colorbar": {
            "outlinewidth": 0,
            "ticks": ""
           }
          },
          "colorscale": {
           "diverging": [
            [
             0,
             "#8e0152"
            ],
            [
             0.1,
             "#c51b7d"
            ],
            [
             0.2,
             "#de77ae"
            ],
            [
             0.3,
             "#f1b6da"
            ],
            [
             0.4,
             "#fde0ef"
            ],
            [
             0.5,
             "#f7f7f7"
            ],
            [
             0.6,
             "#e6f5d0"
            ],
            [
             0.7,
             "#b8e186"
            ],
            [
             0.8,
             "#7fbc41"
            ],
            [
             0.9,
             "#4d9221"
            ],
            [
             1,
             "#276419"
            ]
           ],
           "sequential": [
            [
             0,
             "#0d0887"
            ],
            [
             0.1111111111111111,
             "#46039f"
            ],
            [
             0.2222222222222222,
             "#7201a8"
            ],
            [
             0.3333333333333333,
             "#9c179e"
            ],
            [
             0.4444444444444444,
             "#bd3786"
            ],
            [
             0.5555555555555556,
             "#d8576b"
            ],
            [
             0.6666666666666666,
             "#ed7953"
            ],
            [
             0.7777777777777778,
             "#fb9f3a"
            ],
            [
             0.8888888888888888,
             "#fdca26"
            ],
            [
             1,
             "#f0f921"
            ]
           ],
           "sequentialminus": [
            [
             0,
             "#0d0887"
            ],
            [
             0.1111111111111111,
             "#46039f"
            ],
            [
             0.2222222222222222,
             "#7201a8"
            ],
            [
             0.3333333333333333,
             "#9c179e"
            ],
            [
             0.4444444444444444,
             "#bd3786"
            ],
            [
             0.5555555555555556,
             "#d8576b"
            ],
            [
             0.6666666666666666,
             "#ed7953"
            ],
            [
             0.7777777777777778,
             "#fb9f3a"
            ],
            [
             0.8888888888888888,
             "#fdca26"
            ],
            [
             1,
             "#f0f921"
            ]
           ]
          },
          "colorway": [
           "#636efa",
           "#EF553B",
           "#00cc96",
           "#ab63fa",
           "#FFA15A",
           "#19d3f3",
           "#FF6692",
           "#B6E880",
           "#FF97FF",
           "#FECB52"
          ],
          "font": {
           "color": "#2a3f5f"
          },
          "geo": {
           "bgcolor": "white",
           "lakecolor": "white",
           "landcolor": "#E5ECF6",
           "showlakes": true,
           "showland": true,
           "subunitcolor": "white"
          },
          "hoverlabel": {
           "align": "left"
          },
          "hovermode": "closest",
          "mapbox": {
           "style": "light"
          },
          "paper_bgcolor": "white",
          "plot_bgcolor": "#E5ECF6",
          "polar": {
           "angularaxis": {
            "gridcolor": "white",
            "linecolor": "white",
            "ticks": ""
           },
           "bgcolor": "#E5ECF6",
           "radialaxis": {
            "gridcolor": "white",
            "linecolor": "white",
            "ticks": ""
           }
          },
          "scene": {
           "xaxis": {
            "backgroundcolor": "#E5ECF6",
            "gridcolor": "white",
            "gridwidth": 2,
            "linecolor": "white",
            "showbackground": true,
            "ticks": "",
            "zerolinecolor": "white"
           },
           "yaxis": {
            "backgroundcolor": "#E5ECF6",
            "gridcolor": "white",
            "gridwidth": 2,
            "linecolor": "white",
            "showbackground": true,
            "ticks": "",
            "zerolinecolor": "white"
           },
           "zaxis": {
            "backgroundcolor": "#E5ECF6",
            "gridcolor": "white",
            "gridwidth": 2,
            "linecolor": "white",
            "showbackground": true,
            "ticks": "",
            "zerolinecolor": "white"
           }
          },
          "shapedefaults": {
           "line": {
            "color": "#2a3f5f"
           }
          },
          "ternary": {
           "aaxis": {
            "gridcolor": "white",
            "linecolor": "white",
            "ticks": ""
           },
           "baxis": {
            "gridcolor": "white",
            "linecolor": "white",
            "ticks": ""
           },
           "bgcolor": "#E5ECF6",
           "caxis": {
            "gridcolor": "white",
            "linecolor": "white",
            "ticks": ""
           }
          },
          "title": {
           "x": 0.05
          },
          "xaxis": {
           "automargin": true,
           "gridcolor": "white",
           "linecolor": "white",
           "ticks": "",
           "title": {
            "standoff": 15
           },
           "zerolinecolor": "white",
           "zerolinewidth": 2
          },
          "yaxis": {
           "automargin": true,
           "gridcolor": "white",
           "linecolor": "white",
           "ticks": "",
           "title": {
            "standoff": 15
           },
           "zerolinecolor": "white",
           "zerolinewidth": 2
          }
         }
        },
        "title": {
         "text": "Korelasyon Matrisi Heatmap"
        },
        "width": 700
       }
      }
     },
     "metadata": {},
     "output_type": "display_data"
    }
   ],
   "source": [
    "import plotly.graph_objects as go\n",
    "\n",
    "numeric_df = df.select_dtypes(include='number')\n",
    "corr_matrix = numeric_df.corr()\n",
    "\n",
    "heatmap = go.Heatmap(\n",
    "    z=corr_matrix.values,\n",
    "    x=corr_matrix.columns,\n",
    "    y=corr_matrix.index,\n",
    "    colorscale='Magma',  # Renk skalası\n",
    "    zmin=-1,\n",
    "    zmax=1,  # Renk skalası için minimum ve maksimum değerler\n",
    ")\n",
    "\n",
    "fig = go.Figure(data=[heatmap])\n",
    "\n",
    "fig.update_layout(\n",
    "    title='Korelasyon Matrisi Heatmap',\n",
    "    width=700,  \n",
    "    height=500,  \n",
    ")\n",
    "\n",
    "fig.show()"
   ]
  },
  {
   "cell_type": "code",
   "execution_count": 10,
   "id": "attached-university",
   "metadata": {
    "ExecuteTime": {
     "end_time": "2024-03-05T16:07:57.702326Z",
     "start_time": "2024-03-05T16:07:57.694910Z"
    }
   },
   "outputs": [],
   "source": [
    "df[\"Vehicle_Age\"] = 2024 - df.Year\n",
    "\n",
    "# Datamızdaki araç üretim yılını age featurune dönüştürüyoruz."
   ]
  },
  {
   "cell_type": "markdown",
   "id": "bce3b428",
   "metadata": {},
   "source": [
    "**Yüksek Kartinaliteli (Çok Fazla Benzersiz Değer İçeren) Özelliklerin İşlenmesi**\n",
    "\n",
    "Veri setlerinde bazen çok fazla benzersiz değer içeren özellikler (high cardinality features) bulunabilir. Bu tür özelliklerin model üzerindeki etkisini değerlendirmek ve ona göre karar vermek önemlidir.\n",
    "\n",
    "**Yüksek Kartinaliteli Özelliklerin Değerlendirilmesi**\n",
    "1. **Özelliklerin Etkisi**: Bazı durumlarda, çok sayıda benzersiz değere sahip özellikler, modelin performansını olumlu veya olumsuz etkileyebilir.\n",
    "2. **Skor Karşılaştırması**: Modelin bu özelliği içerip içermemesine bağlı olarak performansını karşılaştırmak, özelliğin önemini belirlemeye yardımcı olabilir.\n",
    "\n",
    "**Uygulama Adımları**\n",
    "- **Özelliği Düşürmeden Modelleme**: İlk olarak, özelliği modellemeye dahil ederek modelin performansını değerlendirin.\n",
    "- **Özelliği Düşürerek Modelleme**: Daha sonra, aynı modeli bu özelliği düşürerek tekrar değerlendirin.\n",
    "- **Sonuçların Karşılaştırılması**: Her iki durumda elde edilen skorları karşılaştırın. Hangi durumda daha iyi sonuçlar elde edildiyse, o yaklaşımı tercih edin."
   ]
  },
  {
   "cell_type": "code",
   "execution_count": 11,
   "id": "invisible-partnership",
   "metadata": {
    "ExecuteTime": {
     "end_time": "2024-03-05T16:07:57.713010Z",
     "start_time": "2024-03-05T16:07:57.707327Z"
    },
    "scrolled": true
   },
   "outputs": [],
   "source": [
    "def unique_values(df, columns):\n",
    "    \"\"\"Prints unique values and their counts for specific columns in the DataFrame.\"\"\"\n",
    "\n",
    "    for column_name in columns:\n",
    "        print(f\"Column: {column_name}\\n{'-'*30}\")\n",
    "        unique_vals = df[column_name].unique()\n",
    "        value_counts = df[column_name].value_counts()\n",
    "        print(f\"Unique Values ({len(unique_vals)}): {unique_vals}\\n\")\n",
    "        print(f\"Value Counts:\\n{value_counts}\\n{'='*40}\\n\")"
   ]
  },
  {
   "cell_type": "code",
   "execution_count": 12,
   "id": "b2b21656",
   "metadata": {
    "ExecuteTime": {
     "end_time": "2024-03-05T16:07:57.729063Z",
     "start_time": "2024-03-05T16:07:57.717013Z"
    }
   },
   "outputs": [
    {
     "name": "stdout",
     "output_type": "stream",
     "text": [
      "Column: Car_Name\n",
      "------------------------------\n",
      "Unique Values (98): ['ritz' 'sx4' 'ciaz' 'wagon r' 'swift' 'vitara brezza' 's cross'\n",
      " 'alto 800' 'ertiga' 'dzire' 'alto k10' 'ignis' '800' 'baleno' 'omni'\n",
      " 'fortuner' 'innova' 'corolla altis' 'etios cross' 'etios g' 'etios liva'\n",
      " 'corolla' 'etios gd' 'camry' 'land cruiser' 'Royal Enfield Thunder 500'\n",
      " 'UM Renegade Mojave' 'KTM RC200' 'Bajaj Dominar 400'\n",
      " 'Royal Enfield Classic 350' 'KTM RC390' 'Hyosung GT250R'\n",
      " 'Royal Enfield Thunder 350' 'KTM 390 Duke ' 'Mahindra Mojo XT300'\n",
      " 'Bajaj Pulsar RS200' 'Royal Enfield Bullet 350'\n",
      " 'Royal Enfield Classic 500' 'Bajaj Avenger 220' 'Bajaj Avenger 150'\n",
      " 'Honda CB Hornet 160R' 'Yamaha FZ S V 2.0' 'Yamaha FZ 16'\n",
      " 'TVS Apache RTR 160' 'Bajaj Pulsar 150' 'Honda CBR 150' 'Hero Extreme'\n",
      " 'Bajaj Avenger 220 dtsi' 'Bajaj Avenger 150 street' 'Yamaha FZ  v 2.0'\n",
      " 'Bajaj Pulsar  NS 200' 'Bajaj Pulsar 220 F' 'TVS Apache RTR 180'\n",
      " 'Hero Passion X pro' 'Bajaj Pulsar NS 200' 'Yamaha Fazer '\n",
      " 'Honda Activa 4G' 'TVS Sport ' 'Honda Dream Yuga '\n",
      " 'Bajaj Avenger Street 220' 'Hero Splender iSmart' 'Activa 3g'\n",
      " 'Hero Passion Pro' 'Honda CB Trigger' 'Yamaha FZ S '\n",
      " 'Bajaj Pulsar 135 LS' 'Activa 4g' 'Honda CB Unicorn'\n",
      " 'Hero Honda CBZ extreme' 'Honda Karizma' 'Honda Activa 125' 'TVS Jupyter'\n",
      " 'Hero Honda Passion Pro' 'Hero Splender Plus' 'Honda CB Shine'\n",
      " 'Bajaj Discover 100' 'Suzuki Access 125' 'TVS Wego' 'Honda CB twister'\n",
      " 'Hero Glamour' 'Hero Super Splendor' 'Bajaj Discover 125' 'Hero Hunk'\n",
      " 'Hero  Ignitor Disc' 'Hero  CBZ Xtreme' 'Bajaj  ct 100' 'i20' 'grand i10'\n",
      " 'i10' 'eon' 'xcent' 'elantra' 'creta' 'verna' 'city' 'brio' 'amaze'\n",
      " 'jazz']\n",
      "\n",
      "Value Counts:\n",
      "Car_Name\n",
      "city                         26\n",
      "corolla altis                16\n",
      "verna                        14\n",
      "fortuner                     11\n",
      "brio                         10\n",
      "ciaz                          9\n",
      "innova                        9\n",
      "i20                           9\n",
      "grand i10                     8\n",
      "jazz                          7\n",
      "amaze                         7\n",
      "Royal Enfield Classic 350     7\n",
      "ertiga                        6\n",
      "eon                           6\n",
      "sx4                           6\n",
      "alto k10                      5\n",
      "i10                           5\n",
      "swift                         5\n",
      "Bajaj Pulsar 150              4\n",
      "Royal Enfield Thunder 350     4\n",
      "ritz                          4\n",
      "wagon r                       4\n",
      "etios liva                    4\n",
      "dzire                         4\n",
      "xcent                         3\n",
      "etios cross                   3\n",
      "Royal Enfield Thunder 500     3\n",
      "TVS Apache RTR 160            3\n",
      "Yamaha FZ S V 2.0             3\n",
      "creta                         3\n",
      "Honda CB Hornet 160R          3\n",
      "etios g                       3\n",
      "Bajaj Avenger 220             3\n",
      "Bajaj Pulsar NS 200           3\n",
      "Bajaj Discover 125            2\n",
      "Bajaj Pulsar 220 F            2\n",
      "TVS Apache RTR 180            2\n",
      "Yamaha FZ  v 2.0              2\n",
      "Honda Activa 4G               2\n",
      "Hero Extreme                  2\n",
      "Honda CB twister              2\n",
      "Hero Splender iSmart          2\n",
      "Activa 3g                     2\n",
      "Hero Passion Pro              2\n",
      "Honda CB Shine                2\n",
      "Bajaj Avenger 220 dtsi        2\n",
      "Honda CBR 150                 2\n",
      "elantra                       2\n",
      "Royal Enfield Classic 500     2\n",
      "KTM RC200                     2\n",
      "Honda Karizma                 2\n",
      "Bajaj  ct 100                 1\n",
      "Hero  Ignitor Disc            1\n",
      "TVS Jupyter                   1\n",
      "Hero Honda Passion Pro        1\n",
      "Hero Splender Plus            1\n",
      "vitara brezza                 1\n",
      "Bajaj Discover 100            1\n",
      "Suzuki Access 125             1\n",
      "s cross                       1\n",
      "alto 800                      1\n",
      "baleno                        1\n",
      "TVS Wego                      1\n",
      "Hero  CBZ Xtreme              1\n",
      "Hero Glamour                  1\n",
      "ignis                         1\n",
      "Hero Super Splendor           1\n",
      "800                           1\n",
      "Hero Hunk                     1\n",
      "Honda Activa 125              1\n",
      "corolla                       1\n",
      "Hero Honda CBZ extreme        1\n",
      "Yamaha FZ 16                  1\n",
      "camry                         1\n",
      "land cruiser                  1\n",
      "UM Renegade Mojave            1\n",
      "Bajaj Dominar 400             1\n",
      "KTM RC390                     1\n",
      "Hyosung GT250R                1\n",
      "KTM 390 Duke                  1\n",
      "Mahindra Mojo XT300           1\n",
      "Bajaj Pulsar RS200            1\n",
      "Royal Enfield Bullet 350      1\n",
      "Bajaj Avenger 150             1\n",
      "Bajaj Avenger 150 street      1\n",
      "Honda CB Unicorn              1\n",
      "omni                          1\n",
      "Bajaj Pulsar  NS 200          1\n",
      "Hero Passion X pro            1\n",
      "Yamaha Fazer                  1\n",
      "TVS Sport                     1\n",
      "Honda Dream Yuga              1\n",
      "etios gd                      1\n",
      "Honda CB Trigger              1\n",
      "Yamaha FZ S                   1\n",
      "Bajaj Pulsar 135 LS           1\n",
      "Activa 4g                     1\n",
      "Bajaj Avenger Street 220      1\n",
      "Name: count, dtype: int64\n",
      "========================================\n",
      "\n",
      "Column: Fuel_Type\n",
      "------------------------------\n",
      "Unique Values (3): ['Petrol' 'Diesel' 'CNG']\n",
      "\n",
      "Value Counts:\n",
      "Fuel_Type\n",
      "Petrol    239\n",
      "Diesel     60\n",
      "CNG         2\n",
      "Name: count, dtype: int64\n",
      "========================================\n",
      "\n",
      "Column: Seller_Type\n",
      "------------------------------\n",
      "Unique Values (2): ['Dealer' 'Individual']\n",
      "\n",
      "Value Counts:\n",
      "Seller_Type\n",
      "Dealer        195\n",
      "Individual    106\n",
      "Name: count, dtype: int64\n",
      "========================================\n",
      "\n",
      "Column: Transmission\n",
      "------------------------------\n",
      "Unique Values (2): ['Manual' 'Automatic']\n",
      "\n",
      "Value Counts:\n",
      "Transmission\n",
      "Manual       261\n",
      "Automatic     40\n",
      "Name: count, dtype: int64\n",
      "========================================\n",
      "\n"
     ]
    }
   ],
   "source": [
    "cat_features = df.select_dtypes(include='object').columns\n",
    "unique_values(df, cat_features)\n",
    "\n",
    "# kategorik featurların kaç unique gözlemden oluştuğu görüyoruz\n",
    "# car_name'in unique kategorik gözlem sayısı datamızdaki toplam gözlem sayısına nazaran çok yüksek"
   ]
  },
  {
   "cell_type": "code",
   "execution_count": 13,
   "id": "private-retirement",
   "metadata": {
    "ExecuteTime": {
     "end_time": "2024-03-05T16:07:57.738205Z",
     "start_time": "2024-03-05T16:07:57.732067Z"
    }
   },
   "outputs": [],
   "source": [
    "df.drop(columns=[\"Car_Name\", \"Year\"], inplace=True)\n",
    "\n",
    "# 301 gözlemim olmasına rağmen car_name'de 98 tane unique araba/motor markası mevcut\n",
    "# Bu featura ordinal encoder uygulayarak numeric verilere dönüştürmek anlamlı bir hareket tarzı olmayacak\n",
    "# Çünkü DT modeli high cardinality categorical featureslara (çok fazla unique kategorik gözlemler içeren featurlar)\n",
    "# daha fazla önem yükleme eğilimindedir.\n",
    "# Bu da bu featurların feature importanceda daha ön plana çıkmasına sebep olur\n",
    "# Ayrıca  çoğu marka ve modelden 1-2 adet mevcut. Doğal olarak eğitime bir katkısı olmayacağından bu featura kaldırıyoruz\n",
    "# Araç üretim yılı olan Year ı da Age feature ına dönüştrdüğümüzden Year featurenıda car_name ile birlikte kaldırıyoruz"
   ]
  },
  {
   "cell_type": "code",
   "execution_count": 14,
   "id": "endless-attendance",
   "metadata": {
    "ExecuteTime": {
     "end_time": "2024-03-05T16:07:57.763226Z",
     "start_time": "2024-03-05T16:07:57.741207Z"
    }
   },
   "outputs": [
    {
     "data": {
      "text/html": [
       "<div>\n",
       "<style scoped>\n",
       "    .dataframe tbody tr th:only-of-type {\n",
       "        vertical-align: middle;\n",
       "    }\n",
       "\n",
       "    .dataframe tbody tr th {\n",
       "        vertical-align: top;\n",
       "    }\n",
       "\n",
       "    .dataframe thead th {\n",
       "        text-align: right;\n",
       "    }\n",
       "</style>\n",
       "<table border=\"1\" class=\"dataframe\">\n",
       "  <thead>\n",
       "    <tr style=\"text-align: right;\">\n",
       "      <th></th>\n",
       "      <th>Selling_Price</th>\n",
       "      <th>Present_Price</th>\n",
       "      <th>Kms_Driven</th>\n",
       "      <th>Fuel_Type</th>\n",
       "      <th>Seller_Type</th>\n",
       "      <th>Transmission</th>\n",
       "      <th>Owner</th>\n",
       "      <th>Vehicle_Age</th>\n",
       "    </tr>\n",
       "  </thead>\n",
       "  <tbody>\n",
       "    <tr>\n",
       "      <th>0</th>\n",
       "      <td>3.350</td>\n",
       "      <td>5.590</td>\n",
       "      <td>27000</td>\n",
       "      <td>Petrol</td>\n",
       "      <td>Dealer</td>\n",
       "      <td>Manual</td>\n",
       "      <td>0</td>\n",
       "      <td>10</td>\n",
       "    </tr>\n",
       "    <tr>\n",
       "      <th>1</th>\n",
       "      <td>4.750</td>\n",
       "      <td>9.540</td>\n",
       "      <td>43000</td>\n",
       "      <td>Diesel</td>\n",
       "      <td>Dealer</td>\n",
       "      <td>Manual</td>\n",
       "      <td>0</td>\n",
       "      <td>11</td>\n",
       "    </tr>\n",
       "    <tr>\n",
       "      <th>2</th>\n",
       "      <td>7.250</td>\n",
       "      <td>9.850</td>\n",
       "      <td>6900</td>\n",
       "      <td>Petrol</td>\n",
       "      <td>Dealer</td>\n",
       "      <td>Manual</td>\n",
       "      <td>0</td>\n",
       "      <td>7</td>\n",
       "    </tr>\n",
       "    <tr>\n",
       "      <th>3</th>\n",
       "      <td>2.850</td>\n",
       "      <td>4.150</td>\n",
       "      <td>5200</td>\n",
       "      <td>Petrol</td>\n",
       "      <td>Dealer</td>\n",
       "      <td>Manual</td>\n",
       "      <td>0</td>\n",
       "      <td>13</td>\n",
       "    </tr>\n",
       "    <tr>\n",
       "      <th>4</th>\n",
       "      <td>4.600</td>\n",
       "      <td>6.870</td>\n",
       "      <td>42450</td>\n",
       "      <td>Diesel</td>\n",
       "      <td>Dealer</td>\n",
       "      <td>Manual</td>\n",
       "      <td>0</td>\n",
       "      <td>10</td>\n",
       "    </tr>\n",
       "  </tbody>\n",
       "</table>\n",
       "</div>"
      ],
      "text/plain": [
       "   Selling_Price  Present_Price  Kms_Driven Fuel_Type Seller_Type Transmission  Owner  Vehicle_Age\n",
       "0          3.350          5.590       27000    Petrol      Dealer       Manual      0           10\n",
       "1          4.750          9.540       43000    Diesel      Dealer       Manual      0           11\n",
       "2          7.250          9.850        6900    Petrol      Dealer       Manual      0            7\n",
       "3          2.850          4.150        5200    Petrol      Dealer       Manual      0           13\n",
       "4          4.600          6.870       42450    Diesel      Dealer       Manual      0           10"
      ]
     },
     "execution_count": 14,
     "metadata": {},
     "output_type": "execute_result"
    }
   ],
   "source": [
    "df.head()"
   ]
  },
  {
   "cell_type": "code",
   "execution_count": 15,
   "id": "d80be5a5",
   "metadata": {
    "ExecuteTime": {
     "end_time": "2024-03-05T16:08:06.728500Z",
     "start_time": "2024-03-05T16:07:57.765861Z"
    }
   },
   "outputs": [
    {
     "data": {
      "text/plain": [
       "<Figure size 1200x600 with 0 Axes>"
      ]
     },
     "metadata": {},
     "output_type": "display_data"
    },
    {
     "data": {
      "image/png": "[encoded data removed]",
      "text/plain": [
       "<Figure size 1250x1250 with 30 Axes>"
      ]
     },
     "metadata": {},
     "output_type": "display_data"
    }
   ],
   "source": [
    "plt.figure(figsize=(12, 6))\n",
    "sns.pairplot(df, palette=\"Dark2\");"
   ]
  },
  {
   "cell_type": "code",
   "execution_count": 16,
   "id": "3749844a",
   "metadata": {
    "ExecuteTime": {
     "end_time": "2024-03-05T16:08:09.077237Z",
     "start_time": "2024-03-05T16:08:06.731502Z"
    }
   },
   "outputs": [
    {
     "data": {
      "application/vnd.plotly.v1+json": {
       "config": {
        "plotlyServerURL": "https://plot.ly"
       },
       "data": [
        {
         "autobinx": false,
         "histnorm": "probability density",
         "legendgroup": "Selling Price",
         "marker": {
          "color": "rgb(31, 119, 180)"
         },
         "name": "Selling Price",
         "opacity": 0.7,
         "type": "histogram",
         "x": [
          3.35,
          4.75,
          7.25,
          2.85,
          4.6,
          9.25,
          6.75,
          6.5,
          8.75,
          7.45,
          2.85,
          6.85,
          7.5,
          6.1,
          2.25,
          7.75,
          7.25,
          7.75,
          3.25,
          2.65,
          2.85,
          4.9,
          4.4,
          2.5,
          2.9,
          3,
          4.15,
          6,
          1.95,
          7.45,
          3.1,
          2.35,
          4.95,
          6,
          5.5,
          2.95,
          4.65,
          0.35,
          3,
          2.25,
          5.85,
          2.55,
          1.95,
          5.5,
          1.25,
          7.5,
          2.65,
          1.05,
          5.8,
          7.75,
          14.9,
          23,
          18,
          16,
          2.75,
          3.6,
          4.5,
          4.75,
          4.1,
          19.99,
          6.95,
          4.5,
          18.75,
          23.5,
          33,
          4.75,
          19.75,
          9.25,
          4.35,
          14.25,
          3.95,
          4.5,
          7.45,
          2.65,
          4.9,
          3.95,
          5.5,
          1.5,
          5.25,
          14.5,
          14.73,
          4.75,
          23,
          12.5,
          3.49,
          2.5,
          35,
          5.9,
          3.45,
          4.75,
          3.8,
          11.25,
          3.51,
          23,
          4,
          5.85,
          20.75,
          17,
          7.05,
          9.65,
          1.75,
          1.7,
          1.65,
          1.45,
          1.35,
          1.35,
          1.35,
          1.25,
          1.2,
          1.2,
          1.2,
          1.15,
          1.15,
          1.15,
          1.15,
          1.11,
          1.1,
          1.1,
          1.1,
          1.05,
          1.05,
          1.05,
          1.05,
          1,
          0.95,
          0.9,
          0.9,
          0.75,
          0.8,
          0.78,
          0.75,
          0.75,
          0.75,
          0.72,
          0.65,
          0.65,
          0.65,
          0.65,
          0.6,
          0.6,
          0.6,
          0.6,
          0.6,
          0.6,
          0.6,
          0.6,
          0.55,
          0.55,
          0.52,
          0.51,
          0.5,
          0.5,
          0.5,
          0.5,
          0.5,
          0.48,
          0.48,
          0.48,
          0.48,
          0.45,
          0.45,
          0.45,
          0.45,
          0.45,
          0.45,
          0.45,
          0.45,
          0.42,
          0.42,
          0.4,
          0.4,
          0.4,
          0.4,
          0.4,
          0.38,
          0.38,
          0.35,
          0.35,
          0.35,
          0.31,
          0.3,
          0.3,
          0.3,
          0.27,
          0.25,
          0.25,
          0.25,
          0.25,
          0.25,
          0.2,
          0.2,
          0.2,
          0.2,
          0.2,
          0.2,
          0.18,
          0.17,
          0.16,
          0.15,
          0.12,
          0.1,
          3.25,
          4.4,
          2.95,
          2.75,
          5.25,
          5.75,
          5.15,
          7.9,
          4.85,
          3.1,
          11.75,
          11.25,
          2.9,
          5.25,
          4.5,
          2.9,
          3.15,
          6.45,
          4.5,
          3.5,
          4.5,
          6,
          8.25,
          5.11,
          2.7,
          5.25,
          2.55,
          4.95,
          3.1,
          6.15,
          9.25,
          11.45,
          3.9,
          5.5,
          9.1,
          3.1,
          11.25,
          4.8,
          2,
          5.35,
          4.75,
          4.4,
          6.25,
          5.95,
          5.2,
          3.75,
          5.95,
          4,
          5.25,
          12.9,
          5,
          5.4,
          7.2,
          5.25,
          3,
          10.25,
          8.5,
          8.4,
          3.9,
          9.15,
          5.5,
          4,
          6.6,
          4,
          6.5,
          3.65,
          8.35,
          4.8,
          6.7,
          4.1,
          3,
          7.5,
          2.25,
          5.3,
          10.9,
          8.65,
          9.7,
          6,
          6.25,
          5.25,
          2.1,
          8.25,
          8.99,
          3.5,
          7.4,
          5.65,
          5.75,
          8.4,
          10.11,
          4.5,
          5.4,
          6.4,
          3.25,
          3.75,
          8.55,
          9.5,
          4,
          3.35,
          11.5,
          5.3
         ],
         "xaxis": "x",
         "xbins": {
          "end": 35,
          "size": 1,
          "start": 0.1
         },
         "yaxis": "y"
        },
        {
         "legendgroup": "Selling Price",
         "marker": {
          "color": "rgb(31, 119, 180)"
         },
         "mode": "lines",
         "name": "Selling Price",
         "showlegend": false,
         "type": "scatter",
         "x": [
          0.1,
          0.1698,
          0.2396,
          0.3094,
          0.3792,
          0.44899999999999995,
          0.5187999999999999,
          0.5886,
          0.6584,
          0.7282,
          0.7979999999999999,
          0.8677999999999999,
          0.9375999999999999,
          1.0074,
          1.0772,
          1.147,
          1.2168,
          1.2866,
          1.3564,
          1.4262000000000001,
          1.496,
          1.5658,
          1.6356,
          1.7054,
          1.7752,
          1.8450000000000002,
          1.9148,
          1.9846,
          2.0544,
          2.1242,
          2.194,
          2.2638,
          2.3336,
          2.4034,
          2.4732,
          2.543,
          2.6128,
          2.6826,
          2.7524,
          2.8222,
          2.892,
          2.9617999999999998,
          3.0316,
          3.1014000000000004,
          3.1712,
          3.241,
          3.3108,
          3.3806,
          3.4503999999999997,
          3.5202,
          3.5900000000000003,
          3.6597999999999997,
          3.7296,
          3.7994,
          3.8691999999999998,
          3.939,
          4.0088,
          4.0786,
          4.1484,
          4.2181999999999995,
          4.287999999999999,
          4.3578,
          4.427599999999999,
          4.497399999999999,
          4.5672,
          4.637,
          4.706799999999999,
          4.776599999999999,
          4.846399999999999,
          4.9162,
          4.986,
          5.0558,
          5.1255999999999995,
          5.195399999999999,
          5.265199999999999,
          5.335,
          5.4048,
          5.474599999999999,
          5.5443999999999996,
          5.614199999999999,
          5.683999999999999,
          5.7538,
          5.823599999999999,
          5.893399999999999,
          5.9632,
          6.0329999999999995,
          6.1028,
          6.172599999999999,
          6.242399999999999,
          6.3122,
          6.382,
          6.4517999999999995,
          6.521599999999999,
          6.591399999999999,
          6.661199999999999,
          6.731,
          6.800799999999999,
          6.870599999999999,
          6.9403999999999995,
          7.010199999999999,
          7.08,
          7.149799999999999,
          7.219599999999999,
          7.2894,
          7.3591999999999995,
          7.428999999999999,
          7.498799999999999,
          7.568599999999999,
          7.638399999999999,
          7.7082,
          7.778,
          7.8477999999999986,
          7.917599999999999,
          7.987399999999999,
          8.0572,
          8.126999999999999,
          8.1968,
          8.266599999999999,
          8.3364,
          8.406199999999998,
          8.475999999999999,
          8.545799999999998,
          8.6156,
          8.6854,
          8.755199999999999,
          8.825,
          8.894799999999998,
          8.9646,
          9.0344,
          9.104199999999999,
          9.174,
          9.243799999999998,
          9.3136,
          9.3834,
          9.453199999999999,
          9.523,
          9.592799999999999,
          9.6626,
          9.7324,
          9.8022,
          9.872,
          9.941799999999999,
          10.0116,
          10.081399999999999,
          10.1512,
          10.221,
          10.290799999999999,
          10.3606,
          10.430399999999999,
          10.500199999999998,
          10.57,
          10.6398,
          10.7096,
          10.779399999999999,
          10.849199999999998,
          10.919,
          10.9888,
          11.0586,
          11.1284,
          11.198199999999998,
          11.267999999999999,
          11.3378,
          11.4076,
          11.4774,
          11.547199999999998,
          11.616999999999999,
          11.686799999999998,
          11.7566,
          11.8264,
          11.896199999999999,
          11.966,
          12.035799999999998,
          12.1056,
          12.1754,
          12.245199999999999,
          12.315,
          12.384799999999998,
          12.4546,
          12.5244,
          12.594199999999999,
          12.664,
          12.733799999999999,
          12.8036,
          12.873399999999998,
          12.9432,
          13.013,
          13.082799999999999,
          13.1526,
          13.222399999999999,
          13.2922,
          13.362,
          13.431799999999999,
          13.501599999999998,
          13.571399999999999,
          13.641199999999998,
          13.711,
          13.7808,
          13.850599999999998,
          13.920399999999999,
          13.990199999999998,
          14.06,
          14.1298,
          14.199599999999998,
          14.2694,
          14.339199999999998,
          14.408999999999999,
          14.4788,
          14.548599999999999,
          14.6184,
          14.688199999999998,
          14.758,
          14.827799999999998,
          14.897599999999999,
          14.9674,
          15.037199999999999,
          15.107,
          15.176799999999998,
          15.246599999999999,
          15.3164,
          15.386199999999999,
          15.456,
          15.525799999999998,
          15.595599999999997,
          15.6654,
          15.735199999999999,
          15.805,
          15.874799999999999,
          15.944599999999998,
          16.0144,
          16.0842,
          16.154,
          16.2238,
          16.2936,
          16.363400000000002,
          16.4332,
          16.503,
          16.5728,
          16.6426,
          16.7124,
          16.782200000000003,
          16.852,
          16.9218,
          16.9916,
          17.0614,
          17.131200000000003,
          17.201,
          17.2708,
          17.3406,
          17.4104,
          17.480200000000004,
          17.55,
          17.6198,
          17.6896,
          17.7594,
          17.829200000000004,
          17.899,
          17.9688,
          18.0386,
          18.1084,
          18.178200000000004,
          18.248,
          18.317800000000002,
          18.3876,
          18.4574,
          18.5272,
          18.597,
          18.666800000000002,
          18.7366,
          18.8064,
          18.8762,
          18.946,
          19.015800000000002,
          19.0856,
          19.1554,
          19.2252,
          19.295,
          19.364800000000002,
          19.4346,
          19.5044,
          19.5742,
          19.644000000000002,
          19.7138,
          19.7836,
          19.8534,
          19.9232,
          19.993000000000002,
          20.0628,
          20.1326,
          20.2024,
          20.2722,
          20.342000000000002,
          20.4118,
          20.4816,
          20.5514,
          20.6212,
          20.691000000000003,
          20.7608,
          20.8306,
          20.900399999999998,
          20.970200000000002,
          21.040000000000003,
          21.1098,
          21.1796,
          21.249399999999998,
          21.319200000000002,
          21.389000000000003,
          21.4588,
          21.5286,
          21.598399999999998,
          21.668200000000002,
          21.738000000000003,
          21.8078,
          21.8776,
          21.9474,
          22.017200000000003,
          22.087,
          22.1568,
          22.2266,
          22.2964,
          22.366200000000003,
          22.436,
          22.5058,
          22.5756,
          22.6454,
          22.715200000000003,
          22.785,
          22.8548,
          22.9246,
          22.9944,
          23.064200000000003,
          23.134,
          23.2038,
          23.2736,
          23.3434,
          23.413200000000003,
          23.483,
          23.5528,
          23.6226,
          23.6924,
          23.762200000000004,
          23.832,
          23.9018,
          23.9716,
          24.0414,
          24.111200000000004,
          24.181,
          24.2508,
          24.3206,
          24.3904,
          24.4602,
          24.53,
          24.599800000000002,
          24.6696,
          24.7394,
          24.8092,
          24.879,
          24.948800000000002,
          25.0186,
          25.0884,
          25.1582,
          25.228,
          25.297800000000002,
          25.3676,
          25.4374,
          25.5072,
          25.577,
          25.6468,
          25.7166,
          25.7864,
          25.8562,
          25.926000000000002,
          25.9958,
          26.0656,
          26.1354,
          26.2052,
          26.275000000000002,
          26.3448,
          26.4146,
          26.4844,
          26.5542,
          26.624000000000002,
          26.6938,
          26.7636,
          26.833399999999997,
          26.9032,
          26.973000000000003,
          27.0428,
          27.1126,
          27.182399999999998,
          27.2522,
          27.322000000000003,
          27.3918,
          27.4616,
          27.531399999999998,
          27.6012,
          27.671000000000003,
          27.7408,
          27.8106,
          27.880399999999998,
          27.9502,
          28.020000000000003,
          28.0898,
          28.1596,
          28.2294,
          28.2992,
          28.369,
          28.4388,
          28.5086,
          28.5784,
          28.6482,
          28.718,
          28.7878,
          28.8576,
          28.9274,
          28.9972,
          29.067,
          29.1368,
          29.2066,
          29.2764,
          29.3462,
          29.416,
          29.4858,
          29.5556,
          29.6254,
          29.6952,
          29.765,
          29.8348,
          29.9046,
          29.9744,
          30.0442,
          30.114,
          30.1838,
          30.2536,
          30.3234,
          30.3932,
          30.463,
          30.5328,
          30.6026,
          30.6724,
          30.742199999999997,
          30.812,
          30.881800000000002,
          30.9516,
          31.0214,
          31.091199999999997,
          31.161,
          31.230800000000002,
          31.3006,
          31.3704,
          31.440199999999997,
          31.51,
          31.579800000000002,
          31.6496,
          31.7194,
          31.789199999999997,
          31.859,
          31.9288,
          31.9986,
          32.0684,
          32.1382,
          32.208,
          32.2778,
          32.3476,
          32.4174,
          32.4872,
          32.557,
          32.6268,
          32.6966,
          32.7664,
          32.8362,
          32.906,
          32.9758,
          33.0456,
          33.1154,
          33.1852,
          33.255,
          33.324799999999996,
          33.3946,
          33.464400000000005,
          33.5342,
          33.604,
          33.6738,
          33.7436,
          33.8134,
          33.883199999999995,
          33.953,
          34.0228,
          34.0926,
          34.162400000000005,
          34.2322,
          34.302,
          34.3718,
          34.4416,
          34.5114,
          34.581199999999995,
          34.651,
          34.7208,
          34.7906,
          34.860400000000006,
          34.9302
         ],
         "xaxis": "x",
         "y": [
          0.08974586044934,
          0.09157584840968512,
          0.09331978987765031,
          0.09497378530535716,
          0.09653446009911663,
          0.09799898756541324,
          0.0993651066194822,
          0.10063113404763192,
          0.10179597118450084,
          0.10285910493863458,
          0.10382060317288797,
          0.10468110451902693,
          0.10544180277734287,
          0.10610442612089645,
          0.1066712113891236,
          0.10714487381589276,
          0.10752857259178783,
          0.10782587270858227,
          0.10804070357487347,
          0.10817731492512275,
          0.1082402305694858,
          0.10823420054858618,
          0.10816415226569732,
          0.10803514116870276,
          0.10785230154595848,
          0.10762079798409722,
          0.10734577801242152,
          0.10703232642841452,
          0.10668542176276574,
          0.10630989530095458,
          0.10591039303271507,
          0.10549134085149803,
          0.10505691327429817,
          0.10461100589882964,
          0.10415721176093333,
          0.10369880170116097,
          0.10323870879653659,
          0.10277951686230537,
          0.102323452979753,
          0.10187238396051171,
          0.10142781661568338,
          0.10099090166003358,
          0.10056244104775869,
          0.10014289850713044,
          0.09973241301681161,
          0.09933081494683957,
          0.09893764457215672,
          0.09855217265599611,
          0.09817342279421533,
          0.09780019520956672,
          0.09743109168658937,
          0.09706454134298202,
          0.09669882694160416,
          0.09633211145827207,
          0.09596246463388582,
          0.09558788925478653,
          0.09520634692217805,
          0.09481578308967342,
          0.09441415116715335,
          0.09399943550888933,
          0.0935696731240124,
          0.09312297396763722,
          0.09265753969111337,
          0.09217168074976936,
          0.09166383178599395,
          0.09113256522447595,
          0.09057660303476986,
          0.08999482663402492,
          0.08938628491964913,
          0.0887502004378352,
          0.08808597370922232,
          0.0873931857475013,
          0.08667159882043679,
          0.0859211555156,
          0.08514197618503441,
          0.0843343548540916,
          0.08349875368977329,
          0.0826357961330288,
          0.08174625880758876,
          0.08083106232499518,
          0.079891261111498,
          0.07892803238736802,
          0.07794266443289885,
          0.07693654427789522,
          0.07591114495273057,
          0.07486801243910013,
          0.07380875245735617,
          0.07273501722481394,
          0.07164849231565207,
          0.0705508837480351,
          0.06944390541790112,
          0.06832926699153964,
          0.067208662360712,
          0.06608375875472883,
          0.06495618659370594,
          0.06382753015628792,
          0.06269931912360237,
          0.06157302104921221,
          0.06045003479254767,
          0.05933168494085743,
          0.058219217232294763,
          0.05711379498051094,
          0.05601649648921952,
          0.05492831343377449,
          0.05385015017602569,
          0.05278282396870348,
          0.05172706599647016,
          0.050683523192661006,
          0.049652760763718044,
          0.048635265347465984,
          0.04763144872674809,
          0.04664165201656115,
          0.04566615024072551,
          0.044705157213282574,
          0.043758830640216996,
          0.04282727735869615,
          0.04191055863375986,
          0.041008695436189936,
          0.040121673630053645,
          0.03924944900405082,
          0.03839195208716701,
          0.03754909269614752,
          0.03672076416979493,
          0.03590684725295317,
          0.03510721360111175,
          0.03432172888471826,
          0.03355025548039045,
          0.03279265474413238,
          0.03204878886926895,
          0.031318522338990296,
          0.030601722990050186,
          0.02989826271018144,
          0.02920801779710812,
          0.028530869011572185,
          0.02786670136050365,
          0.027215403649308644,
          0.02657686784421292,
          0.025950988286664523,
          0.025337660801994927,
          0.02473678174387269,
          0.024148247014612784,
          0.023571951099176088,
          0.023007786147776134,
          0.022455641138486544,
          0.021915401147197363,
          0.021386946747801963,
          0.02087015356070948,
          0.020364891962779623,
          0.01987102696667317,
          0.019388418272515758,
          0.01891692048978702,
          0.018456383522577245,
          0.01800665310689282,
          0.01756757148463206,
          0.017138978195267038,
          0.01672071096322733,
          0.01631260665654007,
          0.015914502290478083,
          0.015526236048835095,
          0.015147648294990948,
          0.014778582545155391,
          0.014418886377064644,
          0.01406841224892296,
          0.01372701820549052,
          0.013394568450859443,
          0.013070933770571341,
          0.012755991789233152,
          0.01244962705360364,
          0.012151730935162142,
          0.011862201350340527,
          0.011580942300810108,
          0.011307863240368091,
          0.011042878278978875,
          0.010785905238303124,
          0.010536864576513889,
          0.010295678203280567,
          0.01006226820843599,
          0.009836555529972524,
          0.009618458588603907,
          0.009407891917143436,
          0.009204764813375347,
          0.009008980044925076,
          0.008820432633877143,
          0.00863900874756401,
          0.008464584720089135,
          0.008297026226794506,
          0.008136187631088837,
          0.007981911519879117,
          0.007834028440362253,
          0.007692356847208139,
          0.007556703265278792,
          0.007426862669057188,
          0.007302619075986399,
          0.007183746347020642,
          0.00707000918394134,
          0.006961164309465589,
          0.006856961812934389,
          0.006757146641475017,
          0.006661460214035129,
          0.0065696421336259294,
          0.006481431971523479,
          0.006396571096079263,
          0.0063148045181969994,
          0.006235882725445008,
          0.006159563477180794,
          0.0060856135339517935,
          0.006013810295774539,
          0.005943943325649476,
          0.005875815736797369,
          0.005809245424557686,
          0.005744066126615143,
          0.0056801282981612045,
          0.005617299791692601,
          0.005555466334338058,
          0.005494531798826534,
          0.005434418267406729,
          0.005375065891140548,
          0.0053164325499708105,
          0.005258493321756329,
          0.005201239771033125,
          0.0051446790705623755,
          0.005088832970732348,
          0.005033736633572192,
          0.004979437349491029,
          0.004925993155871239,
          0.004873471377315232,
          0.004821947107678075,
          0.00477150165402441,
          0.004722220962345218,
          0.004674194044281003,
          0.004627511423248735,
          0.004582263617293359,
          0.00453853967471175,
          0.004496425777065414,
          0.004456003922641634,
          0.004417350701780737,
          0.004380536173791809,
          0.00434562285346812,
          0.004312664813515255,
          0.004281706907552225,
          0.004252784116760692,
          0.004225921021765256,
          0.004201131399943886,
          0.004178417947107578,
          0.004157772121360482,
          0.004139174105961644,
          0.004122592887158664,
          0.004107986442247801,
          0.004095302032529751,
          0.004084476595364564,
          0.004075437229171731,
          0.004068101764957637,
          0.0040623794177671755,
          0.004058171511331903,
          0.004055372269108063,
          0.004053869664845407,
          0.004053546325788635,
          0.004054280481570809,
          0.004055946951800923,
          0.00405841816526548,
          0.004061565203548329,
          0.004065258861720197,
          0.004069370718556688,
          0.004073774208514042,
          0.004078345687428929,
          0.004082965483621303,
          0.004087518925777987,
          0.0040918973386930785,
          0.004095998997655199,
          0.004099730032019334,
          0.004103005268300989,
          0.004105749003002864,
          0.004107895695350311,
          0.004109390570189429,
          0.004110190121511718,
          0.004110262507427036,
          0.004109587827928152,
          0.004108158277486485,
          0.0041059781653987396,
          0.004103063797871864,
          0.0040994432170899054,
          0.0040951557939455235,
          0.004090251672732649,
          0.004084791067870093,
          0.00407884341463973,
          0.004072486377953098,
          0.0040658047252787365,
          0.004058889072036016,
          0.004051834509953787,
          0.004044739131065107,
          0.004037702462119986,
          0.004030823826205326,
          0.0040242006502202825,
          0.004017926738524229,
          0.004012090534511418,
          0.00400677339303229,
          0.004002047887440818,
          0.003997976175568167,
          0.003994608449080243,
          0.003991981490448674,
          0.0039901173611395155,
          0.003989022243593972,
          0.003988685458142348,
          0.003989078674166307,
          0.003990155332621431,
          0.003991850294478405,
          0.0039940797267692145,
          0.003996741234775071,
          0.003999714245511885,
          0.004002860644110132,
          0.004006025661006032,
          0.004009039004121619,
          0.004011716226477099,
          0.004013860316014523,
          0.004015263490883759,
          0.004015709180113826,
          0.004014974166526641,
          0.004012830866004432,
          0.00400904971484854,
          0.004003401635012819,
          0.003995660545498481,
          0.003985605887189326,
          0.003973025127909348,
          0.003957716214510674,
          0.0039394899393515315,
          0.003918172189594258,
          0.00389360604932518,
          0.003865653726545215,
          0.0038341982795667465,
          0.003799145120235463,
          0.0037604232746243347,
          0.003717986385363726,
          0.003671813443515024,
          0.0036219092417985365,
          0.003568304544982403,
          0.0035110559772577165,
          0.003450245630397675,
          0.0033859804003582706,
          0.0033183910636601583,
          0.0032476311083373967,
          0.0031738753373933525,
          0.0030973182655205,
          0.0030181723322780726,
          0.0029366659569472044,
          0.0028530414618733587,
          0.002767552892244772,
          0.00268046376093669,
          0.002592044747276561,
          0.0025025713783646216,
          0.0024123217209362805,
          0.002321574110702261,
          0.002230604944681561,
          0.0021396865602884662,
          0.0020490852228899374,
          0.001959059241259954,
          0.001869857227870435,
          0.0017817165183248945,
          0.001694861761510682,
          0.0016095036892684377,
          0.0015258380716020445,
          0.001444044860723648,
          0.0013642875245903627,
          0.0012867125680794916,
          0.0012114492376030027,
          0.0011386094028085826,
          0.0010682876070781569,
          0.0010005612768350537,
          0.0009354910782206068,
          0.0008731214085093358,
          0.0008134810087010002,
          0.0007565836830570064,
          0.0007024291109306169,
          0.0006510037360654156,
          0.0006022817185901405,
          0.0005562259352028387,
          0.0005127890134942932,
          0.0004719143869872441,
          0.0004335373582414745,
          0.0003975861582711493,
          0.00036398299151531896,
          0.00033264505667149124,
          0.00030348553482138427,
          0.00027641453742543824,
          0.0002513400079167302,
          0.00022816857176609343,
          0.0002068063310010465,
          0.0001871596002254838,
          0.00016913558219196431,
          0.00015264298191224558,
          0.000137592559145689,
          0.00012389761987232918,
          0.00011147444803334363,
          0.00010024267940342824,
          0.00009012561994686108,
          0.00008105051140237623,
          0.00007294874714435498,
          0.00006575604158286157,
          0.00005941255649804856,
          0.00005386298776138456,
          0.00004905661588392853,
          0.00004494732375801911,
          0.000041493584831083596,
          0.000038658424777062965,
          0.000036409359520444655,
          0.000034718312228332905,
          0.00003356151162555338,
          0.00003291937371426069,
          0.00003277636870046511,
          0.00003312087465234193,
          0.00003394501914572967,
          0.000035244509896843034,
          0.00003701845514632423,
          0.000039269174347064603,
          0.000042001999524800824,
          0.00004522506752866762,
          0.00004894910327129972,
          0.000053187193976564585,
          0.00005795455440874043,
          0.00006326828305025656,
          0.00006914710922565176,
          0.00007561113123602169,
          0.00008268154566913278,
          0.00009038036818297408,
          0.00009873014622163476,
          0.00010775366430820883,
          0.00011747364276544058,
          0.0001279124309362307,
          0.00013909169620740405,
          0.00015103211037566136,
          0.0001637530351282932,
          0.0001772722086369235,
          0.0001916054354739294,
          0.00020676628225214304,
          0.00022276578155301066,
          0.0002396121468407577,
          0.00025731050115530537,
          0.0002758626224298238,
          0.0002952667082861908,
          0.000315517163120056,
          0.00033660441019455774,
          0.00035851473131703063,
          0.00038123013647601585,
          0.00040472826556807516,
          0.00042898232404730646,
          0.00045396105398883924,
          0.00047962874167566203,
          0.0005059452624014614,
          0.000532866162738022,
          0.0005603427800512444,
          0.0005883223985742103,
          0.0006167484408672458,
          0.0006455606930237526,
          0.0006746955615257226,
          0.0007040863592243437,
          0.0007336636175278438,
          0.000763355421529813,
          0.0007930877645142047,
          0.0008227849180356088,
          0.0008523698136004426,
          0.000881764431871242,
          0.0009108901952851058,
          0.0009396683600195391,
          0.0009680204033545253,
          0.0009958684026659095,
          0.0010231354025386176,
          0.0010497457668030732,
          0.0010756255126672825,
          0.001100702624532095,
          0.0011249073455280925,
          0.0011481724452889568,
          0.0011704334629664959,
          0.0011916289249849664,
          0.0012117005375149377,
          0.0012305933541081008,
          0.001248255919362829,
          0.0012646403898756177,
          0.0012797026340666286,
          0.0012934023127404049,
          0.0013057029424493596,
          0.0013165719438632912,
          0.0013259806774105244,
          0.0013339044684446226,
          0.001340322624106756,
          0.001345218443900972,
          0.001348579225783385,
          0.0013503962692938644,
          0.0013506648769387951,
          0.0013493843546761443,
          0.0013465580119703907,
          0.00134219316148682,
          0.0013363011180944529,
          0.0013288971964568643,
          0.001320000706122305,
          0.0013096349426904258,
          0.0012978271733428133,
          0.001284608614787903,
          0.0012700144014952935,
          0.0012540835419860247,
          0.0012368588609084677,
          0.0012183869246658804
         ],
         "yaxis": "y"
        },
        {
         "legendgroup": "Selling Price",
         "marker": {
          "color": "rgb(31, 119, 180)",
          "symbol": "line-ns-open"
         },
         "mode": "markers",
         "name": "Selling Price",
         "showlegend": false,
         "type": "scatter",
         "x": [
          3.35,
          4.75,
          7.25,
          2.85,
          4.6,
          9.25,
          6.75,
          6.5,
          8.75,
          7.45,
          2.85,
          6.85,
          7.5,
          6.1,
          2.25,
          7.75,
          7.25,
          7.75,
          3.25,
          2.65,
          2.85,
          4.9,
          4.4,
          2.5,
          2.9,
          3,
          4.15,
          6,
          1.95,
          7.45,
          3.1,
          2.35,
          4.95,
          6,
          5.5,
          2.95,
          4.65,
          0.35,
          3,
          2.25,
          5.85,
          2.55,
          1.95,
          5.5,
          1.25,
          7.5,
          2.65,
          1.05,
          5.8,
          7.75,
          14.9,
          23,
          18,
          16,
          2.75,
          3.6,
          4.5,
          4.75,
          4.1,
          19.99,
          6.95,
          4.5,
          18.75,
          23.5,
          33,
          4.75,
          19.75,
          9.25,
          4.35,
          14.25,
          3.95,
          4.5,
          7.45,
          2.65,
          4.9,
          3.95,
          5.5,
          1.5,
          5.25,
          14.5,
          14.73,
          4.75,
          23,
          12.5,
          3.49,
          2.5,
          35,
          5.9,
          3.45,
          4.75,
          3.8,
          11.25,
          3.51,
          23,
          4,
          5.85,
          20.75,
          17,
          7.05,
          9.65,
          1.75,
          1.7,
          1.65,
          1.45,
          1.35,
          1.35,
          1.35,
          1.25,
          1.2,
          1.2,
          1.2,
          1.15,
          1.15,
          1.15,
          1.15,
          1.11,
          1.1,
          1.1,
          1.1,
          1.05,
          1.05,
          1.05,
          1.05,
          1,
          0.95,
          0.9,
          0.9,
          0.75,
          0.8,
          0.78,
          0.75,
          0.75,
          0.75,
          0.72,
          0.65,
          0.65,
          0.65,
          0.65,
          0.6,
          0.6,
          0.6,
          0.6,
          0.6,
          0.6,
          0.6,
          0.6,
          0.55,
          0.55,
          0.52,
          0.51,
          0.5,
          0.5,
          0.5,
          0.5,
          0.5,
          0.48,
          0.48,
          0.48,
          0.48,
          0.45,
          0.45,
          0.45,
          0.45,
          0.45,
          0.45,
          0.45,
          0.45,
          0.42,
          0.42,
          0.4,
          0.4,
          0.4,
          0.4,
          0.4,
          0.38,
          0.38,
          0.35,
          0.35,
          0.35,
          0.31,
          0.3,
          0.3,
          0.3,
          0.27,
          0.25,
          0.25,
          0.25,
          0.25,
          0.25,
          0.2,
          0.2,
          0.2,
          0.2,
          0.2,
          0.2,
          0.18,
          0.17,
          0.16,
          0.15,
          0.12,
          0.1,
          3.25,
          4.4,
          2.95,
          2.75,
          5.25,
          5.75,
          5.15,
          7.9,
          4.85,
          3.1,
          11.75,
          11.25,
          2.9,
          5.25,
          4.5,
          2.9,
          3.15,
          6.45,
          4.5,
          3.5,
          4.5,
          6,
          8.25,
          5.11,
          2.7,
          5.25,
          2.55,
          4.95,
          3.1,
          6.15,
          9.25,
          11.45,
          3.9,
          5.5,
          9.1,
          3.1,
          11.25,
          4.8,
          2,
          5.35,
          4.75,
          4.4,
          6.25,
          5.95,
          5.2,
          3.75,
          5.95,
          4,
          5.25,
          12.9,
          5,
          5.4,
          7.2,
          5.25,
          3,
          10.25,
          8.5,
          8.4,
          3.9,
          9.15,
          5.5,
          4,
          6.6,
          4,
          6.5,
          3.65,
          8.35,
          4.8,
          6.7,
          4.1,
          3,
          7.5,
          2.25,
          5.3,
          10.9,
          8.65,
          9.7,
          6,
          6.25,
          5.25,
          2.1,
          8.25,
          8.99,
          3.5,
          7.4,
          5.65,
          5.75,
          8.4,
          10.11,
          4.5,
          5.4,
          6.4,
          3.25,
          3.75,
          8.55,
          9.5,
          4,
          3.35,
          11.5,
          5.3
         ],
         "xaxis": "x",
         "y": [
          "Selling Price",
          "Selling Price",
          "Selling Price",
          "Selling Price",
          "Selling Price",
          "Selling Price",
          "Selling Price",
          "Selling Price",
          "Selling Price",
          "Selling Price",
          "Selling Price",
          "Selling Price",
          "Selling Price",
          "Selling Price",
          "Selling Price",
          "Selling Price",
          "Selling Price",
          "Selling Price",
          "Selling Price",
          "Selling Price",
          "Selling Price",
          "Selling Price",
          "Selling Price",
          "Selling Price",
          "Selling Price",
          "Selling Price",
          "Selling Price",
          "Selling Price",
          "Selling Price",
          "Selling Price",
          "Selling Price",
          "Selling Price",
          "Selling Price",
          "Selling Price",
          "Selling Price",
          "Selling Price",
          "Selling Price",
          "Selling Price",
          "Selling Price",
          "Selling Price",
          "Selling Price",
          "Selling Price",
          "Selling Price",
          "Selling Price",
          "Selling Price",
          "Selling Price",
          "Selling Price",
          "Selling Price",
          "Selling Price",
          "Selling Price",
          "Selling Price",
          "Selling Price",
          "Selling Price",
          "Selling Price",
          "Selling Price",
          "Selling Price",
          "Selling Price",
          "Selling Price",
          "Selling Price",
          "Selling Price",
          "Selling Price",
          "Selling Price",
          "Selling Price",
          "Selling Price",
          "Selling Price",
          "Selling Price",
          "Selling Price",
          "Selling Price",
          "Selling Price",
          "Selling Price",
          "Selling Price",
          "Selling Price",
          "Selling Price",
          "Selling Price",
          "Selling Price",
          "Selling Price",
          "Selling Price",
          "Selling Price",
          "Selling Price",
          "Selling Price",
          "Selling Price",
          "Selling Price",
          "Selling Price",
          "Selling Price",
          "Selling Price",
          "Selling Price",
          "Selling Price",
          "Selling Price",
          "Selling Price",
          "Selling Price",
          "Selling Price",
          "Selling Price",
          "Selling Price",
          "Selling Price",
          "Selling Price",
          "Selling Price",
          "Selling Price",
          "Selling Price",
          "Selling Price",
          "Selling Price",
          "Selling Price",
          "Selling Price",
          "Selling Price",
          "Selling Price",
          "Selling Price",
          "Selling Price",
          "Selling Price",
          "Selling Price",
          "Selling Price",
          "Selling Price",
          "Selling Price",
          "Selling Price",
          "Selling Price",
          "Selling Price",
          "Selling Price",
          "Selling Price",
          "Selling Price",
          "Selling Price",
          "Selling Price",
          "Selling Price",
          "Selling Price",
          "Selling Price",
          "Selling Price",
          "Selling Price",
          "Selling Price",
          "Selling Price",
          "Selling Price",
          "Selling Price",
          "Selling Price",
          "Selling Price",
          "Selling Price",
          "Selling Price",
          "Selling Price",
          "Selling Price",
          "Selling Price",
          "Selling Price",
          "Selling Price",
          "Selling Price",
          "Selling Price",
          "Selling Price",
          "Selling Price",
          "Selling Price",
          "Selling Price",
          "Selling Price",
          "Selling Price",
          "Selling Price",
          "Selling Price",
          "Selling Price",
          "Selling Price",
          "Selling Price",
          "Selling Price",
          "Selling Price",
          "Selling Price",
          "Selling Price",
          "Selling Price",
          "Selling Price",
          "Selling Price",
          "Selling Price",
          "Selling Price",
          "Selling Price",
          "Selling Price",
          "Selling Price",
          "Selling Price",
          "Selling Price",
          "Selling Price",
          "Selling Price",
          "Selling Price",
          "Selling Price",
          "Selling Price",
          "Selling Price",
          "Selling Price",
          "Selling Price",
          "Selling Price",
          "Selling Price",
          "Selling Price",
          "Selling Price",
          "Selling Price",
          "Selling Price",
          "Selling Price",
          "Selling Price",
          "Selling Price",
          "Selling Price",
          "Selling Price",
          "Selling Price",
          "Selling Price",
          "Selling Price",
          "Selling Price",
          "Selling Price",
          "Selling Price",
          "Selling Price",
          "Selling Price",
          "Selling Price",
          "Selling Price",
          "Selling Price",
          "Selling Price",
          "Selling Price",
          "Selling Price",
          "Selling Price",
          "Selling Price",
          "Selling Price",
          "Selling Price",
          "Selling Price",
          "Selling Price",
          "Selling Price",
          "Selling Price",
          "Selling Price",
          "Selling Price",
          "Selling Price",
          "Selling Price",
          "Selling Price",
          "Selling Price",
          "Selling Price",
          "Selling Price",
          "Selling Price",
          "Selling Price",
          "Selling Price",
          "Selling Price",
          "Selling Price",
          "Selling Price",
          "Selling Price",
          "Selling Price",
          "Selling Price",
          "Selling Price",
          "Selling Price",
          "Selling Price",
          "Selling Price",
          "Selling Price",
          "Selling Price",
          "Selling Price",
          "Selling Price",
          "Selling Price",
          "Selling Price",
          "Selling Price",
          "Selling Price",
          "Selling Price",
          "Selling Price",
          "Selling Price",
          "Selling Price",
          "Selling Price",
          "Selling Price",
          "Selling Price",
          "Selling Price",
          "Selling Price",
          "Selling Price",
          "Selling Price",
          "Selling Price",
          "Selling Price",
          "Selling Price",
          "Selling Price",
          "Selling Price",
          "Selling Price",
          "Selling Price",
          "Selling Price",
          "Selling Price",
          "Selling Price",
          "Selling Price",
          "Selling Price",
          "Selling Price",
          "Selling Price",
          "Selling Price",
          "Selling Price",
          "Selling Price",
          "Selling Price",
          "Selling Price",
          "Selling Price",
          "Selling Price",
          "Selling Price",
          "Selling Price",
          "Selling Price",
          "Selling Price",
          "Selling Price",
          "Selling Price",
          "Selling Price",
          "Selling Price",
          "Selling Price",
          "Selling Price",
          "Selling Price",
          "Selling Price",
          "Selling Price",
          "Selling Price",
          "Selling Price",
          "Selling Price",
          "Selling Price",
          "Selling Price",
          "Selling Price",
          "Selling Price",
          "Selling Price",
          "Selling Price",
          "Selling Price",
          "Selling Price",
          "Selling Price",
          "Selling Price",
          "Selling Price",
          "Selling Price",
          "Selling Price",
          "Selling Price",
          "Selling Price",
          "Selling Price",
          "Selling Price",
          "Selling Price",
          "Selling Price"
         ],
         "yaxis": "y2"
        }
       ],
       "layout": {
        "bargap": 0.01,
        "barmode": "overlay",
        "height": 500,
        "hovermode": "closest",
        "legend": {
         "traceorder": "reversed"
        },
        "template": {
         "data": {
          "bar": [
           {
            "error_x": {
             "color": "#2a3f5f"
            },
            "error_y": {
             "color": "#2a3f5f"
            },
            "marker": {
             "line": {
              "color": "white",
              "width": 0.5
             },
             "pattern": {
              "fillmode": "overlay",
              "size": 10,
              "solidity": 0.2
             }
            },
            "type": "bar"
           }
          ],
          "barpolar": [
           {
            "marker": {
             "line": {
              "color": "white",
              "width": 0.5
             },
             "pattern": {
              "fillmode": "overlay",
              "size": 10,
              "solidity": 0.2
             }
            },
            "type": "barpolar"
           }
          ],
          "carpet": [
           {
            "aaxis": {
             "endlinecolor": "#2a3f5f",
             "gridcolor": "#C8D4E3",
             "linecolor": "#C8D4E3",
             "minorgridcolor": "#C8D4E3",
             "startlinecolor": "#2a3f5f"
            },
            "baxis": {
             "endlinecolor": "#2a3f5f",
             "gridcolor": "#C8D4E3",
             "linecolor": "#C8D4E3",
             "minorgridcolor": "#C8D4E3",
             "startlinecolor": "#2a3f5f"
            },
            "type": "carpet"
           }
          ],
          "choropleth": [
           {
            "colorbar": {
             "outlinewidth": 0,
             "ticks": ""
            },
            "type": "choropleth"
           }
          ],
          "contour": [
           {
            "colorbar": {
             "outlinewidth": 0,
             "ticks": ""
            },
            "colorscale": [
             [
              0,
              "#0d0887"
             ],
             [
              0.1111111111111111,
              "#46039f"
             ],
             [
              0.2222222222222222,
              "#7201a8"
             ],
             [
              0.3333333333333333,
              "#9c179e"
             ],
             [
              0.4444444444444444,
              "#bd3786"
             ],
             [
              0.5555555555555556,
              "#d8576b"
             ],
             [
              0.6666666666666666,
              "#ed7953"
             ],
             [
              0.7777777777777778,
              "#fb9f3a"
             ],
             [
              0.8888888888888888,
              "#fdca26"
             ],
             [
              1,
              "#f0f921"
             ]
            ],
            "type": "contour"
           }
          ],
          "contourcarpet": [
           {
            "colorbar": {
             "outlinewidth": 0,
             "ticks": ""
            },
            "type": "contourcarpet"
           }
          ],
          "heatmap": [
           {
            "colorbar": {
             "outlinewidth": 0,
             "ticks": ""
            },
            "colorscale": [
             [
              0,
              "#0d0887"
             ],
             [
              0.1111111111111111,
              "#46039f"
             ],
             [
              0.2222222222222222,
              "#7201a8"
             ],
             [
              0.3333333333333333,
              "#9c179e"
             ],
             [
              0.4444444444444444,
              "#bd3786"
             ],
             [
              0.5555555555555556,
              "#d8576b"
             ],
             [
              0.6666666666666666,
              "#ed7953"
             ],
             [
              0.7777777777777778,
              "#fb9f3a"
             ],
             [
              0.8888888888888888,
              "#fdca26"
             ],
             [
              1,
              "#f0f921"
             ]
            ],
            "type": "heatmap"
           }
          ],
          "heatmapgl": [
           {
            "colorbar": {
             "outlinewidth": 0,
             "ticks": ""
            },
            "colorscale": [
             [
              0,
              "#0d0887"
             ],
             [
              0.1111111111111111,
              "#46039f"
             ],
             [
              0.2222222222222222,
              "#7201a8"
             ],
             [
              0.3333333333333333,
              "#9c179e"
             ],
             [
              0.4444444444444444,
              "#bd3786"
             ],
             [
              0.5555555555555556,
              "#d8576b"
             ],
             [
              0.6666666666666666,
              "#ed7953"
             ],
             [
              0.7777777777777778,
              "#fb9f3a"
             ],
             [
              0.8888888888888888,
              "#fdca26"
             ],
             [
              1,
              "#f0f921"
             ]
            ],
            "type": "heatmapgl"
           }
          ],
          "histogram": [
           {
            "marker": {
             "pattern": {
              "fillmode": "overlay",
              "size": 10,
              "solidity": 0.2
             }
            },
            "type": "histogram"
           }
          ],
          "histogram2d": [
           {
            "colorbar": {
             "outlinewidth": 0,
             "ticks": ""
            },
            "colorscale": [
             [
              0,
              "#0d0887"
             ],
             [
              0.1111111111111111,
              "#46039f"
             ],
             [
              0.2222222222222222,
              "#7201a8"
             ],
             [
              0.3333333333333333,
              "#9c179e"
             ],
             [
              0.4444444444444444,
              "#bd3786"
             ],
             [
              0.5555555555555556,
              "#d8576b"
             ],
             [
              0.6666666666666666,
              "#ed7953"
             ],
             [
              0.7777777777777778,
              "#fb9f3a"
             ],
             [
              0.8888888888888888,
              "#fdca26"
             ],
             [
              1,
              "#f0f921"
             ]
            ],
            "type": "histogram2d"
           }
          ],
          "histogram2dcontour": [
           {
            "colorbar": {
             "outlinewidth": 0,
             "ticks": ""
            },
            "colorscale": [
             [
              0,
              "#0d0887"
             ],
             [
              0.1111111111111111,
              "#46039f"
             ],
             [
              0.2222222222222222,
              "#7201a8"
             ],
             [
              0.3333333333333333,
              "#9c179e"
             ],
             [
              0.4444444444444444,
              "#bd3786"
             ],
             [
              0.5555555555555556,
              "#d8576b"
             ],
             [
              0.6666666666666666,
              "#ed7953"
             ],
             [
              0.7777777777777778,
              "#fb9f3a"
             ],
             [
              0.8888888888888888,
              "#fdca26"
             ],
             [
              1,
              "#f0f921"
             ]
            ],
            "type": "histogram2dcontour"
           }
          ],
          "mesh3d": [
           {
            "colorbar": {
             "outlinewidth": 0,
             "ticks": ""
            },
            "type": "mesh3d"
           }
          ],
          "parcoords": [
           {
            "line": {
             "colorbar": {
              "outlinewidth": 0,
              "ticks": ""
             }
            },
            "type": "parcoords"
           }
          ],
          "pie": [
           {
            "automargin": true,
            "type": "pie"
           }
          ],
          "scatter": [
           {
            "fillpattern": {
             "fillmode": "overlay",
             "size": 10,
             "solidity": 0.2
            },
            "type": "scatter"
           }
          ],
          "scatter3d": [
           {
            "line": {
             "colorbar": {
              "outlinewidth": 0,
              "ticks": ""
             }
            },
            "marker": {
             "colorbar": {
              "outlinewidth": 0,
              "ticks": ""
             }
            },
            "type": "scatter3d"
           }
          ],
          "scattercarpet": [
           {
            "marker": {
             "colorbar": {
              "outlinewidth": 0,
              "ticks": ""
             }
            },
            "type": "scattercarpet"
           }
          ],
          "scattergeo": [
           {
            "marker": {
             "colorbar": {
              "outlinewidth": 0,
              "ticks": ""
             }
            },
            "type": "scattergeo"
           }
          ],
          "scattergl": [
           {
            "marker": {
             "colorbar": {
              "outlinewidth": 0,
              "ticks": ""
             }
            },
            "type": "scattergl"
           }
          ],
          "scattermapbox": [
           {
            "marker": {
             "colorbar": {
              "outlinewidth": 0,
              "ticks": ""
             }
            },
            "type": "scattermapbox"
           }
          ],
          "scatterpolar": [
           {
            "marker": {
             "colorbar": {
              "outlinewidth": 0,
              "ticks": ""
             }
            },
            "type": "scatterpolar"
           }
          ],
          "scatterpolargl": [
           {
            "marker": {
             "colorbar": {
              "outlinewidth": 0,
              "ticks": ""
             }
            },
            "type": "scatterpolargl"
           }
          ],
          "scatterternary": [
           {
            "marker": {
             "colorbar": {
              "outlinewidth": 0,
              "ticks": ""
             }
            },
            "type": "scatterternary"
           }
          ],
          "surface": [
           {
            "colorbar": {
             "outlinewidth": 0,
             "ticks": ""
            },
            "colorscale": [
             [
              0,
              "#0d0887"
             ],
             [
              0.1111111111111111,
              "#46039f"
             ],
             [
              0.2222222222222222,
              "#7201a8"
             ],
             [
              0.3333333333333333,
              "#9c179e"
             ],
             [
              0.4444444444444444,
              "#bd3786"
             ],
             [
              0.5555555555555556,
              "#d8576b"
             ],
             [
              0.6666666666666666,
              "#ed7953"
             ],
             [
              0.7777777777777778,
              "#fb9f3a"
             ],
             [
              0.8888888888888888,
              "#fdca26"
             ],
             [
              1,
              "#f0f921"
             ]
            ],
            "type": "surface"
           }
          ],
          "table": [
           {
            "cells": {
             "fill": {
              "color": "#EBF0F8"
             },
             "line": {
              "color": "white"
             }
            },
            "header": {
             "fill": {
              "color": "#C8D4E3"
             },
             "line": {
              "color": "white"
             }
            },
            "type": "table"
           }
          ]
         },
         "layout": {
          "annotationdefaults": {
           "arrowcolor": "#2a3f5f",
           "arrowhead": 0,
           "arrowwidth": 1
          },
          "autotypenumbers": "strict",
          "coloraxis": {
           "colorbar": {
            "outlinewidth": 0,
            "ticks": ""
           }
          },
          "colorscale": {
           "diverging": [
            [
             0,
             "#8e0152"
            ],
            [
             0.1,
             "#c51b7d"
            ],
            [
             0.2,
             "#de77ae"
            ],
            [
             0.3,
             "#f1b6da"
            ],
            [
             0.4,
             "#fde0ef"
            ],
            [
             0.5,
             "#f7f7f7"
            ],
            [
             0.6,
             "#e6f5d0"
            ],
            [
             0.7,
             "#b8e186"
            ],
            [
             0.8,
             "#7fbc41"
            ],
            [
             0.9,
             "#4d9221"
            ],
            [
             1,
             "#276419"
            ]
           ],
           "sequential": [
            [
             0,
             "#0d0887"
            ],
            [
             0.1111111111111111,
             "#46039f"
            ],
            [
             0.2222222222222222,
             "#7201a8"
            ],
            [
             0.3333333333333333,
             "#9c179e"
            ],
            [
             0.4444444444444444,
             "#bd3786"
            ],
            [
             0.5555555555555556,
             "#d8576b"
            ],
            [
             0.6666666666666666,
             "#ed7953"
            ],
            [
             0.7777777777777778,
             "#fb9f3a"
            ],
            [
             0.8888888888888888,
             "#fdca26"
            ],
            [
             1,
             "#f0f921"
            ]
           ],
           "sequentialminus": [
            [
             0,
             "#0d0887"
            ],
            [
             0.1111111111111111,
             "#46039f"
            ],
            [
             0.2222222222222222,
             "#7201a8"
            ],
            [
             0.3333333333333333,
             "#9c179e"
            ],
            [
             0.4444444444444444,
             "#bd3786"
            ],
            [
             0.5555555555555556,
             "#d8576b"
            ],
            [
             0.6666666666666666,
             "#ed7953"
            ],
            [
             0.7777777777777778,
             "#fb9f3a"
            ],
            [
             0.8888888888888888,
             "#fdca26"
            ],
            [
             1,
             "#f0f921"
            ]
           ]
          },
          "colorway": [
           "#636efa",
           "#EF553B",
           "#00cc96",
           "#ab63fa",
           "#FFA15A",
           "#19d3f3",
           "#FF6692",
           "#B6E880",
           "#FF97FF",
           "#FECB52"
          ],
          "font": {
           "color": "#2a3f5f"
          },
          "geo": {
           "bgcolor": "white",
           "lakecolor": "white",
           "landcolor": "white",
           "showlakes": true,
           "showland": true,
           "subunitcolor": "#C8D4E3"
          },
          "hoverlabel": {
           "align": "left"
          },
          "hovermode": "closest",
          "mapbox": {
           "style": "light"
          },
          "paper_bgcolor": "white",
          "plot_bgcolor": "white",
          "polar": {
           "angularaxis": {
            "gridcolor": "#EBF0F8",
            "linecolor": "#EBF0F8",
            "ticks": ""
           },
           "bgcolor": "white",
           "radialaxis": {
            "gridcolor": "#EBF0F8",
            "linecolor": "#EBF0F8",
            "ticks": ""
           }
          },
          "scene": {
           "xaxis": {
            "backgroundcolor": "white",
            "gridcolor": "#DFE8F3",
            "gridwidth": 2,
            "linecolor": "#EBF0F8",
            "showbackground": true,
            "ticks": "",
            "zerolinecolor": "#EBF0F8"
           },
           "yaxis": {
            "backgroundcolor": "white",
            "gridcolor": "#DFE8F3",
            "gridwidth": 2,
            "linecolor": "#EBF0F8",
            "showbackground": true,
            "ticks": "",
            "zerolinecolor": "#EBF0F8"
           },
           "zaxis": {
            "backgroundcolor": "white",
            "gridcolor": "#DFE8F3",
            "gridwidth": 2,
            "linecolor": "#EBF0F8",
            "showbackground": true,
            "ticks": "",
            "zerolinecolor": "#EBF0F8"
           }
          },
          "shapedefaults": {
           "line": {
            "color": "#2a3f5f"
           }
          },
          "ternary": {
           "aaxis": {
            "gridcolor": "#DFE8F3",
            "linecolor": "#A2B1C6",
            "ticks": ""
           },
           "baxis": {
            "gridcolor": "#DFE8F3",
            "linecolor": "#A2B1C6",
            "ticks": ""
           },
           "bgcolor": "white",
           "caxis": {
            "gridcolor": "#DFE8F3",
            "linecolor": "#A2B1C6",
            "ticks": ""
           }
          },
          "title": {
           "x": 0.05
          },
          "xaxis": {
           "automargin": true,
           "gridcolor": "#EBF0F8",
           "linecolor": "#EBF0F8",
           "ticks": "",
           "title": {
            "standoff": 15
           },
           "zerolinecolor": "#EBF0F8",
           "zerolinewidth": 2
          },
          "yaxis": {
           "automargin": true,
           "gridcolor": "#EBF0F8",
           "linecolor": "#EBF0F8",
           "ticks": "",
           "title": {
            "standoff": 15
           },
           "zerolinecolor": "#EBF0F8",
           "zerolinewidth": 2
          }
         }
        },
        "title": {
         "font": {
          "size": 20
         },
         "text": "Distribution and Box Plot of Selling Prices"
        },
        "width": 1000,
        "xaxis": {
         "anchor": "y2",
         "domain": [
          0,
          1
         ],
         "title": {
          "text": "Selling Price"
         },
         "zeroline": false
        },
        "yaxis": {
         "anchor": "free",
         "domain": [
          0.35,
          1
         ],
         "position": 0,
         "title": {
          "text": "Density"
         }
        },
        "yaxis2": {
         "anchor": "x",
         "domain": [
          0,
          0.25
         ],
         "dtick": 1,
         "showticklabels": false
        }
       }
      }
     },
     "metadata": {},
     "output_type": "display_data"
    }
   ],
   "source": [
    "import plotly.figure_factory as ff\n",
    "\n",
    "fig = ff.create_distplot([df['Selling_Price']], ['Selling Price'],\n",
    "                         show_hist=True,\n",
    "                         show_rug=True)\n",
    "\n",
    "fig.update_layout(\n",
    "    title_text='Distribution and Box Plot of Selling Prices',  # Başlık metni\n",
    "    title_font_size=20,  # Başlık font büyüklüğü\n",
    "    xaxis_title_text='Selling Price',  # X eksen başlığı\n",
    "    yaxis_title_text='Density',  # Y eksen başlığı\n",
    "    template='plotly_white',  # Arka planı beyaz yapıyoruz\n",
    "    width=1000,  # Grafiğin genişliği\n",
    "    height=500,  # Grafiğin yüksekliği\n",
    "    bargap=0.01,  # Barlar arası boşluk\n",
    ")\n",
    "\n",
    "fig.show()\n",
    "\n",
    "# tree based modeller outlierlara karşı çok robustdur(güçlüdür).\n",
    "# Ancak küçük regression datalarında bu durum geçerli değildir.\n",
    "# Küçük regression datalarında outlier dağerler düştüğü yapraklardaki ortalama fiyatları ciddi şekilde yükseltebiliğinden\n",
    "# veya azaltabildiğinden eğitim için yetersiz olan bu outlier gözlemleri düşürmek tree based modellerde önem arzediyor.\n",
    "#Ancak her zaman olduğu gibi hem outlierlar ile hem de outlierları düşürerek skorları karşılaştırıp farklarını görmeliyiz\n",
    "\n",
    "# show_rug parametresi, veri noktalarının her birinin konumunu x ekseninde bir çizgi ile gösterir.\n",
    "# Bu her bir gözlemin dağılımını ve yoğunluğunu daha ayrıntılı bir şekilde görmek için kullanışlıdır.\n",
    "\n",
    "# Rug plot, genellikle histogram veya kernel density estimate (KDE) çizimlerinin altında yer alır.\n",
    "# Her bir veri noktasını temsil eden küçük dikey çizgiler, veri setindeki değerlerin nerede yoğunlaştığını ve\n",
    "# potansiyel olarak outlier ların nerede bulunduğunu gösterir.\n",
    "# Bu özellik, veri setinin dağılımını anlamada faydalıdır çünkü rug plotlar veri noktalarının yığılma alanlarını ve\n",
    "# nadir bulunan bölgeleri net bir şekilde gösterir."
   ]
  },
  {
   "cell_type": "code",
   "execution_count": 17,
   "id": "ae573594",
   "metadata": {
    "ExecuteTime": {
     "end_time": "2024-03-05T16:08:09.109186Z",
     "start_time": "2024-03-05T16:08:09.079240Z"
    }
   },
   "outputs": [
    {
     "data": {
      "application/vnd.plotly.v1+json": {
       "config": {
        "plotlyServerURL": "https://plot.ly"
       },
       "data": [
        {
         "name": "Selling Price",
         "type": "box",
         "y": [
          3.35,
          4.75,
          7.25,
          2.85,
          4.6,
          9.25,
          6.75,
          6.5,
          8.75,
          7.45,
          2.85,
          6.85,
          7.5,
          6.1,
          2.25,
          7.75,
          7.25,
          7.75,
          3.25,
          2.65,
          2.85,
          4.9,
          4.4,
          2.5,
          2.9,
          3,
          4.15,
          6,
          1.95,
          7.45,
          3.1,
          2.35,
          4.95,
          6,
          5.5,
          2.95,
          4.65,
          0.35,
          3,
          2.25,
          5.85,
          2.55,
          1.95,
          5.5,
          1.25,
          7.5,
          2.65,
          1.05,
          5.8,
          7.75,
          14.9,
          23,
          18,
          16,
          2.75,
          3.6,
          4.5,
          4.75,
          4.1,
          19.99,
          6.95,
          4.5,
          18.75,
          23.5,
          33,
          4.75,
          19.75,
          9.25,
          4.35,
          14.25,
          3.95,
          4.5,
          7.45,
          2.65,
          4.9,
          3.95,
          5.5,
          1.5,
          5.25,
          14.5,
          14.73,
          4.75,
          23,
          12.5,
          3.49,
          2.5,
          35,
          5.9,
          3.45,
          4.75,
          3.8,
          11.25,
          3.51,
          23,
          4,
          5.85,
          20.75,
          17,
          7.05,
          9.65,
          1.75,
          1.7,
          1.65,
          1.45,
          1.35,
          1.35,
          1.35,
          1.25,
          1.2,
          1.2,
          1.2,
          1.15,
          1.15,
          1.15,
          1.15,
          1.11,
          1.1,
          1.1,
          1.1,
          1.05,
          1.05,
          1.05,
          1.05,
          1,
          0.95,
          0.9,
          0.9,
          0.75,
          0.8,
          0.78,
          0.75,
          0.75,
          0.75,
          0.72,
          0.65,
          0.65,
          0.65,
          0.65,
          0.6,
          0.6,
          0.6,
          0.6,
          0.6,
          0.6,
          0.6,
          0.6,
          0.55,
          0.55,
          0.52,
          0.51,
          0.5,
          0.5,
          0.5,
          0.5,
          0.5,
          0.48,
          0.48,
          0.48,
          0.48,
          0.45,
          0.45,
          0.45,
          0.45,
          0.45,
          0.45,
          0.45,
          0.45,
          0.42,
          0.42,
          0.4,
          0.4,
          0.4,
          0.4,
          0.4,
          0.38,
          0.38,
          0.35,
          0.35,
          0.35,
          0.31,
          0.3,
          0.3,
          0.3,
          0.27,
          0.25,
          0.25,
          0.25,
          0.25,
          0.25,
          0.2,
          0.2,
          0.2,
          0.2,
          0.2,
          0.2,
          0.18,
          0.17,
          0.16,
          0.15,
          0.12,
          0.1,
          3.25,
          4.4,
          2.95,
          2.75,
          5.25,
          5.75,
          5.15,
          7.9,
          4.85,
          3.1,
          11.75,
          11.25,
          2.9,
          5.25,
          4.5,
          2.9,
          3.15,
          6.45,
          4.5,
          3.5,
          4.5,
          6,
          8.25,
          5.11,
          2.7,
          5.25,
          2.55,
          4.95,
          3.1,
          6.15,
          9.25,
          11.45,
          3.9,
          5.5,
          9.1,
          3.1,
          11.25,
          4.8,
          2,
          5.35,
          4.75,
          4.4,
          6.25,
          5.95,
          5.2,
          3.75,
          5.95,
          4,
          5.25,
          12.9,
          5,
          5.4,
          7.2,
          5.25,
          3,
          10.25,
          8.5,
          8.4,
          3.9,
          9.15,
          5.5,
          4,
          6.6,
          4,
          6.5,
          3.65,
          8.35,
          4.8,
          6.7,
          4.1,
          3,
          7.5,
          2.25,
          5.3,
          10.9,
          8.65,
          9.7,
          6,
          6.25,
          5.25,
          2.1,
          8.25,
          8.99,
          3.5,
          7.4,
          5.65,
          5.75,
          8.4,
          10.11,
          4.5,
          5.4,
          6.4,
          3.25,
          3.75,
          8.55,
          9.5,
          4,
          3.35,
          11.5,
          5.3
         ]
        }
       ],
       "layout": {
        "template": {
         "data": {
          "bar": [
           {
            "error_x": {
             "color": "#2a3f5f"
            },
            "error_y": {
             "color": "#2a3f5f"
            },
            "marker": {
             "line": {
              "color": "#E5ECF6",
              "width": 0.5
             },
             "pattern": {
              "fillmode": "overlay",
              "size": 10,
              "solidity": 0.2
             }
            },
            "type": "bar"
           }
          ],
          "barpolar": [
           {
            "marker": {
             "line": {
              "color": "#E5ECF6",
              "width": 0.5
             },
             "pattern": {
              "fillmode": "overlay",
              "size": 10,
              "solidity": 0.2
             }
            },
            "type": "barpolar"
           }
          ],
          "carpet": [
           {
            "aaxis": {
             "endlinecolor": "#2a3f5f",
             "gridcolor": "white",
             "linecolor": "white",
             "minorgridcolor": "white",
             "startlinecolor": "#2a3f5f"
            },
            "baxis": {
             "endlinecolor": "#2a3f5f",
             "gridcolor": "white",
             "linecolor": "white",
             "minorgridcolor": "white",
             "startlinecolor": "#2a3f5f"
            },
            "type": "carpet"
           }
          ],
          "choropleth": [
           {
            "colorbar": {
             "outlinewidth": 0,
             "ticks": ""
            },
            "type": "choropleth"
           }
          ],
          "contour": [
           {
            "colorbar": {
             "outlinewidth": 0,
             "ticks": ""
            },
            "colorscale": [
             [
              0,
              "#0d0887"
             ],
             [
              0.1111111111111111,
              "#46039f"
             ],
             [
              0.2222222222222222,
              "#7201a8"
             ],
             [
              0.3333333333333333,
              "#9c179e"
             ],
             [
              0.4444444444444444,
              "#bd3786"
             ],
             [
              0.5555555555555556,
              "#d8576b"
             ],
             [
              0.6666666666666666,
              "#ed7953"
             ],
             [
              0.7777777777777778,
              "#fb9f3a"
             ],
             [
              0.8888888888888888,
              "#fdca26"
             ],
             [
              1,
              "#f0f921"
             ]
            ],
            "type": "contour"
           }
          ],
          "contourcarpet": [
           {
            "colorbar": {
             "outlinewidth": 0,
             "ticks": ""
            },
            "type": "contourcarpet"
           }
          ],
          "heatmap": [
           {
            "colorbar": {
             "outlinewidth": 0,
             "ticks": ""
            },
            "colorscale": [
             [
              0,
              "#0d0887"
             ],
             [
              0.1111111111111111,
              "#46039f"
             ],
             [
              0.2222222222222222,
              "#7201a8"
             ],
             [
              0.3333333333333333,
              "#9c179e"
             ],
             [
              0.4444444444444444,
              "#bd3786"
             ],
             [
              0.5555555555555556,
              "#d8576b"
             ],
             [
              0.6666666666666666,
              "#ed7953"
             ],
             [
              0.7777777777777778,
              "#fb9f3a"
             ],
             [
              0.8888888888888888,
              "#fdca26"
             ],
             [
              1,
              "#f0f921"
             ]
            ],
            "type": "heatmap"
           }
          ],
          "heatmapgl": [
           {
            "colorbar": {
             "outlinewidth": 0,
             "ticks": ""
            },
            "colorscale": [
             [
              0,
              "#0d0887"
             ],
             [
              0.1111111111111111,
              "#46039f"
             ],
             [
              0.2222222222222222,
              "#7201a8"
             ],
             [
              0.3333333333333333,
              "#9c179e"
             ],
             [
              0.4444444444444444,
              "#bd3786"
             ],
             [
              0.5555555555555556,
              "#d8576b"
             ],
             [
              0.6666666666666666,
              "#ed7953"
             ],
             [
              0.7777777777777778,
              "#fb9f3a"
             ],
             [
              0.8888888888888888,
              "#fdca26"
             ],
             [
              1,
              "#f0f921"
             ]
            ],
            "type": "heatmapgl"
           }
          ],
          "histogram": [
           {
            "marker": {
             "pattern": {
              "fillmode": "overlay",
              "size": 10,
              "solidity": 0.2
             }
            },
            "type": "histogram"
           }
          ],
          "histogram2d": [
           {
            "colorbar": {
             "outlinewidth": 0,
             "ticks": ""
            },
            "colorscale": [
             [
              0,
              "#0d0887"
             ],
             [
              0.1111111111111111,
              "#46039f"
             ],
             [
              0.2222222222222222,
              "#7201a8"
             ],
             [
              0.3333333333333333,
              "#9c179e"
             ],
             [
              0.4444444444444444,
              "#bd3786"
             ],
             [
              0.5555555555555556,
              "#d8576b"
             ],
             [
              0.6666666666666666,
              "#ed7953"
             ],
             [
              0.7777777777777778,
              "#fb9f3a"
             ],
             [
              0.8888888888888888,
              "#fdca26"
             ],
             [
              1,
              "#f0f921"
             ]
            ],
            "type": "histogram2d"
           }
          ],
          "histogram2dcontour": [
           {
            "colorbar": {
             "outlinewidth": 0,
             "ticks": ""
            },
            "colorscale": [
             [
              0,
              "#0d0887"
             ],
             [
              0.1111111111111111,
              "#46039f"
             ],
             [
              0.2222222222222222,
              "#7201a8"
             ],
             [
              0.3333333333333333,
              "#9c179e"
             ],
             [
              0.4444444444444444,
              "#bd3786"
             ],
             [
              0.5555555555555556,
              "#d8576b"
             ],
             [
              0.6666666666666666,
              "#ed7953"
             ],
             [
              0.7777777777777778,
              "#fb9f3a"
             ],
             [
              0.8888888888888888,
              "#fdca26"
             ],
             [
              1,
              "#f0f921"
             ]
            ],
            "type": "histogram2dcontour"
           }
          ],
          "mesh3d": [
           {
            "colorbar": {
             "outlinewidth": 0,
             "ticks": ""
            },
            "type": "mesh3d"
           }
          ],
          "parcoords": [
           {
            "line": {
             "colorbar": {
              "outlinewidth": 0,
              "ticks": ""
             }
            },
            "type": "parcoords"
           }
          ],
          "pie": [
           {
            "automargin": true,
            "type": "pie"
           }
          ],
          "scatter": [
           {
            "fillpattern": {
             "fillmode": "overlay",
             "size": 10,
             "solidity": 0.2
            },
            "type": "scatter"
           }
          ],
          "scatter3d": [
           {
            "line": {
             "colorbar": {
              "outlinewidth": 0,
              "ticks": ""
             }
            },
            "marker": {
             "colorbar": {
              "outlinewidth": 0,
              "ticks": ""
             }
            },
            "type": "scatter3d"
           }
          ],
          "scattercarpet": [
           {
            "marker": {
             "colorbar": {
              "outlinewidth": 0,
              "ticks": ""
             }
            },
            "type": "scattercarpet"
           }
          ],
          "scattergeo": [
           {
            "marker": {
             "colorbar": {
              "outlinewidth": 0,
              "ticks": ""
             }
            },
            "type": "scattergeo"
           }
          ],
          "scattergl": [
           {
            "marker": {
             "colorbar": {
              "outlinewidth": 0,
              "ticks": ""
             }
            },
            "type": "scattergl"
           }
          ],
          "scattermapbox": [
           {
            "marker": {
             "colorbar": {
              "outlinewidth": 0,
              "ticks": ""
             }
            },
            "type": "scattermapbox"
           }
          ],
          "scatterpolar": [
           {
            "marker": {
             "colorbar": {
              "outlinewidth": 0,
              "ticks": ""
             }
            },
            "type": "scatterpolar"
           }
          ],
          "scatterpolargl": [
           {
            "marker": {
             "colorbar": {
              "outlinewidth": 0,
              "ticks": ""
             }
            },
            "type": "scatterpolargl"
           }
          ],
          "scatterternary": [
           {
            "marker": {
             "colorbar": {
              "outlinewidth": 0,
              "ticks": ""
             }
            },
            "type": "scatterternary"
           }
          ],
          "surface": [
           {
            "colorbar": {
             "outlinewidth": 0,
             "ticks": ""
            },
            "colorscale": [
             [
              0,
              "#0d0887"
             ],
             [
              0.1111111111111111,
              "#46039f"
             ],
             [
              0.2222222222222222,
              "#7201a8"
             ],
             [
              0.3333333333333333,
              "#9c179e"
             ],
             [
              0.4444444444444444,
              "#bd3786"
             ],
             [
              0.5555555555555556,
              "#d8576b"
             ],
             [
              0.6666666666666666,
              "#ed7953"
             ],
             [
              0.7777777777777778,
              "#fb9f3a"
             ],
             [
              0.8888888888888888,
              "#fdca26"
             ],
             [
              1,
              "#f0f921"
             ]
            ],
            "type": "surface"
           }
          ],
          "table": [
           {
            "cells": {
             "fill": {
              "color": "#EBF0F8"
             },
             "line": {
              "color": "white"
             }
            },
            "header": {
             "fill": {
              "color": "#C8D4E3"
             },
             "line": {
              "color": "white"
             }
            },
            "type": "table"
           }
          ]
         },
         "layout": {
          "annotationdefaults": {
           "arrowcolor": "#2a3f5f",
           "arrowhead": 0,
           "arrowwidth": 1
          },
          "autotypenumbers": "strict",
          "coloraxis": {
           "colorbar": {
            "outlinewidth": 0,
            "ticks": ""
           }
          },
          "colorscale": {
           "diverging": [
            [
             0,
             "#8e0152"
            ],
            [
             0.1,
             "#c51b7d"
            ],
            [
             0.2,
             "#de77ae"
            ],
            [
             0.3,
             "#f1b6da"
            ],
            [
             0.4,
             "#fde0ef"
            ],
            [
             0.5,
             "#f7f7f7"
            ],
            [
             0.6,
             "#e6f5d0"
            ],
            [
             0.7,
             "#b8e186"
            ],
            [
             0.8,
             "#7fbc41"
            ],
            [
             0.9,
             "#4d9221"
            ],
            [
             1,
             "#276419"
            ]
           ],
           "sequential": [
            [
             0,
             "#0d0887"
            ],
            [
             0.1111111111111111,
             "#46039f"
            ],
            [
             0.2222222222222222,
             "#7201a8"
            ],
            [
             0.3333333333333333,
             "#9c179e"
            ],
            [
             0.4444444444444444,
             "#bd3786"
            ],
            [
             0.5555555555555556,
             "#d8576b"
            ],
            [
             0.6666666666666666,
             "#ed7953"
            ],
            [
             0.7777777777777778,
             "#fb9f3a"
            ],
            [
             0.8888888888888888,
             "#fdca26"
            ],
            [
             1,
             "#f0f921"
            ]
           ],
           "sequentialminus": [
            [
             0,
             "#0d0887"
            ],
            [
             0.1111111111111111,
             "#46039f"
            ],
            [
             0.2222222222222222,
             "#7201a8"
            ],
            [
             0.3333333333333333,
             "#9c179e"
            ],
            [
             0.4444444444444444,
             "#bd3786"
            ],
            [
             0.5555555555555556,
             "#d8576b"
            ],
            [
             0.6666666666666666,
             "#ed7953"
            ],
            [
             0.7777777777777778,
             "#fb9f3a"
            ],
            [
             0.8888888888888888,
             "#fdca26"
            ],
            [
             1,
             "#f0f921"
            ]
           ]
          },
          "colorway": [
           "#636efa",
           "#EF553B",
           "#00cc96",
           "#ab63fa",
           "#FFA15A",
           "#19d3f3",
           "#FF6692",
           "#B6E880",
           "#FF97FF",
           "#FECB52"
          ],
          "font": {
           "color": "#2a3f5f"
          },
          "geo": {
           "bgcolor": "white",
           "lakecolor": "white",
           "landcolor": "#E5ECF6",
           "showlakes": true,
           "showland": true,
           "subunitcolor": "white"
          },
          "hoverlabel": {
           "align": "left"
          },
          "hovermode": "closest",
          "mapbox": {
           "style": "light"
          },
          "paper_bgcolor": "white",
          "plot_bgcolor": "#E5ECF6",
          "polar": {
           "angularaxis": {
            "gridcolor": "white",
            "linecolor": "white",
            "ticks": ""
           },
           "bgcolor": "#E5ECF6",
           "radialaxis": {
            "gridcolor": "white",
            "linecolor": "white",
            "ticks": ""
           }
          },
          "scene": {
           "xaxis": {
            "backgroundcolor": "#E5ECF6",
            "gridcolor": "white",
            "gridwidth": 2,
            "linecolor": "white",
            "showbackground": true,
            "ticks": "",
            "zerolinecolor": "white"
           },
           "yaxis": {
            "backgroundcolor": "#E5ECF6",
            "gridcolor": "white",
            "gridwidth": 2,
            "linecolor": "white",
            "showbackground": true,
            "ticks": "",
            "zerolinecolor": "white"
           },
           "zaxis": {
            "backgroundcolor": "#E5ECF6",
            "gridcolor": "white",
            "gridwidth": 2,
            "linecolor": "white",
            "showbackground": true,
            "ticks": "",
            "zerolinecolor": "white"
           }
          },
          "shapedefaults": {
           "line": {
            "color": "#2a3f5f"
           }
          },
          "ternary": {
           "aaxis": {
            "gridcolor": "white",
            "linecolor": "white",
            "ticks": ""
           },
           "baxis": {
            "gridcolor": "white",
            "linecolor": "white",
            "ticks": ""
           },
           "bgcolor": "#E5ECF6",
           "caxis": {
            "gridcolor": "white",
            "linecolor": "white",
            "ticks": ""
           }
          },
          "title": {
           "x": 0.05
          },
          "xaxis": {
           "automargin": true,
           "gridcolor": "white",
           "linecolor": "white",
           "ticks": "",
           "title": {
            "standoff": 15
           },
           "zerolinecolor": "white",
           "zerolinewidth": 2
          },
          "yaxis": {
           "automargin": true,
           "gridcolor": "white",
           "linecolor": "white",
           "ticks": "",
           "title": {
            "standoff": 15
           },
           "zerolinecolor": "white",
           "zerolinewidth": 2
          }
         }
        },
        "title": {
         "text": "Selling Price Box Plot"
        }
       }
      }
     },
     "metadata": {},
     "output_type": "display_data"
    }
   ],
   "source": [
    "import plotly.graph_objs as go\n",
    "\n",
    "box_plot = go.Box(y=df['Selling_Price'], name='Selling Price')\n",
    "\n",
    "fig = go.Figure(data=[box_plot])\n",
    "fig.update_layout(title='Selling Price Box Plot')\n",
    "fig.show()"
   ]
  },
  {
   "cell_type": "markdown",
   "id": "b65a07df",
   "metadata": {},
   "source": [
    "# Modelling"
   ]
  },
  {
   "cell_type": "markdown",
   "id": "swiss-respondent",
   "metadata": {},
   "source": [
    "## Train test split"
   ]
  },
  {
   "cell_type": "code",
   "execution_count": 18,
   "id": "01c43b63",
   "metadata": {},
   "outputs": [
    {
     "data": {
      "text/html": [
       "<div>\n",
       "<style scoped>\n",
       "    .dataframe tbody tr th:only-of-type {\n",
       "        vertical-align: middle;\n",
       "    }\n",
       "\n",
       "    .dataframe tbody tr th {\n",
       "        vertical-align: top;\n",
       "    }\n",
       "\n",
       "    .dataframe thead th {\n",
       "        text-align: right;\n",
       "    }\n",
       "</style>\n",
       "<table border=\"1\" class=\"dataframe\">\n",
       "  <thead>\n",
       "    <tr style=\"text-align: right;\">\n",
       "      <th></th>\n",
       "      <th>Selling_Price</th>\n",
       "      <th>Present_Price</th>\n",
       "      <th>Kms_Driven</th>\n",
       "      <th>Fuel_Type</th>\n",
       "      <th>Seller_Type</th>\n",
       "      <th>Transmission</th>\n",
       "      <th>Owner</th>\n",
       "      <th>Vehicle_Age</th>\n",
       "    </tr>\n",
       "  </thead>\n",
       "  <tbody>\n",
       "    <tr>\n",
       "      <th>0</th>\n",
       "      <td>3.350</td>\n",
       "      <td>5.590</td>\n",
       "      <td>27000</td>\n",
       "      <td>Petrol</td>\n",
       "      <td>Dealer</td>\n",
       "      <td>Manual</td>\n",
       "      <td>0</td>\n",
       "      <td>10</td>\n",
       "    </tr>\n",
       "    <tr>\n",
       "      <th>1</th>\n",
       "      <td>4.750</td>\n",
       "      <td>9.540</td>\n",
       "      <td>43000</td>\n",
       "      <td>Diesel</td>\n",
       "      <td>Dealer</td>\n",
       "      <td>Manual</td>\n",
       "      <td>0</td>\n",
       "      <td>11</td>\n",
       "    </tr>\n",
       "    <tr>\n",
       "      <th>2</th>\n",
       "      <td>7.250</td>\n",
       "      <td>9.850</td>\n",
       "      <td>6900</td>\n",
       "      <td>Petrol</td>\n",
       "      <td>Dealer</td>\n",
       "      <td>Manual</td>\n",
       "      <td>0</td>\n",
       "      <td>7</td>\n",
       "    </tr>\n",
       "    <tr>\n",
       "      <th>3</th>\n",
       "      <td>2.850</td>\n",
       "      <td>4.150</td>\n",
       "      <td>5200</td>\n",
       "      <td>Petrol</td>\n",
       "      <td>Dealer</td>\n",
       "      <td>Manual</td>\n",
       "      <td>0</td>\n",
       "      <td>13</td>\n",
       "    </tr>\n",
       "    <tr>\n",
       "      <th>4</th>\n",
       "      <td>4.600</td>\n",
       "      <td>6.870</td>\n",
       "      <td>42450</td>\n",
       "      <td>Diesel</td>\n",
       "      <td>Dealer</td>\n",
       "      <td>Manual</td>\n",
       "      <td>0</td>\n",
       "      <td>10</td>\n",
       "    </tr>\n",
       "  </tbody>\n",
       "</table>\n",
       "</div>"
      ],
      "text/plain": [
       "   Selling_Price  Present_Price  Kms_Driven Fuel_Type Seller_Type Transmission  Owner  Vehicle_Age\n",
       "0          3.350          5.590       27000    Petrol      Dealer       Manual      0           10\n",
       "1          4.750          9.540       43000    Diesel      Dealer       Manual      0           11\n",
       "2          7.250          9.850        6900    Petrol      Dealer       Manual      0            7\n",
       "3          2.850          4.150        5200    Petrol      Dealer       Manual      0           13\n",
       "4          4.600          6.870       42450    Diesel      Dealer       Manual      0           10"
      ]
     },
     "execution_count": 18,
     "metadata": {},
     "output_type": "execute_result"
    }
   ],
   "source": [
    "df.head()"
   ]
  },
  {
   "cell_type": "code",
   "execution_count": 19,
   "id": "fa04fc94",
   "metadata": {},
   "outputs": [],
   "source": [
    "X = df.drop(columns='Selling_Price', axis=1)\n",
    "y = df['Selling_Price']"
   ]
  },
  {
   "cell_type": "code",
   "execution_count": 20,
   "id": "2e1fe523",
   "metadata": {},
   "outputs": [],
   "source": [
    "from sklearn.model_selection import train_test_split\n",
    "X_train, X_test, y_train, y_test = train_test_split(X, y, test_size=0.1, random_state=1)"
   ]
  },
  {
   "cell_type": "code",
   "execution_count": 21,
   "id": "16732211",
   "metadata": {},
   "outputs": [
    {
     "name": "stdout",
     "output_type": "stream",
     "text": [
      "Train features shape :  (270, 7)\n",
      "Train target shape   :  (270,)\n",
      "Test features shape  :  (31, 7)\n",
      "Test target shape    :  (31,)\n"
     ]
    }
   ],
   "source": [
    "print(\"Train features shape : \", X_train.shape)\n",
    "print(\"Train target shape   : \", y_train.shape)\n",
    "print(\"Test features shape  : \", X_test.shape)\n",
    "print(\"Test target shape    : \", y_test.shape)"
   ]
  },
  {
   "cell_type": "markdown",
   "id": "982e1432",
   "metadata": {},
   "source": [
    "## Modeling for Decision Tree"
   ]
  },
  {
   "cell_type": "code",
   "execution_count": 22,
   "id": "e4861518",
   "metadata": {},
   "outputs": [],
   "source": [
    "from sklearn.tree import DecisionTreeRegressor\n",
    "DT_model = DecisionTreeRegressor(random_state=1)"
   ]
  },
  {
   "cell_type": "code",
   "execution_count": 23,
   "id": "0f38d4fa",
   "metadata": {},
   "outputs": [
    {
     "data": {
      "text/plain": [
       "Index(['Fuel_Type', 'Seller_Type', 'Transmission'], dtype='object')"
      ]
     },
     "execution_count": 23,
     "metadata": {},
     "output_type": "execute_result"
    }
   ],
   "source": [
    "cat = X_train.select_dtypes('object').columns\n",
    "cat"
   ]
  },
  {
   "cell_type": "code",
   "execution_count": 24,
   "id": "af14ff4d",
   "metadata": {},
   "outputs": [],
   "source": [
    "from sklearn.compose import make_column_transformer\n",
    "from sklearn.preprocessing import OrdinalEncoder, OrdinalEncoder\n"
   ]
  },
  {
   "cell_type": "code",
   "execution_count": 25,
   "id": "b582ebc7",
   "metadata": {},
   "outputs": [
    {
     "data": {
      "text/html": [
       "<style>#sk-container-id-1 {color: black;}#sk-container-id-1 pre{padding: 0;}#sk-container-id-1 div.sk-toggleable {background-color: white;}#sk-container-id-1 label.sk-toggleable__label {cursor: pointer;display: block;width: 100%;margin-bottom: 0;padding: 0.3em;box-sizing: border-box;text-align: center;}#sk-container-id-1 label.sk-toggleable__label-arrow:before {content: \"▸\";float: left;margin-right: 0.25em;color: #696969;}#sk-container-id-1 label.sk-toggleable__label-arrow:hover:before {color: black;}#sk-container-id-1 div.sk-estimator:hover label.sk-toggleable__label-arrow:before {color: black;}#sk-container-id-1 div.sk-toggleable__content {max-height: 0;max-width: 0;overflow: hidden;text-align: left;background-color: #f0f8ff;}#sk-container-id-1 div.sk-toggleable__content pre {margin: 0.2em;color: black;border-radius: 0.25em;background-color: #f0f8ff;}#sk-container-id-1 input.sk-toggleable__control:checked~div.sk-toggleable__content {max-height: 200px;max-width: 100%;overflow: auto;}#sk-container-id-1 input.sk-toggleable__control:checked~label.sk-toggleable__label-arrow:before {content: \"▾\";}#sk-container-id-1 div.sk-estimator input.sk-toggleable__control:checked~label.sk-toggleable__label {background-color: #d4ebff;}#sk-container-id-1 div.sk-label input.sk-toggleable__control:checked~label.sk-toggleable__label {background-color: #d4ebff;}#sk-container-id-1 input.sk-hidden--visually {border: 0;clip: rect(1px 1px 1px 1px);clip: rect(1px, 1px, 1px, 1px);height: 1px;margin: -1px;overflow: hidden;padding: 0;position: absolute;width: 1px;}#sk-container-id-1 div.sk-estimator {font-family: monospace;background-color: #f0f8ff;border: 1px dotted black;border-radius: 0.25em;box-sizing: border-box;margin-bottom: 0.5em;}#sk-container-id-1 div.sk-estimator:hover {background-color: #d4ebff;}#sk-container-id-1 div.sk-parallel-item::after {content: \"\";width: 100%;border-bottom: 1px solid gray;flex-grow: 1;}#sk-container-id-1 div.sk-label:hover label.sk-toggleable__label {background-color: #d4ebff;}#sk-container-id-1 div.sk-serial::before {content: \"\";position: absolute;border-left: 1px solid gray;box-sizing: border-box;top: 0;bottom: 0;left: 50%;z-index: 0;}#sk-container-id-1 div.sk-serial {display: flex;flex-direction: column;align-items: center;background-color: white;padding-right: 0.2em;padding-left: 0.2em;position: relative;}#sk-container-id-1 div.sk-item {position: relative;z-index: 1;}#sk-container-id-1 div.sk-parallel {display: flex;align-items: stretch;justify-content: center;background-color: white;position: relative;}#sk-container-id-1 div.sk-item::before, #sk-container-id-1 div.sk-parallel-item::before {content: \"\";position: absolute;border-left: 1px solid gray;box-sizing: border-box;top: 0;bottom: 0;left: 50%;z-index: -1;}#sk-container-id-1 div.sk-parallel-item {display: flex;flex-direction: column;z-index: 1;position: relative;background-color: white;}#sk-container-id-1 div.sk-parallel-item:first-child::after {align-self: flex-end;width: 50%;}#sk-container-id-1 div.sk-parallel-item:last-child::after {align-self: flex-start;width: 50%;}#sk-container-id-1 div.sk-parallel-item:only-child::after {width: 0;}#sk-container-id-1 div.sk-dashed-wrapped {border: 1px dashed gray;margin: 0 0.4em 0.5em 0.4em;box-sizing: border-box;padding-bottom: 0.4em;background-color: white;}#sk-container-id-1 div.sk-label label {font-family: monospace;font-weight: bold;display: inline-block;line-height: 1.2em;}#sk-container-id-1 div.sk-label-container {text-align: center;}#sk-container-id-1 div.sk-container {/* jupyter's `normalize.less` sets `[hidden] { display: none; }` but bootstrap.min.css set `[hidden] { display: none !important; }` so we also need the `!important` here to be able to override the default hidden behavior on the sphinx rendered scikit-learn.org. See: https://github.com/scikit-learn/scikit-learn/issues/21755 */display: inline-block !important;position: relative;}#sk-container-id-1 div.sk-text-repr-fallback {display: none;}</style><div id=\"sk-container-id-1\" class=\"sk-top-container\"><div class=\"sk-text-repr-fallback\"><pre>OrdinalEncoder(handle_unknown=&#x27;use_encoded_value&#x27;, unknown_value=-1)</pre><b>In a Jupyter environment, please rerun this cell to show the HTML representation or trust the notebook. <br />On GitHub, the HTML representation is unable to render, please try loading this page with nbviewer.org.</b></div><div class=\"sk-container\" hidden><div class=\"sk-item\"><div class=\"sk-estimator sk-toggleable\"><input class=\"sk-toggleable__control sk-hidden--visually\" id=\"sk-estimator-id-1\" type=\"checkbox\" checked><label for=\"sk-estimator-id-1\" class=\"sk-toggleable__label sk-toggleable__label-arrow\">OrdinalEncoder</label><div class=\"sk-toggleable__content\"><pre>OrdinalEncoder(handle_unknown=&#x27;use_encoded_value&#x27;, unknown_value=-1)</pre></div></div></div></div></div>"
      ],
      "text/plain": [
       "OrdinalEncoder(handle_unknown='use_encoded_value', unknown_value=-1)"
      ]
     },
     "execution_count": 25,
     "metadata": {},
     "output_type": "execute_result"
    }
   ],
   "source": [
    "ord_enc = OrdinalEncoder(handle_unknown='use_encoded_value', unknown_value=-1)\n",
    "ord_enc"
   ]
  },
  {
   "cell_type": "code",
   "execution_count": 26,
   "id": "60484674",
   "metadata": {},
   "outputs": [
    {
     "data": {
      "text/html": [
       "<style>#sk-container-id-2 {color: black;}#sk-container-id-2 pre{padding: 0;}#sk-container-id-2 div.sk-toggleable {background-color: white;}#sk-container-id-2 label.sk-toggleable__label {cursor: pointer;display: block;width: 100%;margin-bottom: 0;padding: 0.3em;box-sizing: border-box;text-align: center;}#sk-container-id-2 label.sk-toggleable__label-arrow:before {content: \"▸\";float: left;margin-right: 0.25em;color: #696969;}#sk-container-id-2 label.sk-toggleable__label-arrow:hover:before {color: black;}#sk-container-id-2 div.sk-estimator:hover label.sk-toggleable__label-arrow:before {color: black;}#sk-container-id-2 div.sk-toggleable__content {max-height: 0;max-width: 0;overflow: hidden;text-align: left;background-color: #f0f8ff;}#sk-container-id-2 div.sk-toggleable__content pre {margin: 0.2em;color: black;border-radius: 0.25em;background-color: #f0f8ff;}#sk-container-id-2 input.sk-toggleable__control:checked~div.sk-toggleable__content {max-height: 200px;max-width: 100%;overflow: auto;}#sk-container-id-2 input.sk-toggleable__control:checked~label.sk-toggleable__label-arrow:before {content: \"▾\";}#sk-container-id-2 div.sk-estimator input.sk-toggleable__control:checked~label.sk-toggleable__label {background-color: #d4ebff;}#sk-container-id-2 div.sk-label input.sk-toggleable__control:checked~label.sk-toggleable__label {background-color: #d4ebff;}#sk-container-id-2 input.sk-hidden--visually {border: 0;clip: rect(1px 1px 1px 1px);clip: rect(1px, 1px, 1px, 1px);height: 1px;margin: -1px;overflow: hidden;padding: 0;position: absolute;width: 1px;}#sk-container-id-2 div.sk-estimator {font-family: monospace;background-color: #f0f8ff;border: 1px dotted black;border-radius: 0.25em;box-sizing: border-box;margin-bottom: 0.5em;}#sk-container-id-2 div.sk-estimator:hover {background-color: #d4ebff;}#sk-container-id-2 div.sk-parallel-item::after {content: \"\";width: 100%;border-bottom: 1px solid gray;flex-grow: 1;}#sk-container-id-2 div.sk-label:hover label.sk-toggleable__label {background-color: #d4ebff;}#sk-container-id-2 div.sk-serial::before {content: \"\";position: absolute;border-left: 1px solid gray;box-sizing: border-box;top: 0;bottom: 0;left: 50%;z-index: 0;}#sk-container-id-2 div.sk-serial {display: flex;flex-direction: column;align-items: center;background-color: white;padding-right: 0.2em;padding-left: 0.2em;position: relative;}#sk-container-id-2 div.sk-item {position: relative;z-index: 1;}#sk-container-id-2 div.sk-parallel {display: flex;align-items: stretch;justify-content: center;background-color: white;position: relative;}#sk-container-id-2 div.sk-item::before, #sk-container-id-2 div.sk-parallel-item::before {content: \"\";position: absolute;border-left: 1px solid gray;box-sizing: border-box;top: 0;bottom: 0;left: 50%;z-index: -1;}#sk-container-id-2 div.sk-parallel-item {display: flex;flex-direction: column;z-index: 1;position: relative;background-color: white;}#sk-container-id-2 div.sk-parallel-item:first-child::after {align-self: flex-end;width: 50%;}#sk-container-id-2 div.sk-parallel-item:last-child::after {align-self: flex-start;width: 50%;}#sk-container-id-2 div.sk-parallel-item:only-child::after {width: 0;}#sk-container-id-2 div.sk-dashed-wrapped {border: 1px dashed gray;margin: 0 0.4em 0.5em 0.4em;box-sizing: border-box;padding-bottom: 0.4em;background-color: white;}#sk-container-id-2 div.sk-label label {font-family: monospace;font-weight: bold;display: inline-block;line-height: 1.2em;}#sk-container-id-2 div.sk-label-container {text-align: center;}#sk-container-id-2 div.sk-container {/* jupyter's `normalize.less` sets `[hidden] { display: none; }` but bootstrap.min.css set `[hidden] { display: none !important; }` so we also need the `!important` here to be able to override the default hidden behavior on the sphinx rendered scikit-learn.org. See: https://github.com/scikit-learn/scikit-learn/issues/21755 */display: inline-block !important;position: relative;}#sk-container-id-2 div.sk-text-repr-fallback {display: none;}</style><div id=\"sk-container-id-2\" class=\"sk-top-container\"><div class=\"sk-text-repr-fallback\"><pre>ColumnTransformer(remainder=&#x27;passthrough&#x27;,\n",
       "                  transformers=[(&#x27;ordinalencoder&#x27;,\n",
       "                                 OrdinalEncoder(handle_unknown=&#x27;use_encoded_value&#x27;,\n",
       "                                                unknown_value=-1),\n",
       "                                 Index([&#x27;Fuel_Type&#x27;, &#x27;Seller_Type&#x27;, &#x27;Transmission&#x27;], dtype=&#x27;object&#x27;))])</pre><b>In a Jupyter environment, please rerun this cell to show the HTML representation or trust the notebook. <br />On GitHub, the HTML representation is unable to render, please try loading this page with nbviewer.org.</b></div><div class=\"sk-container\" hidden><div class=\"sk-item sk-dashed-wrapped\"><div class=\"sk-label-container\"><div class=\"sk-label sk-toggleable\"><input class=\"sk-toggleable__control sk-hidden--visually\" id=\"sk-estimator-id-2\" type=\"checkbox\" ><label for=\"sk-estimator-id-2\" class=\"sk-toggleable__label sk-toggleable__label-arrow\">ColumnTransformer</label><div class=\"sk-toggleable__content\"><pre>ColumnTransformer(remainder=&#x27;passthrough&#x27;,\n",
       "                  transformers=[(&#x27;ordinalencoder&#x27;,\n",
       "                                 OrdinalEncoder(handle_unknown=&#x27;use_encoded_value&#x27;,\n",
       "                                                unknown_value=-1),\n",
       "                                 Index([&#x27;Fuel_Type&#x27;, &#x27;Seller_Type&#x27;, &#x27;Transmission&#x27;], dtype=&#x27;object&#x27;))])</pre></div></div></div><div class=\"sk-parallel\"><div class=\"sk-parallel-item\"><div class=\"sk-item\"><div class=\"sk-label-container\"><div class=\"sk-label sk-toggleable\"><input class=\"sk-toggleable__control sk-hidden--visually\" id=\"sk-estimator-id-3\" type=\"checkbox\" ><label for=\"sk-estimator-id-3\" class=\"sk-toggleable__label sk-toggleable__label-arrow\">ordinalencoder</label><div class=\"sk-toggleable__content\"><pre>Index([&#x27;Fuel_Type&#x27;, &#x27;Seller_Type&#x27;, &#x27;Transmission&#x27;], dtype=&#x27;object&#x27;)</pre></div></div></div><div class=\"sk-serial\"><div class=\"sk-item\"><div class=\"sk-estimator sk-toggleable\"><input class=\"sk-toggleable__control sk-hidden--visually\" id=\"sk-estimator-id-4\" type=\"checkbox\" ><label for=\"sk-estimator-id-4\" class=\"sk-toggleable__label sk-toggleable__label-arrow\">OrdinalEncoder</label><div class=\"sk-toggleable__content\"><pre>OrdinalEncoder(handle_unknown=&#x27;use_encoded_value&#x27;, unknown_value=-1)</pre></div></div></div></div></div></div><div class=\"sk-parallel-item\"><div class=\"sk-item\"><div class=\"sk-label-container\"><div class=\"sk-label sk-toggleable\"><input class=\"sk-toggleable__control sk-hidden--visually\" id=\"sk-estimator-id-5\" type=\"checkbox\" ><label for=\"sk-estimator-id-5\" class=\"sk-toggleable__label sk-toggleable__label-arrow\">remainder</label><div class=\"sk-toggleable__content\"><pre></pre></div></div></div><div class=\"sk-serial\"><div class=\"sk-item\"><div class=\"sk-estimator sk-toggleable\"><input class=\"sk-toggleable__control sk-hidden--visually\" id=\"sk-estimator-id-6\" type=\"checkbox\" ><label for=\"sk-estimator-id-6\" class=\"sk-toggleable__label sk-toggleable__label-arrow\">passthrough</label><div class=\"sk-toggleable__content\"><pre>passthrough</pre></div></div></div></div></div></div></div></div></div></div>"
      ],
      "text/plain": [
       "ColumnTransformer(remainder='passthrough',\n",
       "                  transformers=[('ordinalencoder',\n",
       "                                 OrdinalEncoder(handle_unknown='use_encoded_value',\n",
       "                                                unknown_value=-1),\n",
       "                                 Index(['Fuel_Type', 'Seller_Type', 'Transmission'], dtype='object'))])"
      ]
     },
     "execution_count": 26,
     "metadata": {},
     "output_type": "execute_result"
    }
   ],
   "source": [
    "column_trans = make_column_transformer((ord_enc, cat), remainder= 'passthrough')\n",
    "column_trans"
   ]
  },
  {
   "cell_type": "code",
   "execution_count": 27,
   "id": "0a3537d4",
   "metadata": {},
   "outputs": [],
   "source": [
    "from sklearn.pipeline import Pipeline"
   ]
  },
  {
   "cell_type": "code",
   "execution_count": 28,
   "id": "cfd5a008",
   "metadata": {},
   "outputs": [],
   "source": [
    "operations = [('OrdinalEncoder', column_trans), ('DT_model', DecisionTreeRegressor(random_state=1))]"
   ]
  },
  {
   "cell_type": "code",
   "execution_count": 29,
   "id": "16e55eef",
   "metadata": {},
   "outputs": [],
   "source": [
    "pipe_model = Pipeline(steps=operations)"
   ]
  },
  {
   "cell_type": "code",
   "execution_count": 30,
   "id": "76951579",
   "metadata": {},
   "outputs": [
    {
     "data": {
      "text/html": [
       "<style>#sk-container-id-3 {color: black;}#sk-container-id-3 pre{padding: 0;}#sk-container-id-3 div.sk-toggleable {background-color: white;}#sk-container-id-3 label.sk-toggleable__label {cursor: pointer;display: block;width: 100%;margin-bottom: 0;padding: 0.3em;box-sizing: border-box;text-align: center;}#sk-container-id-3 label.sk-toggleable__label-arrow:before {content: \"▸\";float: left;margin-right: 0.25em;color: #696969;}#sk-container-id-3 label.sk-toggleable__label-arrow:hover:before {color: black;}#sk-container-id-3 div.sk-estimator:hover label.sk-toggleable__label-arrow:before {color: black;}#sk-container-id-3 div.sk-toggleable__content {max-height: 0;max-width: 0;overflow: hidden;text-align: left;background-color: #f0f8ff;}#sk-container-id-3 div.sk-toggleable__content pre {margin: 0.2em;color: black;border-radius: 0.25em;background-color: #f0f8ff;}#sk-container-id-3 input.sk-toggleable__control:checked~div.sk-toggleable__content {max-height: 200px;max-width: 100%;overflow: auto;}#sk-container-id-3 input.sk-toggleable__control:checked~label.sk-toggleable__label-arrow:before {content: \"▾\";}#sk-container-id-3 div.sk-estimator input.sk-toggleable__control:checked~label.sk-toggleable__label {background-color: #d4ebff;}#sk-container-id-3 div.sk-label input.sk-toggleable__control:checked~label.sk-toggleable__label {background-color: #d4ebff;}#sk-container-id-3 input.sk-hidden--visually {border: 0;clip: rect(1px 1px 1px 1px);clip: rect(1px, 1px, 1px, 1px);height: 1px;margin: -1px;overflow: hidden;padding: 0;position: absolute;width: 1px;}#sk-container-id-3 div.sk-estimator {font-family: monospace;background-color: #f0f8ff;border: 1px dotted black;border-radius: 0.25em;box-sizing: border-box;margin-bottom: 0.5em;}#sk-container-id-3 div.sk-estimator:hover {background-color: #d4ebff;}#sk-container-id-3 div.sk-parallel-item::after {content: \"\";width: 100%;border-bottom: 1px solid gray;flex-grow: 1;}#sk-container-id-3 div.sk-label:hover label.sk-toggleable__label {background-color: #d4ebff;}#sk-container-id-3 div.sk-serial::before {content: \"\";position: absolute;border-left: 1px solid gray;box-sizing: border-box;top: 0;bottom: 0;left: 50%;z-index: 0;}#sk-container-id-3 div.sk-serial {display: flex;flex-direction: column;align-items: center;background-color: white;padding-right: 0.2em;padding-left: 0.2em;position: relative;}#sk-container-id-3 div.sk-item {position: relative;z-index: 1;}#sk-container-id-3 div.sk-parallel {display: flex;align-items: stretch;justify-content: center;background-color: white;position: relative;}#sk-container-id-3 div.sk-item::before, #sk-container-id-3 div.sk-parallel-item::before {content: \"\";position: absolute;border-left: 1px solid gray;box-sizing: border-box;top: 0;bottom: 0;left: 50%;z-index: -1;}#sk-container-id-3 div.sk-parallel-item {display: flex;flex-direction: column;z-index: 1;position: relative;background-color: white;}#sk-container-id-3 div.sk-parallel-item:first-child::after {align-self: flex-end;width: 50%;}#sk-container-id-3 div.sk-parallel-item:last-child::after {align-self: flex-start;width: 50%;}#sk-container-id-3 div.sk-parallel-item:only-child::after {width: 0;}#sk-container-id-3 div.sk-dashed-wrapped {border: 1px dashed gray;margin: 0 0.4em 0.5em 0.4em;box-sizing: border-box;padding-bottom: 0.4em;background-color: white;}#sk-container-id-3 div.sk-label label {font-family: monospace;font-weight: bold;display: inline-block;line-height: 1.2em;}#sk-container-id-3 div.sk-label-container {text-align: center;}#sk-container-id-3 div.sk-container {/* jupyter's `normalize.less` sets `[hidden] { display: none; }` but bootstrap.min.css set `[hidden] { display: none !important; }` so we also need the `!important` here to be able to override the default hidden behavior on the sphinx rendered scikit-learn.org. See: https://github.com/scikit-learn/scikit-learn/issues/21755 */display: inline-block !important;position: relative;}#sk-container-id-3 div.sk-text-repr-fallback {display: none;}</style><div id=\"sk-container-id-3\" class=\"sk-top-container\"><div class=\"sk-text-repr-fallback\"><pre>Pipeline(steps=[(&#x27;OrdinalEncoder&#x27;,\n",
       "                 ColumnTransformer(remainder=&#x27;passthrough&#x27;,\n",
       "                                   transformers=[(&#x27;ordinalencoder&#x27;,\n",
       "                                                  OrdinalEncoder(handle_unknown=&#x27;use_encoded_value&#x27;,\n",
       "                                                                 unknown_value=-1),\n",
       "                                                  Index([&#x27;Fuel_Type&#x27;, &#x27;Seller_Type&#x27;, &#x27;Transmission&#x27;], dtype=&#x27;object&#x27;))])),\n",
       "                (&#x27;DT_model&#x27;, DecisionTreeRegressor(random_state=1))])</pre><b>In a Jupyter environment, please rerun this cell to show the HTML representation or trust the notebook. <br />On GitHub, the HTML representation is unable to render, please try loading this page with nbviewer.org.</b></div><div class=\"sk-container\" hidden><div class=\"sk-item sk-dashed-wrapped\"><div class=\"sk-label-container\"><div class=\"sk-label sk-toggleable\"><input class=\"sk-toggleable__control sk-hidden--visually\" id=\"sk-estimator-id-7\" type=\"checkbox\" ><label for=\"sk-estimator-id-7\" class=\"sk-toggleable__label sk-toggleable__label-arrow\">Pipeline</label><div class=\"sk-toggleable__content\"><pre>Pipeline(steps=[(&#x27;OrdinalEncoder&#x27;,\n",
       "                 ColumnTransformer(remainder=&#x27;passthrough&#x27;,\n",
       "                                   transformers=[(&#x27;ordinalencoder&#x27;,\n",
       "                                                  OrdinalEncoder(handle_unknown=&#x27;use_encoded_value&#x27;,\n",
       "                                                                 unknown_value=-1),\n",
       "                                                  Index([&#x27;Fuel_Type&#x27;, &#x27;Seller_Type&#x27;, &#x27;Transmission&#x27;], dtype=&#x27;object&#x27;))])),\n",
       "                (&#x27;DT_model&#x27;, DecisionTreeRegressor(random_state=1))])</pre></div></div></div><div class=\"sk-serial\"><div class=\"sk-item sk-dashed-wrapped\"><div class=\"sk-label-container\"><div class=\"sk-label sk-toggleable\"><input class=\"sk-toggleable__control sk-hidden--visually\" id=\"sk-estimator-id-8\" type=\"checkbox\" ><label for=\"sk-estimator-id-8\" class=\"sk-toggleable__label sk-toggleable__label-arrow\">OrdinalEncoder: ColumnTransformer</label><div class=\"sk-toggleable__content\"><pre>ColumnTransformer(remainder=&#x27;passthrough&#x27;,\n",
       "                  transformers=[(&#x27;ordinalencoder&#x27;,\n",
       "                                 OrdinalEncoder(handle_unknown=&#x27;use_encoded_value&#x27;,\n",
       "                                                unknown_value=-1),\n",
       "                                 Index([&#x27;Fuel_Type&#x27;, &#x27;Seller_Type&#x27;, &#x27;Transmission&#x27;], dtype=&#x27;object&#x27;))])</pre></div></div></div><div class=\"sk-parallel\"><div class=\"sk-parallel-item\"><div class=\"sk-item\"><div class=\"sk-label-container\"><div class=\"sk-label sk-toggleable\"><input class=\"sk-toggleable__control sk-hidden--visually\" id=\"sk-estimator-id-9\" type=\"checkbox\" ><label for=\"sk-estimator-id-9\" class=\"sk-toggleable__label sk-toggleable__label-arrow\">ordinalencoder</label><div class=\"sk-toggleable__content\"><pre>Index([&#x27;Fuel_Type&#x27;, &#x27;Seller_Type&#x27;, &#x27;Transmission&#x27;], dtype=&#x27;object&#x27;)</pre></div></div></div><div class=\"sk-serial\"><div class=\"sk-item\"><div class=\"sk-estimator sk-toggleable\"><input class=\"sk-toggleable__control sk-hidden--visually\" id=\"sk-estimator-id-10\" type=\"checkbox\" ><label for=\"sk-estimator-id-10\" class=\"sk-toggleable__label sk-toggleable__label-arrow\">OrdinalEncoder</label><div class=\"sk-toggleable__content\"><pre>OrdinalEncoder(handle_unknown=&#x27;use_encoded_value&#x27;, unknown_value=-1)</pre></div></div></div></div></div></div><div class=\"sk-parallel-item\"><div class=\"sk-item\"><div class=\"sk-label-container\"><div class=\"sk-label sk-toggleable\"><input class=\"sk-toggleable__control sk-hidden--visually\" id=\"sk-estimator-id-11\" type=\"checkbox\" ><label for=\"sk-estimator-id-11\" class=\"sk-toggleable__label sk-toggleable__label-arrow\">remainder</label><div class=\"sk-toggleable__content\"><pre>[&#x27;Present_Price&#x27;, &#x27;Kms_Driven&#x27;, &#x27;Owner&#x27;, &#x27;Vehicle_Age&#x27;]</pre></div></div></div><div class=\"sk-serial\"><div class=\"sk-item\"><div class=\"sk-estimator sk-toggleable\"><input class=\"sk-toggleable__control sk-hidden--visually\" id=\"sk-estimator-id-12\" type=\"checkbox\" ><label for=\"sk-estimator-id-12\" class=\"sk-toggleable__label sk-toggleable__label-arrow\">passthrough</label><div class=\"sk-toggleable__content\"><pre>passthrough</pre></div></div></div></div></div></div></div></div><div class=\"sk-item\"><div class=\"sk-estimator sk-toggleable\"><input class=\"sk-toggleable__control sk-hidden--visually\" id=\"sk-estimator-id-13\" type=\"checkbox\" ><label for=\"sk-estimator-id-13\" class=\"sk-toggleable__label sk-toggleable__label-arrow\">DecisionTreeRegressor</label><div class=\"sk-toggleable__content\"><pre>DecisionTreeRegressor(random_state=1)</pre></div></div></div></div></div></div></div>"
      ],
      "text/plain": [
       "Pipeline(steps=[('OrdinalEncoder',\n",
       "                 ColumnTransformer(remainder='passthrough',\n",
       "                                   transformers=[('ordinalencoder',\n",
       "                                                  OrdinalEncoder(handle_unknown='use_encoded_value',\n",
       "                                                                 unknown_value=-1),\n",
       "                                                  Index(['Fuel_Type', 'Seller_Type', 'Transmission'], dtype='object'))])),\n",
       "                ('DT_model', DecisionTreeRegressor(random_state=1))])"
      ]
     },
     "execution_count": 30,
     "metadata": {},
     "output_type": "execute_result"
    }
   ],
   "source": [
    "pipe_model.fit(X_train, y_train)"
   ]
  },
  {
   "cell_type": "code",
   "execution_count": 31,
   "id": "2ebbb694",
   "metadata": {},
   "outputs": [],
   "source": [
    "def train_val(model, X_train, y_train, X_test, y_test):\n",
    "    y_pred = model.predict(X_test)\n",
    "    y_train_pred = model.predict(X_train)\n",
    "    scores = {\n",
    "        \"train\": {\n",
    "            \"R2\": r2_score(y_train, y_train_pred),\n",
    "            \"mae\": mean_absolute_error(y_train, y_train_pred),\n",
    "            \"mse\": mean_squared_error(y_train, y_train_pred),\n",
    "            \"rmse\": np.sqrt(mean_squared_error(y_train, y_train_pred))\n",
    "        },\n",
    "        \"test\": {\n",
    "            \"R2\": r2_score(y_test, y_pred),\n",
    "            \"mae\": mean_absolute_error(y_test, y_pred),\n",
    "            \"mse\": mean_squared_error(y_test, y_pred),\n",
    "            \"rmse\": np.sqrt(mean_squared_error(y_test, y_pred))\n",
    "        }\n",
    "    }\n",
    "    return pd.DataFrame(scores)"
   ]
  },
  {
   "cell_type": "code",
   "execution_count": 32,
   "id": "70f2f78f",
   "metadata": {},
   "outputs": [],
   "source": [
    "from sklearn.metrics import r2_score, mean_absolute_error, mean_squared_error"
   ]
  },
  {
   "cell_type": "code",
   "execution_count": 33,
   "id": "b9fe121b",
   "metadata": {},
   "outputs": [
    {
     "data": {
      "text/html": [
       "<div>\n",
       "<style scoped>\n",
       "    .dataframe tbody tr th:only-of-type {\n",
       "        vertical-align: middle;\n",
       "    }\n",
       "\n",
       "    .dataframe tbody tr th {\n",
       "        vertical-align: top;\n",
       "    }\n",
       "\n",
       "    .dataframe thead th {\n",
       "        text-align: right;\n",
       "    }\n",
       "</style>\n",
       "<table border=\"1\" class=\"dataframe\">\n",
       "  <thead>\n",
       "    <tr style=\"text-align: right;\">\n",
       "      <th></th>\n",
       "      <th>train</th>\n",
       "      <th>test</th>\n",
       "    </tr>\n",
       "  </thead>\n",
       "  <tbody>\n",
       "    <tr>\n",
       "      <th>R2</th>\n",
       "      <td>1.000</td>\n",
       "      <td>0.931</td>\n",
       "    </tr>\n",
       "    <tr>\n",
       "      <th>mae</th>\n",
       "      <td>0.000</td>\n",
       "      <td>0.511</td>\n",
       "    </tr>\n",
       "    <tr>\n",
       "      <th>mse</th>\n",
       "      <td>0.000</td>\n",
       "      <td>0.497</td>\n",
       "    </tr>\n",
       "    <tr>\n",
       "      <th>rmse</th>\n",
       "      <td>0.000</td>\n",
       "      <td>0.705</td>\n",
       "    </tr>\n",
       "  </tbody>\n",
       "</table>\n",
       "</div>"
      ],
      "text/plain": [
       "      train  test\n",
       "R2    1.000 0.931\n",
       "mae   0.000 0.511\n",
       "mse   0.000 0.497\n",
       "rmse  0.000 0.705"
      ]
     },
     "execution_count": 33,
     "metadata": {},
     "output_type": "execute_result"
    }
   ],
   "source": [
    "train_val(pipe_model, X_train, y_train, X_test, y_test)"
   ]
  },
  {
   "cell_type": "code",
   "execution_count": 34,
   "id": "27f6cf9e",
   "metadata": {},
   "outputs": [
    {
     "data": {
      "text/plain": [
       "test_r2                              0.860\n",
       "train_r2                             1.000\n",
       "test_neg_mean_absolute_error        -0.849\n",
       "train_neg_mean_absolute_error       -0.000\n",
       "test_neg_mean_squared_error         -4.423\n",
       "train_neg_mean_squared_error        -0.000\n",
       "test_neg_root_mean_squared_error    -1.771\n",
       "train_neg_root_mean_squared_error   -0.000\n",
       "dtype: float64"
      ]
     },
     "execution_count": 34,
     "metadata": {},
     "output_type": "execute_result"
    }
   ],
   "source": [
    "from sklearn.model_selection import cross_validate, cross_val_score\n",
    "operations = [(\"OrdinalEncoder\", column_trans),\n",
    "              (\"DT_model\", DecisionTreeRegressor(random_state=101))]\n",
    "model = Pipeline(steps=operations)\n",
    "scores = cross_validate(model,\n",
    "                        X_train,\n",
    "                        y_train,\n",
    "                        scoring=[\n",
    "                            'r2', 'neg_mean_absolute_error',\n",
    "                            'neg_mean_squared_error',\n",
    "                            'neg_root_mean_squared_error'\n",
    "                        ],\n",
    "                        cv=10,\n",
    "                        return_train_score=True)\n",
    "df_scores = pd.DataFrame(scores)\n",
    "df_scores.mean()[2:]\n",
    "# overfiting olduğunu teyit ettik"
   ]
  },
  {
   "cell_type": "markdown",
   "id": "d3f53e65",
   "metadata": {},
   "source": [
    "## Modelling with Pipeline & ColumnTransformer"
   ]
  },
  {
   "cell_type": "markdown",
   "id": "9182597f-f6fa-4462-814c-54bb7c003004",
   "metadata": {},
   "source": [
    "**Tree-Based Modellerde Encoder Kullanımı**\n",
    "\n",
    "Tree-based modellerde, özellikle karar ağaçları ve Random Forest gibi algoritmalar, kategorik verileri işleme şekli nedeniyle encoder kullanımını gerektirebilir.\n",
    "\n",
    "**Encoder Kullanımının Avantajları**\n",
    "- **Feature Sayısının Kontrolü**: Encoder kullanmak, özellikle çok sayıda kategorik değişkeni olan veri setlerinde, modelin karmaşıklığını ve işlem yükünü azaltır. Dummies uygulandığında feature sayısının önemli ölçüde artması, modelin hem eğitim süresini hem de karmaşıklığını artırabilir.\n",
    "- **Tree-Based Modeller ve Encoder**: Karar ağaçları ve Random Forest gibi modeller, encoder ile dönüştürülmüş kategorik verileri etkili bir şekilde işleyebilir. Bu modeller, kategorik değişkenlerin sayısallaştırılmasını kolaylaştırır ve dummies kullanımına göre daha az özellik ile çalışabilir.\n",
    "\n",
    "**Uygulama Önerileri**\n",
    "- **Encoder Kullanımı**: Kategorik değişkenler için encoder (Label Encoder, Ordinal Encoder vb.) kullanarak verileri modellemeye hazırlayın.\n",
    "- **Model Performansını Değerlendirme**: Encoder kullanımı sonrası modelin performansını değerlendirin ve dummies kullanıldığında elde edilen sonuçlarla karşılaştırın."
   ]
  },
  {
   "cell_type": "code",
   "execution_count": 35,
   "id": "6d76d618",
   "metadata": {},
   "outputs": [],
   "source": [
    "from sklearn.ensemble import RandomForestRegressor"
   ]
  },
  {
   "cell_type": "code",
   "execution_count": 36,
   "id": "97638b4d",
   "metadata": {},
   "outputs": [],
   "source": [
    "operations = [('OrdinalEncoder', column_trans), ('RF_model', RandomForestRegressor(random_state=1))]"
   ]
  },
  {
   "cell_type": "code",
   "execution_count": 37,
   "id": "6279feae",
   "metadata": {},
   "outputs": [
    {
     "data": {
      "text/html": [
       "<style>#sk-container-id-4 {color: black;}#sk-container-id-4 pre{padding: 0;}#sk-container-id-4 div.sk-toggleable {background-color: white;}#sk-container-id-4 label.sk-toggleable__label {cursor: pointer;display: block;width: 100%;margin-bottom: 0;padding: 0.3em;box-sizing: border-box;text-align: center;}#sk-container-id-4 label.sk-toggleable__label-arrow:before {content: \"▸\";float: left;margin-right: 0.25em;color: #696969;}#sk-container-id-4 label.sk-toggleable__label-arrow:hover:before {color: black;}#sk-container-id-4 div.sk-estimator:hover label.sk-toggleable__label-arrow:before {color: black;}#sk-container-id-4 div.sk-toggleable__content {max-height: 0;max-width: 0;overflow: hidden;text-align: left;background-color: #f0f8ff;}#sk-container-id-4 div.sk-toggleable__content pre {margin: 0.2em;color: black;border-radius: 0.25em;background-color: #f0f8ff;}#sk-container-id-4 input.sk-toggleable__control:checked~div.sk-toggleable__content {max-height: 200px;max-width: 100%;overflow: auto;}#sk-container-id-4 input.sk-toggleable__control:checked~label.sk-toggleable__label-arrow:before {content: \"▾\";}#sk-container-id-4 div.sk-estimator input.sk-toggleable__control:checked~label.sk-toggleable__label {background-color: #d4ebff;}#sk-container-id-4 div.sk-label input.sk-toggleable__control:checked~label.sk-toggleable__label {background-color: #d4ebff;}#sk-container-id-4 input.sk-hidden--visually {border: 0;clip: rect(1px 1px 1px 1px);clip: rect(1px, 1px, 1px, 1px);height: 1px;margin: -1px;overflow: hidden;padding: 0;position: absolute;width: 1px;}#sk-container-id-4 div.sk-estimator {font-family: monospace;background-color: #f0f8ff;border: 1px dotted black;border-radius: 0.25em;box-sizing: border-box;margin-bottom: 0.5em;}#sk-container-id-4 div.sk-estimator:hover {background-color: #d4ebff;}#sk-container-id-4 div.sk-parallel-item::after {content: \"\";width: 100%;border-bottom: 1px solid gray;flex-grow: 1;}#sk-container-id-4 div.sk-label:hover label.sk-toggleable__label {background-color: #d4ebff;}#sk-container-id-4 div.sk-serial::before {content: \"\";position: absolute;border-left: 1px solid gray;box-sizing: border-box;top: 0;bottom: 0;left: 50%;z-index: 0;}#sk-container-id-4 div.sk-serial {display: flex;flex-direction: column;align-items: center;background-color: white;padding-right: 0.2em;padding-left: 0.2em;position: relative;}#sk-container-id-4 div.sk-item {position: relative;z-index: 1;}#sk-container-id-4 div.sk-parallel {display: flex;align-items: stretch;justify-content: center;background-color: white;position: relative;}#sk-container-id-4 div.sk-item::before, #sk-container-id-4 div.sk-parallel-item::before {content: \"\";position: absolute;border-left: 1px solid gray;box-sizing: border-box;top: 0;bottom: 0;left: 50%;z-index: -1;}#sk-container-id-4 div.sk-parallel-item {display: flex;flex-direction: column;z-index: 1;position: relative;background-color: white;}#sk-container-id-4 div.sk-parallel-item:first-child::after {align-self: flex-end;width: 50%;}#sk-container-id-4 div.sk-parallel-item:last-child::after {align-self: flex-start;width: 50%;}#sk-container-id-4 div.sk-parallel-item:only-child::after {width: 0;}#sk-container-id-4 div.sk-dashed-wrapped {border: 1px dashed gray;margin: 0 0.4em 0.5em 0.4em;box-sizing: border-box;padding-bottom: 0.4em;background-color: white;}#sk-container-id-4 div.sk-label label {font-family: monospace;font-weight: bold;display: inline-block;line-height: 1.2em;}#sk-container-id-4 div.sk-label-container {text-align: center;}#sk-container-id-4 div.sk-container {/* jupyter's `normalize.less` sets `[hidden] { display: none; }` but bootstrap.min.css set `[hidden] { display: none !important; }` so we also need the `!important` here to be able to override the default hidden behavior on the sphinx rendered scikit-learn.org. See: https://github.com/scikit-learn/scikit-learn/issues/21755 */display: inline-block !important;position: relative;}#sk-container-id-4 div.sk-text-repr-fallback {display: none;}</style><div id=\"sk-container-id-4\" class=\"sk-top-container\"><div class=\"sk-text-repr-fallback\"><pre>Pipeline(steps=[(&#x27;OrdinalEncoder&#x27;,\n",
       "                 ColumnTransformer(remainder=&#x27;passthrough&#x27;,\n",
       "                                   transformers=[(&#x27;ordinalencoder&#x27;,\n",
       "                                                  OrdinalEncoder(handle_unknown=&#x27;use_encoded_value&#x27;,\n",
       "                                                                 unknown_value=-1),\n",
       "                                                  Index([&#x27;Fuel_Type&#x27;, &#x27;Seller_Type&#x27;, &#x27;Transmission&#x27;], dtype=&#x27;object&#x27;))])),\n",
       "                (&#x27;RF_model&#x27;, RandomForestRegressor(random_state=1))])</pre><b>In a Jupyter environment, please rerun this cell to show the HTML representation or trust the notebook. <br />On GitHub, the HTML representation is unable to render, please try loading this page with nbviewer.org.</b></div><div class=\"sk-container\" hidden><div class=\"sk-item sk-dashed-wrapped\"><div class=\"sk-label-container\"><div class=\"sk-label sk-toggleable\"><input class=\"sk-toggleable__control sk-hidden--visually\" id=\"sk-estimator-id-14\" type=\"checkbox\" ><label for=\"sk-estimator-id-14\" class=\"sk-toggleable__label sk-toggleable__label-arrow\">Pipeline</label><div class=\"sk-toggleable__content\"><pre>Pipeline(steps=[(&#x27;OrdinalEncoder&#x27;,\n",
       "                 ColumnTransformer(remainder=&#x27;passthrough&#x27;,\n",
       "                                   transformers=[(&#x27;ordinalencoder&#x27;,\n",
       "                                                  OrdinalEncoder(handle_unknown=&#x27;use_encoded_value&#x27;,\n",
       "                                                                 unknown_value=-1),\n",
       "                                                  Index([&#x27;Fuel_Type&#x27;, &#x27;Seller_Type&#x27;, &#x27;Transmission&#x27;], dtype=&#x27;object&#x27;))])),\n",
       "                (&#x27;RF_model&#x27;, RandomForestRegressor(random_state=1))])</pre></div></div></div><div class=\"sk-serial\"><div class=\"sk-item sk-dashed-wrapped\"><div class=\"sk-label-container\"><div class=\"sk-label sk-toggleable\"><input class=\"sk-toggleable__control sk-hidden--visually\" id=\"sk-estimator-id-15\" type=\"checkbox\" ><label for=\"sk-estimator-id-15\" class=\"sk-toggleable__label sk-toggleable__label-arrow\">OrdinalEncoder: ColumnTransformer</label><div class=\"sk-toggleable__content\"><pre>ColumnTransformer(remainder=&#x27;passthrough&#x27;,\n",
       "                  transformers=[(&#x27;ordinalencoder&#x27;,\n",
       "                                 OrdinalEncoder(handle_unknown=&#x27;use_encoded_value&#x27;,\n",
       "                                                unknown_value=-1),\n",
       "                                 Index([&#x27;Fuel_Type&#x27;, &#x27;Seller_Type&#x27;, &#x27;Transmission&#x27;], dtype=&#x27;object&#x27;))])</pre></div></div></div><div class=\"sk-parallel\"><div class=\"sk-parallel-item\"><div class=\"sk-item\"><div class=\"sk-label-container\"><div class=\"sk-label sk-toggleable\"><input class=\"sk-toggleable__control sk-hidden--visually\" id=\"sk-estimator-id-16\" type=\"checkbox\" ><label for=\"sk-estimator-id-16\" class=\"sk-toggleable__label sk-toggleable__label-arrow\">ordinalencoder</label><div class=\"sk-toggleable__content\"><pre>Index([&#x27;Fuel_Type&#x27;, &#x27;Seller_Type&#x27;, &#x27;Transmission&#x27;], dtype=&#x27;object&#x27;)</pre></div></div></div><div class=\"sk-serial\"><div class=\"sk-item\"><div class=\"sk-estimator sk-toggleable\"><input class=\"sk-toggleable__control sk-hidden--visually\" id=\"sk-estimator-id-17\" type=\"checkbox\" ><label for=\"sk-estimator-id-17\" class=\"sk-toggleable__label sk-toggleable__label-arrow\">OrdinalEncoder</label><div class=\"sk-toggleable__content\"><pre>OrdinalEncoder(handle_unknown=&#x27;use_encoded_value&#x27;, unknown_value=-1)</pre></div></div></div></div></div></div><div class=\"sk-parallel-item\"><div class=\"sk-item\"><div class=\"sk-label-container\"><div class=\"sk-label sk-toggleable\"><input class=\"sk-toggleable__control sk-hidden--visually\" id=\"sk-estimator-id-18\" type=\"checkbox\" ><label for=\"sk-estimator-id-18\" class=\"sk-toggleable__label sk-toggleable__label-arrow\">remainder</label><div class=\"sk-toggleable__content\"><pre>[&#x27;Present_Price&#x27;, &#x27;Kms_Driven&#x27;, &#x27;Owner&#x27;, &#x27;Vehicle_Age&#x27;]</pre></div></div></div><div class=\"sk-serial\"><div class=\"sk-item\"><div class=\"sk-estimator sk-toggleable\"><input class=\"sk-toggleable__control sk-hidden--visually\" id=\"sk-estimator-id-19\" type=\"checkbox\" ><label for=\"sk-estimator-id-19\" class=\"sk-toggleable__label sk-toggleable__label-arrow\">passthrough</label><div class=\"sk-toggleable__content\"><pre>passthrough</pre></div></div></div></div></div></div></div></div><div class=\"sk-item\"><div class=\"sk-estimator sk-toggleable\"><input class=\"sk-toggleable__control sk-hidden--visually\" id=\"sk-estimator-id-20\" type=\"checkbox\" ><label for=\"sk-estimator-id-20\" class=\"sk-toggleable__label sk-toggleable__label-arrow\">RandomForestRegressor</label><div class=\"sk-toggleable__content\"><pre>RandomForestRegressor(random_state=1)</pre></div></div></div></div></div></div></div>"
      ],
      "text/plain": [
       "Pipeline(steps=[('OrdinalEncoder',\n",
       "                 ColumnTransformer(remainder='passthrough',\n",
       "                                   transformers=[('ordinalencoder',\n",
       "                                                  OrdinalEncoder(handle_unknown='use_encoded_value',\n",
       "                                                                 unknown_value=-1),\n",
       "                                                  Index(['Fuel_Type', 'Seller_Type', 'Transmission'], dtype='object'))])),\n",
       "                ('RF_model', RandomForestRegressor(random_state=1))])"
      ]
     },
     "execution_count": 37,
     "metadata": {},
     "output_type": "execute_result"
    }
   ],
   "source": [
    "pipe_model = Pipeline(steps=operations)\n",
    "pipe_model.fit(X_train, y_train)"
   ]
  },
  {
   "cell_type": "code",
   "execution_count": 38,
   "id": "e1d64c18",
   "metadata": {},
   "outputs": [
    {
     "data": {
      "text/html": [
       "<div>\n",
       "<style scoped>\n",
       "    .dataframe tbody tr th:only-of-type {\n",
       "        vertical-align: middle;\n",
       "    }\n",
       "\n",
       "    .dataframe tbody tr th {\n",
       "        vertical-align: top;\n",
       "    }\n",
       "\n",
       "    .dataframe thead th {\n",
       "        text-align: right;\n",
       "    }\n",
       "</style>\n",
       "<table border=\"1\" class=\"dataframe\">\n",
       "  <thead>\n",
       "    <tr style=\"text-align: right;\">\n",
       "      <th></th>\n",
       "      <th>train</th>\n",
       "      <th>test</th>\n",
       "    </tr>\n",
       "  </thead>\n",
       "  <tbody>\n",
       "    <tr>\n",
       "      <th>R2</th>\n",
       "      <td>0.985</td>\n",
       "      <td>0.544</td>\n",
       "    </tr>\n",
       "    <tr>\n",
       "      <th>mae</th>\n",
       "      <td>0.247</td>\n",
       "      <td>0.717</td>\n",
       "    </tr>\n",
       "    <tr>\n",
       "      <th>mse</th>\n",
       "      <td>0.413</td>\n",
       "      <td>3.307</td>\n",
       "    </tr>\n",
       "    <tr>\n",
       "      <th>rmse</th>\n",
       "      <td>0.643</td>\n",
       "      <td>1.819</td>\n",
       "    </tr>\n",
       "  </tbody>\n",
       "</table>\n",
       "</div>"
      ],
      "text/plain": [
       "      train  test\n",
       "R2    0.985 0.544\n",
       "mae   0.247 0.717\n",
       "mse   0.413 3.307\n",
       "rmse  0.643 1.819"
      ]
     },
     "execution_count": 38,
     "metadata": {},
     "output_type": "execute_result"
    }
   ],
   "source": [
    "train_val(pipe_model, X_train, y_train, X_test, y_test)"
   ]
  },
  {
   "cell_type": "code",
   "execution_count": 39,
   "id": "1d8e0606",
   "metadata": {},
   "outputs": [
    {
     "data": {
      "text/plain": [
       "test_r2                              0.922\n",
       "train_r2                             0.987\n",
       "test_neg_mean_absolute_error        -0.660\n",
       "train_neg_mean_absolute_error       -0.248\n",
       "test_neg_mean_squared_error         -2.480\n",
       "train_neg_mean_squared_error        -0.373\n",
       "test_neg_root_mean_squared_error    -1.233\n",
       "train_neg_root_mean_squared_error   -0.608\n",
       "dtype: float64"
      ]
     },
     "execution_count": 39,
     "metadata": {},
     "output_type": "execute_result"
    }
   ],
   "source": [
    "from sklearn.model_selection import cross_validate, cross_val_score\n",
    "operations = [(\"OrdinalEncoder\", column_trans),\n",
    "              (\"RF_model\", RandomForestRegressor(random_state=1))]\n",
    "model = Pipeline(steps=operations)\n",
    "scores = cross_validate(model,\n",
    "                        X_train,\n",
    "                        y_train,\n",
    "                        scoring=[\n",
    "                            'r2', 'neg_mean_absolute_error',\n",
    "                            'neg_mean_squared_error',\n",
    "                            'neg_root_mean_squared_error'\n",
    "                        ],\n",
    "                        cv=20,\n",
    "                        return_train_score=True)\n",
    "df_scores = pd.DataFrame(scores)\n",
    "df_scores.mean()[2:]\n",
    "# overfiting olduğunu teyit ettik"
   ]
  },
  {
   "cell_type": "code",
   "execution_count": 40,
   "id": "618d93ee",
   "metadata": {},
   "outputs": [
    {
     "data": {
      "text/plain": [
       "0.2638751291828516"
      ]
     },
     "execution_count": 40,
     "metadata": {},
     "output_type": "execute_result"
    }
   ],
   "source": [
    "# Ortalama Hata oranı kontrolü\n",
    "1.23 / y.mean() # test setinde yaptigi hata"
   ]
  },
  {
   "cell_type": "code",
   "execution_count": 41,
   "id": "db8e4393",
   "metadata": {},
   "outputs": [
    {
     "data": {
      "text/plain": [
       "0.13043583621396243"
      ]
     },
     "execution_count": 41,
     "metadata": {},
     "output_type": "execute_result"
    }
   ],
   "source": [
    "0.608 / y.mean() # train setinde yaptigi hata"
   ]
  },
  {
   "cell_type": "markdown",
   "id": "965885ec",
   "metadata": {},
   "source": [
    "**Regression ve Classification Analizlerinde \"Pure\" Modeller**\n",
    "\n",
    "Makine öğrenmesi ve istatistikte, bir modelin \"pure\" (saf) olması, modelin verileri mükemmel bir şekilde tahmin ettiği veya sınıflandırdığı anlamına gelir. Ancak, bu durumun gerçek dünya verileriyle çalışırken nadiren mümkün olduğunu anlamak önemlidir.\n",
    "\n",
    "**Regression Analizlerinde \"Pure\" Modeller**\n",
    "- **Zorluk**: Regression analizlerinde bir modelin \"pure\" olması, yani train setindeki tüm verileri mükemmel bir şekilde tahmin etmesi, genellikle çok zordur.\n",
    "- **Overfitting Riski**: Train setinde çok yüksek, ancak test setinde düşük skorlar alınıyorsa, bu durum modelin verilere overfitting yaptığının bir işareti olabilir. Yani model, eğitim verilerine aşırı uyum sağlamış ancak yeni verilere iyi genelleştirme yapamıyor olabilir. Buna karşılık, train ve test seti skorlarının birbirine yakın olması, modelin verilere iyi genelleştirdiğini gösterebilir.\n",
    "\n",
    "**Classification Analizlerinde \"Pure\" Modeller**\n",
    "- **Mümkünlük**: Classification analizlerinde bazen \"pure\" skorlar elde edilebilir. Bu, modelin veri setindeki sınıfları mükemmel bir şekilde ayırdığı anlamına gelir.\n",
    "- **Dikkat**: Ancak, bu durum her zaman ideal olmayabilir. Çünkü mükemmel sınıflandırma, bazen modelin eğitim verilerine aşırı uyum sağlaması (overfitting) nedeniyle olabilir.\n",
    "\n",
    "**Cross Validation (Çapraz Doğrulama)**\n",
    "- **Önemi**: Modelin performansını daha iyi değerlendirmek için cross validation kullanmak önemlidir. Cross validation, modelin farklı veri alt kümeleri üzerindeki performansını test ederek daha güvenilir sonuçlar elde edilmesini sağlar.\n",
    "- **Uygulama**: Cross validation skorları, modelin tek seferlik skorlarıyla uyumlu olduğunda, modelin genelleştirme kabiliyetinin daha güçlü olduğunu gösterir.\n",
    "\n",
    "Sonuç olarak, hem regression hem de classification modellerinde, modelin \"pure\" olması her zaman mümkün veya ideal olmayabilir. Modelin genelleştirme yeteneğini değerlendirmek için cross validation gibi yöntemler kullanılmalıdır."
   ]
  },
  {
   "cell_type": "markdown",
   "id": "64f04f1b",
   "metadata": {},
   "source": [
    "## Outlier handling to improve scores¶"
   ]
  },
  {
   "cell_type": "code",
   "execution_count": 42,
   "id": "795414ee",
   "metadata": {},
   "outputs": [
    {
     "data": {
      "image/png": "[encoded data removed]",
      "text/plain": [
       "<Figure size 720x600 with 1 Axes>"
      ]
     },
     "metadata": {},
     "output_type": "display_data"
    }
   ],
   "source": [
    "from yellowbrick.regressor import PredictionError\n",
    "from yellowbrick.features import RadViz\n",
    "\n",
    "visualizer = RadViz(size=(720, 600))\n",
    "\n",
    "model = pipe_model\n",
    "visualizer = PredictionError(model)\n",
    "visualizer.fit(X_train, y_train)  # Fit the training data to the visualizer\n",
    "visualizer.score(X_test, y_test)  # Evaluate the model on the test data\n",
    "visualizer.show();\n",
    "\n",
    "# 10 dan büyük fiyatların tahminleri bozduğunu gördük."
   ]
  },
  {
   "cell_type": "code",
   "execution_count": 43,
   "id": "513f836b",
   "metadata": {},
   "outputs": [
    {
     "data": {
      "image/png": "[encoded data removed]",
      "text/plain": [
       "<Figure size 720x600 with 2 Axes>"
      ]
     },
     "metadata": {},
     "output_type": "display_data"
    },
    {
     "data": {
      "text/plain": [
       "<Axes: title={'center': 'Residuals for RandomForestRegressor Model'}, xlabel='Predicted Value', ylabel='Residuals'>"
      ]
     },
     "execution_count": 43,
     "metadata": {},
     "output_type": "execute_result"
    }
   ],
   "source": [
    "from yellowbrick.regressor import ResidualsPlot\n",
    "\n",
    "visualizer = RadViz(size=(720, 600))\n",
    "model = pipe_model\n",
    "visualizer = ResidualsPlot(model)\n",
    "\n",
    "visualizer.fit(X_train, y_train)  # Fit the training data to the visualizer\n",
    "visualizer.score(X_test, y_test)  # Evaluate the model on the test data\n",
    "visualizer.show()\n",
    "\n",
    "# Burda da 10 dan büyük fiyatların tahminleri bozduğunu gördük.\n",
    "# Ayrıca overfiting olduğunu da buradan söyleyebiliriz"
   ]
  },
  {
   "cell_type": "code",
   "execution_count": 44,
   "id": "f0a5c66a",
   "metadata": {},
   "outputs": [
    {
     "name": "stdout",
     "output_type": "stream",
     "text": [
      "28\n"
     ]
    }
   ],
   "source": [
    "print(len(df[df.Selling_Price > 10]))"
   ]
  },
  {
   "cell_type": "code",
   "execution_count": 45,
   "id": "849d4e56",
   "metadata": {},
   "outputs": [
    {
     "name": "stdout",
     "output_type": "stream",
     "text": [
      "0.09302325581395349\n"
     ]
    }
   ],
   "source": [
    "print(28 / 301)\n",
    "\n",
    "# datada 10 üzerinde 28 tane gözle var. Ve tüm datama oranı %9 olduğundan drop ediyorum."
   ]
  },
  {
   "cell_type": "code",
   "execution_count": 46,
   "metadata": {},
   "outputs": [
    {
     "data": {
      "text/html": [
       "<div>\n",
       "<style scoped>\n",
       "    .dataframe tbody tr th:only-of-type {\n",
       "        vertical-align: middle;\n",
       "    }\n",
       "\n",
       "    .dataframe tbody tr th {\n",
       "        vertical-align: top;\n",
       "    }\n",
       "\n",
       "    .dataframe thead th {\n",
       "        text-align: right;\n",
       "    }\n",
       "</style>\n",
       "<table border=\"1\" class=\"dataframe\">\n",
       "  <thead>\n",
       "    <tr style=\"text-align: right;\">\n",
       "      <th></th>\n",
       "      <th>Selling_Price</th>\n",
       "      <th>Present_Price</th>\n",
       "      <th>Kms_Driven</th>\n",
       "      <th>Fuel_Type</th>\n",
       "      <th>Seller_Type</th>\n",
       "      <th>Transmission</th>\n",
       "      <th>Owner</th>\n",
       "      <th>Vehicle_Age</th>\n",
       "    </tr>\n",
       "  </thead>\n",
       "  <tbody>\n",
       "    <tr>\n",
       "      <th>0</th>\n",
       "      <td>3.350</td>\n",
       "      <td>5.590</td>\n",
       "      <td>27000</td>\n",
       "      <td>Petrol</td>\n",
       "      <td>Dealer</td>\n",
       "      <td>Manual</td>\n",
       "      <td>0</td>\n",
       "      <td>10</td>\n",
       "    </tr>\n",
       "    <tr>\n",
       "      <th>1</th>\n",
       "      <td>4.750</td>\n",
       "      <td>9.540</td>\n",
       "      <td>43000</td>\n",
       "      <td>Diesel</td>\n",
       "      <td>Dealer</td>\n",
       "      <td>Manual</td>\n",
       "      <td>0</td>\n",
       "      <td>11</td>\n",
       "    </tr>\n",
       "    <tr>\n",
       "      <th>2</th>\n",
       "      <td>7.250</td>\n",
       "      <td>9.850</td>\n",
       "      <td>6900</td>\n",
       "      <td>Petrol</td>\n",
       "      <td>Dealer</td>\n",
       "      <td>Manual</td>\n",
       "      <td>0</td>\n",
       "      <td>7</td>\n",
       "    </tr>\n",
       "    <tr>\n",
       "      <th>3</th>\n",
       "      <td>2.850</td>\n",
       "      <td>4.150</td>\n",
       "      <td>5200</td>\n",
       "      <td>Petrol</td>\n",
       "      <td>Dealer</td>\n",
       "      <td>Manual</td>\n",
       "      <td>0</td>\n",
       "      <td>13</td>\n",
       "    </tr>\n",
       "    <tr>\n",
       "      <th>4</th>\n",
       "      <td>4.600</td>\n",
       "      <td>6.870</td>\n",
       "      <td>42450</td>\n",
       "      <td>Diesel</td>\n",
       "      <td>Dealer</td>\n",
       "      <td>Manual</td>\n",
       "      <td>0</td>\n",
       "      <td>10</td>\n",
       "    </tr>\n",
       "  </tbody>\n",
       "</table>\n",
       "</div>"
      ],
      "text/plain": [
       "   Selling_Price  Present_Price  Kms_Driven Fuel_Type Seller_Type Transmission  Owner  Vehicle_Age\n",
       "0          3.350          5.590       27000    Petrol      Dealer       Manual      0           10\n",
       "1          4.750          9.540       43000    Diesel      Dealer       Manual      0           11\n",
       "2          7.250          9.850        6900    Petrol      Dealer       Manual      0            7\n",
       "3          2.850          4.150        5200    Petrol      Dealer       Manual      0           13\n",
       "4          4.600          6.870       42450    Diesel      Dealer       Manual      0           10"
      ]
     },
     "execution_count": 46,
     "metadata": {},
     "output_type": "execute_result"
    }
   ],
   "source": [
    "df2 = df[df.Selling_Price < 10]\n",
    "df2.head()"
   ]
  },
  {
   "cell_type": "code",
   "execution_count": 47,
   "metadata": {},
   "outputs": [],
   "source": [
    "X = df2.drop(columns=\"Selling_Price\")\n",
    "y = df2.Selling_Price\n",
    "\n",
    "# filtrelenmiş dataya göre tekrar X ve y'mizi tekrar atadık."
   ]
  },
  {
   "cell_type": "code",
   "execution_count": 48,
   "id": "b95ca488",
   "metadata": {},
   "outputs": [],
   "source": [
    "X_train, X_test, y_train, y_test = train_test_split(X,\n",
    "                                                    y,\n",
    "                                                    test_size=0.1,\n",
    "                                                    random_state=1)\n",
    "\n",
    "# filtrelenmiş datamızı train ve test setlerine ayırdık"
   ]
  },
  {
   "cell_type": "code",
   "execution_count": 49,
   "id": "00d9bca6",
   "metadata": {},
   "outputs": [
    {
     "data": {
      "text/html": [
       "<style>#sk-container-id-5 {color: black;}#sk-container-id-5 pre{padding: 0;}#sk-container-id-5 div.sk-toggleable {background-color: white;}#sk-container-id-5 label.sk-toggleable__label {cursor: pointer;display: block;width: 100%;margin-bottom: 0;padding: 0.3em;box-sizing: border-box;text-align: center;}#sk-container-id-5 label.sk-toggleable__label-arrow:before {content: \"▸\";float: left;margin-right: 0.25em;color: #696969;}#sk-container-id-5 label.sk-toggleable__label-arrow:hover:before {color: black;}#sk-container-id-5 div.sk-estimator:hover label.sk-toggleable__label-arrow:before {color: black;}#sk-container-id-5 div.sk-toggleable__content {max-height: 0;max-width: 0;overflow: hidden;text-align: left;background-color: #f0f8ff;}#sk-container-id-5 div.sk-toggleable__content pre {margin: 0.2em;color: black;border-radius: 0.25em;background-color: #f0f8ff;}#sk-container-id-5 input.sk-toggleable__control:checked~div.sk-toggleable__content {max-height: 200px;max-width: 100%;overflow: auto;}#sk-container-id-5 input.sk-toggleable__control:checked~label.sk-toggleable__label-arrow:before {content: \"▾\";}#sk-container-id-5 div.sk-estimator input.sk-toggleable__control:checked~label.sk-toggleable__label {background-color: #d4ebff;}#sk-container-id-5 div.sk-label input.sk-toggleable__control:checked~label.sk-toggleable__label {background-color: #d4ebff;}#sk-container-id-5 input.sk-hidden--visually {border: 0;clip: rect(1px 1px 1px 1px);clip: rect(1px, 1px, 1px, 1px);height: 1px;margin: -1px;overflow: hidden;padding: 0;position: absolute;width: 1px;}#sk-container-id-5 div.sk-estimator {font-family: monospace;background-color: #f0f8ff;border: 1px dotted black;border-radius: 0.25em;box-sizing: border-box;margin-bottom: 0.5em;}#sk-container-id-5 div.sk-estimator:hover {background-color: #d4ebff;}#sk-container-id-5 div.sk-parallel-item::after {content: \"\";width: 100%;border-bottom: 1px solid gray;flex-grow: 1;}#sk-container-id-5 div.sk-label:hover label.sk-toggleable__label {background-color: #d4ebff;}#sk-container-id-5 div.sk-serial::before {content: \"\";position: absolute;border-left: 1px solid gray;box-sizing: border-box;top: 0;bottom: 0;left: 50%;z-index: 0;}#sk-container-id-5 div.sk-serial {display: flex;flex-direction: column;align-items: center;background-color: white;padding-right: 0.2em;padding-left: 0.2em;position: relative;}#sk-container-id-5 div.sk-item {position: relative;z-index: 1;}#sk-container-id-5 div.sk-parallel {display: flex;align-items: stretch;justify-content: center;background-color: white;position: relative;}#sk-container-id-5 div.sk-item::before, #sk-container-id-5 div.sk-parallel-item::before {content: \"\";position: absolute;border-left: 1px solid gray;box-sizing: border-box;top: 0;bottom: 0;left: 50%;z-index: -1;}#sk-container-id-5 div.sk-parallel-item {display: flex;flex-direction: column;z-index: 1;position: relative;background-color: white;}#sk-container-id-5 div.sk-parallel-item:first-child::after {align-self: flex-end;width: 50%;}#sk-container-id-5 div.sk-parallel-item:last-child::after {align-self: flex-start;width: 50%;}#sk-container-id-5 div.sk-parallel-item:only-child::after {width: 0;}#sk-container-id-5 div.sk-dashed-wrapped {border: 1px dashed gray;margin: 0 0.4em 0.5em 0.4em;box-sizing: border-box;padding-bottom: 0.4em;background-color: white;}#sk-container-id-5 div.sk-label label {font-family: monospace;font-weight: bold;display: inline-block;line-height: 1.2em;}#sk-container-id-5 div.sk-label-container {text-align: center;}#sk-container-id-5 div.sk-container {/* jupyter's `normalize.less` sets `[hidden] { display: none; }` but bootstrap.min.css set `[hidden] { display: none !important; }` so we also need the `!important` here to be able to override the default hidden behavior on the sphinx rendered scikit-learn.org. See: https://github.com/scikit-learn/scikit-learn/issues/21755 */display: inline-block !important;position: relative;}#sk-container-id-5 div.sk-text-repr-fallback {display: none;}</style><div id=\"sk-container-id-5\" class=\"sk-top-container\"><div class=\"sk-text-repr-fallback\"><pre>Pipeline(steps=[(&#x27;OrdinalEncoder&#x27;,\n",
       "                 ColumnTransformer(remainder=&#x27;passthrough&#x27;,\n",
       "                                   transformers=[(&#x27;ordinalencoder&#x27;,\n",
       "                                                  OrdinalEncoder(handle_unknown=&#x27;use_encoded_value&#x27;,\n",
       "                                                                 unknown_value=-1),\n",
       "                                                  Index([&#x27;Fuel_Type&#x27;, &#x27;Seller_Type&#x27;, &#x27;Transmission&#x27;], dtype=&#x27;object&#x27;))])),\n",
       "                (&#x27;RF_model&#x27;, RandomForestRegressor(random_state=1))])</pre><b>In a Jupyter environment, please rerun this cell to show the HTML representation or trust the notebook. <br />On GitHub, the HTML representation is unable to render, please try loading this page with nbviewer.org.</b></div><div class=\"sk-container\" hidden><div class=\"sk-item sk-dashed-wrapped\"><div class=\"sk-label-container\"><div class=\"sk-label sk-toggleable\"><input class=\"sk-toggleable__control sk-hidden--visually\" id=\"sk-estimator-id-21\" type=\"checkbox\" ><label for=\"sk-estimator-id-21\" class=\"sk-toggleable__label sk-toggleable__label-arrow\">Pipeline</label><div class=\"sk-toggleable__content\"><pre>Pipeline(steps=[(&#x27;OrdinalEncoder&#x27;,\n",
       "                 ColumnTransformer(remainder=&#x27;passthrough&#x27;,\n",
       "                                   transformers=[(&#x27;ordinalencoder&#x27;,\n",
       "                                                  OrdinalEncoder(handle_unknown=&#x27;use_encoded_value&#x27;,\n",
       "                                                                 unknown_value=-1),\n",
       "                                                  Index([&#x27;Fuel_Type&#x27;, &#x27;Seller_Type&#x27;, &#x27;Transmission&#x27;], dtype=&#x27;object&#x27;))])),\n",
       "                (&#x27;RF_model&#x27;, RandomForestRegressor(random_state=1))])</pre></div></div></div><div class=\"sk-serial\"><div class=\"sk-item sk-dashed-wrapped\"><div class=\"sk-label-container\"><div class=\"sk-label sk-toggleable\"><input class=\"sk-toggleable__control sk-hidden--visually\" id=\"sk-estimator-id-22\" type=\"checkbox\" ><label for=\"sk-estimator-id-22\" class=\"sk-toggleable__label sk-toggleable__label-arrow\">OrdinalEncoder: ColumnTransformer</label><div class=\"sk-toggleable__content\"><pre>ColumnTransformer(remainder=&#x27;passthrough&#x27;,\n",
       "                  transformers=[(&#x27;ordinalencoder&#x27;,\n",
       "                                 OrdinalEncoder(handle_unknown=&#x27;use_encoded_value&#x27;,\n",
       "                                                unknown_value=-1),\n",
       "                                 Index([&#x27;Fuel_Type&#x27;, &#x27;Seller_Type&#x27;, &#x27;Transmission&#x27;], dtype=&#x27;object&#x27;))])</pre></div></div></div><div class=\"sk-parallel\"><div class=\"sk-parallel-item\"><div class=\"sk-item\"><div class=\"sk-label-container\"><div class=\"sk-label sk-toggleable\"><input class=\"sk-toggleable__control sk-hidden--visually\" id=\"sk-estimator-id-23\" type=\"checkbox\" ><label for=\"sk-estimator-id-23\" class=\"sk-toggleable__label sk-toggleable__label-arrow\">ordinalencoder</label><div class=\"sk-toggleable__content\"><pre>Index([&#x27;Fuel_Type&#x27;, &#x27;Seller_Type&#x27;, &#x27;Transmission&#x27;], dtype=&#x27;object&#x27;)</pre></div></div></div><div class=\"sk-serial\"><div class=\"sk-item\"><div class=\"sk-estimator sk-toggleable\"><input class=\"sk-toggleable__control sk-hidden--visually\" id=\"sk-estimator-id-24\" type=\"checkbox\" ><label for=\"sk-estimator-id-24\" class=\"sk-toggleable__label sk-toggleable__label-arrow\">OrdinalEncoder</label><div class=\"sk-toggleable__content\"><pre>OrdinalEncoder(handle_unknown=&#x27;use_encoded_value&#x27;, unknown_value=-1)</pre></div></div></div></div></div></div><div class=\"sk-parallel-item\"><div class=\"sk-item\"><div class=\"sk-label-container\"><div class=\"sk-label sk-toggleable\"><input class=\"sk-toggleable__control sk-hidden--visually\" id=\"sk-estimator-id-25\" type=\"checkbox\" ><label for=\"sk-estimator-id-25\" class=\"sk-toggleable__label sk-toggleable__label-arrow\">remainder</label><div class=\"sk-toggleable__content\"><pre>[&#x27;Present_Price&#x27;, &#x27;Kms_Driven&#x27;, &#x27;Owner&#x27;, &#x27;Vehicle_Age&#x27;]</pre></div></div></div><div class=\"sk-serial\"><div class=\"sk-item\"><div class=\"sk-estimator sk-toggleable\"><input class=\"sk-toggleable__control sk-hidden--visually\" id=\"sk-estimator-id-26\" type=\"checkbox\" ><label for=\"sk-estimator-id-26\" class=\"sk-toggleable__label sk-toggleable__label-arrow\">passthrough</label><div class=\"sk-toggleable__content\"><pre>passthrough</pre></div></div></div></div></div></div></div></div><div class=\"sk-item\"><div class=\"sk-estimator sk-toggleable\"><input class=\"sk-toggleable__control sk-hidden--visually\" id=\"sk-estimator-id-27\" type=\"checkbox\" ><label for=\"sk-estimator-id-27\" class=\"sk-toggleable__label sk-toggleable__label-arrow\">RandomForestRegressor</label><div class=\"sk-toggleable__content\"><pre>RandomForestRegressor(random_state=1)</pre></div></div></div></div></div></div></div>"
      ],
      "text/plain": [
       "Pipeline(steps=[('OrdinalEncoder',\n",
       "                 ColumnTransformer(remainder='passthrough',\n",
       "                                   transformers=[('ordinalencoder',\n",
       "                                                  OrdinalEncoder(handle_unknown='use_encoded_value',\n",
       "                                                                 unknown_value=-1),\n",
       "                                                  Index(['Fuel_Type', 'Seller_Type', 'Transmission'], dtype='object'))])),\n",
       "                ('RF_model', RandomForestRegressor(random_state=1))])"
      ]
     },
     "execution_count": 49,
     "metadata": {},
     "output_type": "execute_result"
    }
   ],
   "source": [
    "operations = [(\"OrdinalEncoder\", column_trans),\n",
    "              (\"RF_model\", RandomForestRegressor(random_state=1))]\n",
    "\n",
    "pipe_model = Pipeline(steps=operations)\n",
    "\n",
    "pipe_model.fit(X_train, y_train)"
   ]
  },
  {
   "cell_type": "code",
   "execution_count": 50,
   "id": "f9cec466",
   "metadata": {},
   "outputs": [
    {
     "data": {
      "text/html": [
       "<div>\n",
       "<style scoped>\n",
       "    .dataframe tbody tr th:only-of-type {\n",
       "        vertical-align: middle;\n",
       "    }\n",
       "\n",
       "    .dataframe tbody tr th {\n",
       "        vertical-align: top;\n",
       "    }\n",
       "\n",
       "    .dataframe thead th {\n",
       "        text-align: right;\n",
       "    }\n",
       "</style>\n",
       "<table border=\"1\" class=\"dataframe\">\n",
       "  <thead>\n",
       "    <tr style=\"text-align: right;\">\n",
       "      <th></th>\n",
       "      <th>train</th>\n",
       "      <th>test</th>\n",
       "    </tr>\n",
       "  </thead>\n",
       "  <tbody>\n",
       "    <tr>\n",
       "      <th>R2</th>\n",
       "      <td>0.992</td>\n",
       "      <td>0.959</td>\n",
       "    </tr>\n",
       "    <tr>\n",
       "      <th>mae</th>\n",
       "      <td>0.145</td>\n",
       "      <td>0.314</td>\n",
       "    </tr>\n",
       "    <tr>\n",
       "      <th>mse</th>\n",
       "      <td>0.059</td>\n",
       "      <td>0.285</td>\n",
       "    </tr>\n",
       "    <tr>\n",
       "      <th>rmse</th>\n",
       "      <td>0.244</td>\n",
       "      <td>0.534</td>\n",
       "    </tr>\n",
       "  </tbody>\n",
       "</table>\n",
       "</div>"
      ],
      "text/plain": [
       "      train  test\n",
       "R2    0.992 0.959\n",
       "mae   0.145 0.314\n",
       "mse   0.059 0.285\n",
       "rmse  0.244 0.534"
      ]
     },
     "execution_count": 50,
     "metadata": {},
     "output_type": "execute_result"
    }
   ],
   "source": [
    "train_val(pipe_model, X_train, y_train, X_test, y_test)"
   ]
  },
  {
   "cell_type": "code",
   "execution_count": 52,
   "id": "dd11fece",
   "metadata": {},
   "outputs": [
    {
     "data": {
      "text/plain": [
       "test_r2                              0.936\n",
       "train_r2                             0.992\n",
       "test_neg_mean_absolute_error        -0.416\n",
       "train_neg_mean_absolute_error       -0.151\n",
       "test_neg_mean_squared_error         -0.435\n",
       "train_neg_mean_squared_error        -0.060\n",
       "test_neg_root_mean_squared_error    -0.625\n",
       "train_neg_root_mean_squared_error   -0.245\n",
       "dtype: float64"
      ]
     },
     "execution_count": 52,
     "metadata": {},
     "output_type": "execute_result"
    }
   ],
   "source": [
    "from sklearn.model_selection import cross_validate, cross_val_score\n",
    "\n",
    "operations = [(\"OrdinalEncoder\", column_trans), (\"RF_model\", RandomForestRegressor(random_state=1))]\n",
    "\n",
    "model = Pipeline(steps=operations)\n",
    "\n",
    "\n",
    "scores = cross_validate(model, X_train, y_train, scoring=['r2', \n",
    "            'neg_mean_absolute_error','neg_mean_squared_error','neg_root_mean_squared_error'], cv = 10,\n",
    "             return_train_score=True)\n",
    "df_scores = pd.DataFrame(scores)\n",
    "df_scores.mean()[2:]"
   ]
  },
  {
   "cell_type": "markdown",
   "id": "54a6925e",
   "metadata": {},
   "source": [
    "## Visualizing Trees"
   ]
  },
  {
   "cell_type": "code",
   "execution_count": 57,
   "id": "680804dc",
   "metadata": {},
   "outputs": [],
   "source": [
    "from sklearn.tree import plot_tree\n",
    "\n",
    "def report_model(model, number_of_tree):\n",
    "    y_pred = model.predict(X_test)\n",
    "    y_train_pred = model.predict(X_train)\n",
    "    print('\\n')\n",
    "    print(train_val(model, X_train, y_train, X_test, y_test))\n",
    "    print('\\n')\n",
    "    plt.figure(figsize=(12,8),dpi=100)\n",
    "    plot_tree(model[\"RF_model\"].estimators_[number_of_tree], filled=True, feature_names=new_features, fontsize=8);"
   ]
  },
  {
   "cell_type": "code",
   "execution_count": 55,
   "id": "5f61e577",
   "metadata": {},
   "outputs": [
    {
     "data": {
      "text/plain": [
       "array(['ordinalencoder__Fuel_Type', 'ordinalencoder__Seller_Type',\n",
       "       'ordinalencoder__Transmission', 'remainder__Present_Price',\n",
       "       'remainder__Kms_Driven', 'remainder__Owner',\n",
       "       'remainder__Vehicle_Age'], dtype=object)"
      ]
     },
     "execution_count": 55,
     "metadata": {},
     "output_type": "execute_result"
    }
   ],
   "source": [
    "features = pipe_model[\"OrdinalEncoder\"].get_feature_names_out()\n",
    "features"
   ]
  },
  {
   "cell_type": "code",
   "execution_count": 56,
   "id": "649947b2",
   "metadata": {},
   "outputs": [
    {
     "data": {
      "text/plain": [
       "['Fuel_Type',\n",
       " 'Seller_Type',\n",
       " 'Transmission',\n",
       " 'Present_Price',\n",
       " 'Kms_Driven',\n",
       " 'Owner',\n",
       " 'Vehicle_Age']"
      ]
     },
     "execution_count": 56,
     "metadata": {},
     "output_type": "execute_result"
    }
   ],
   "source": [
    "new_features = [i.replace(\"ordinalencoder__\",\"\").replace(\"remainder__\", \"\") for i in features]\n",
    "new_features"
   ]
  },
  {
   "cell_type": "code",
   "execution_count": 66,
   "id": "857b4ece",
   "metadata": {},
   "outputs": [
    {
     "name": "stdout",
     "output_type": "stream",
     "text": [
      "\n",
      "\n",
      "      train  test\n",
      "R2    0.974 0.937\n",
      "mae   0.277 0.375\n",
      "mse   0.186 0.432\n",
      "rmse  0.432 0.657\n",
      "\n",
      "\n"
     ]
    },
    {
     "data": {
      "image/png": "[encoded data removed]",
      "text/plain": [
       "<Figure size 1200x800 with 1 Axes>"
      ]
     },
     "metadata": {},
     "output_type": "display_data"
    }
   ],
   "source": [
    "RF_model = RandomForestRegressor(n_estimators=123, max_depth=5, random_state=1)\n",
    "\n",
    "operations = [(\"OrdinalEncoder\", column_trans), (\"RF_model\", RF_model)]\n",
    "\n",
    "pruned_tree = Pipeline(steps=operations)\n",
    "pruned_tree.fit(X_train,y_train)\n",
    "\n",
    "report_model(pruned_tree, 11)\n",
    "\n",
    "# clasificationdan;\n",
    "# 1.farkı criterion='squared_error'dür. Hatırlarsanız clasification da bu hyper_parametre gini, entropy veya \n",
    "# log_loss oluyordu. Regressionda criterion= \"squared_error\",  \"absolute_error\", \"poisson\" değerlerinden birini alabiliyor.\n",
    "# Ama genellikle model en iyi sonuçları \"squared_error\"da aldığı için default olarak bu değer kullanılıyor.\n",
    "\n",
    "# 2. farkı max_feature classification'da default olarak sqrt iken regressionda 1.0'dır. Yani tüm featurları kullanır. \n",
    "\n",
    "# squared error, mean squared error'ü temsil ediyor.Bir yaprağın errorünün 0 olması o yaparağa düşen tüm arabaların aynı fiyatta\n",
    "# olduğunu gösterirken 0'a yakın bir değer olması fiyatları biribirine çok yakın arabalar olduğunu gösterir Yüksek bir error \n",
    "# değeri ise o yaprağa fiyatları biribirinden çok alakasız arabaların düştüğünü gösterir. \n",
    "\n",
    "# samples ilgili yapraktaki toplam gözlem sayısını gösterir. (boostrap metoduna göre train datasındaki gözlemlerin \n",
    "# yaklaşık 2/3'üdür)\n",
    "\n",
    "# value ilgili yapraktaki gözlemlerin ortalama fiyatını gösterir.\n",
    "\n",
    "# predict ettiğimiz bir gözlem hangi yaprağa düşerse o yapraktaki mean value değeri arabanın model tarafından tahmin edilen değeri\n",
    "# olur."
   ]
  },
  {
   "cell_type": "markdown",
   "id": "8d0c97a5",
   "metadata": {},
   "source": [
    "## Grid Search"
   ]
  },
  {
   "cell_type": "markdown",
   "id": "d59128a0",
   "metadata": {},
   "source": [
    "**criterion**\n",
    "\n",
    "1. **squared_error**:\n",
    "   - Bu, bölünme kalitesini değerlendirmek için kullanılan ortalama karesel hata (MSE) kriteridir.\n",
    "   - Her düğümde, ortalama karesel hatayı minimize etmeye çalışarak en iyi bölünmeyi bulur.\n",
    "   - Bu, genellikle varsayılan kriterdir ve ağacın hedef değişken üzerindeki varyansı azaltmasını sağlar.\n",
    "\n",
    "2. **friedman_mse**:\n",
    "   - Bu kriter, ünlü istatistikçi Jerome Friedman tarafından geliştirilen ve geliştirilmiş bir karesel hata ölçüsüdür.\n",
    "   - 'friedman_mse' genellikle gradyan artırma ağaçlarıyla (gradient boosting trees) kullanılır ve ağacın bölünmelerini iyileştirmek için ek bir düzeltme terimi içerir.\n",
    "   - Bu kriter, özellikle gradyan artırma modellerindeki performansı artırmak için kullanılır.\n",
    "\n",
    "3. **absolute_error**:\n",
    "   - Bu kriter, bölünme kalitesini belirlemek için ortalama mutlak hatayı (MAE) kullanır.\n",
    "   - Aykırı değerlerin etkisini azaltmak için tercih edilen bir kriterdir çünkü karesel değil, mutlak farkları hesaba katar.\n",
    "   - Hesaplama açısından daha maliyetli olabilir, çünkü mutlak değer fonksiyonunun türevi her noktada tanımlı değildir.\n",
    "\n",
    "4. **poisson**:\n",
    "   - Bu kriter, regresyon hedeflerinin Poisson dağılımı gösterdiği durumlar için uygundur. Örneğin, sayım verisi veya olay oranları gibi.\n",
    "   - Poisson kaybı, bir hedef değişkenin gerçek sayımlar üzerindeki tahminlerinin kalitesini değerlendirmek için kullanılır.\n",
    "   - Poisson regresyonu, özellikle hedef değişken bir sayma sayısı olduğunda (örneğin, bir zaman aralığında gerçekleşen olayların sayısı gibi) ve hata terimlerinin varyansı ortalama değerlerle orantılı olduğunda kullanılır."
   ]
  },
  {
   "cell_type": "markdown",
   "id": "043d8ae7",
   "metadata": {},
   "source": [
    "**Random Forest Regression'da 'max_features' Parametresinin Önemi ve Root Node Seçimi**\n",
    "\n",
    "Random Forest Regression modellerinde 'max_features' parametresinin kullanımı ve bu parametrenin ağaçlardaki root node seçimi üzerindeki etkisini incelemek önemlidir.\n",
    "\n",
    "**'max_features' Parametresi ve Etkisi**\n",
    "- **Default Değer**: Random Forest Regression'da 'max_features' parametresinin default değeri genellikle 'auto' (eskiden) ya da 1.0 (yeni) olarak belirlenir. Bu, modelin her ağacı oluştururken tüm özellikleri (features) kullanacağı anlamına gelir.\n",
    "- **Root Node Seçimi**: Her ağaçta tüm özellikler kullanıldığında, genellikle modelin her ağacında aynı root node'un seçilme ihtimali artar. Bu durum, modelin çeşitliliğini azaltabilir ve overfitting riskini artırabilir.\n",
    "\n",
    "**'max_features' Parametresinin Özelleştirilmesi**\n",
    "- **GridSearch Önerisi**: GridSearch yaparken 'max_features' parametresini mutlaka dahil etmek ve bu parametreyi default değerinde bırakmamak önemlidir.\n",
    "- **Optimal Değer**: Araştırmalar, 'max_features' değerini feature sayısının 1/3'ü olarak ayarlamanın, modelin performansını iyileştirebileceğini göstermektedir. Bu yaklaşım, modelin her ağacında farklı özelliklerin kullanılmasını sağlayarak daha fazla çeşitlilik ve daha iyi genelleştirme kabiliyeti sunabilir.\n",
    "\n",
    "**Uygulama ve Değerlendirme**\n",
    "Random Forest Regression modellerinde, 'max_features' parametresini özelleştirmek, modelin genelleştirme kabiliyetini ve doğruluğunu artırabilir. Modelin her ağacında farklı özelliklerin seçilmesi, daha dengeli ve güvenilir tahminler yapılmasını sağlar."
   ]
  },
  {
   "cell_type": "code",
   "execution_count": null,
   "id": "17e38cc2",
   "metadata": {},
   "outputs": [],
   "source": []
  },
  {
   "cell_type": "code",
   "execution_count": null,
   "id": "3b41ea56",
   "metadata": {},
   "outputs": [],
   "source": []
  },
  {
   "cell_type": "markdown",
   "id": "4d940a21",
   "metadata": {},
   "source": [
    "## Features Importance"
   ]
  },
  {
   "cell_type": "markdown",
   "id": "36f2b976",
   "metadata": {},
   "source": [
    "Feature Importances, makine öğrenimi modellerindeki özelliklerin (features) modelin tahminlerine katkısını değerlendirir. Bu, özellikle karar ağaçlarına dayalı modellerde, örneğin Random Forest ve XGBoost gibi algoritmalar için kritik öneme sahiptir.\n",
    "\n",
    "**Features Importance Önemi**\n",
    "1. **Model Yorumlanabilirliği**: Modelin hangi özelliklerin tahminlere en çok etki ettiğini anlamak, modelin nasıl çalıştığını ve kararlarının arkasındaki mantığı açıklar. Bu, modelin güvenilirliğini ve şeffaflığını artırır.\n",
    "2. **Özellik Seçimi**: En önemli özellikleri belirleyerek, modelin karmaşıklığını azaltabilir ve eğitim süresini kısaltabiliriz. Ayrıca, bu yaklaşım modelin overfitting riskini de azaltabilir.\n",
    "3. **Model Performansını İyileştirme**: Özellik önemi, hangi özelliklerin model performansını artırmak için odaklanılması gerektiğini gösterir. Bu, daha doğru tahminler yapılmasına yardımcı olabilir.\n",
    "4. **İş Anlayışı ve Karar Verme**: Özelliklerin önemi, veri setindeki iş süreçleri ve dinamikleri hakkında önemli bilgiler sunar, bu da iş kararları ve stratejilerinin geliştirilmesinde kullanılabilir.\n",
    "5. **Veri Kalitesi ve Temizleme**: Düşük veya beklenmedik özellik önemi, veri kalitesi sorunlarını ortaya çıkarabilir ve veri toplama veya işleme süreçlerinin iyileştirilmesine yönlendirebilir.\n",
    "\n",
    "**Uygulama Önerileri**\n",
    "- **Random Forest ve XGBoost**: Bagging modellerde Random Forest, boosting modellerde XGBoost'un özellik önemi özelliklerini kullanarak, modelin ve verilerin daha iyi anlaşılmasını sağlayabiliriz."
   ]
  },
  {
   "cell_type": "code",
   "execution_count": null,
   "id": "6b5140b4",
   "metadata": {},
   "outputs": [],
   "source": []
  },
  {
   "cell_type": "code",
   "execution_count": null,
   "id": "2e42558e",
   "metadata": {},
   "outputs": [],
   "source": []
  },
  {
   "cell_type": "markdown",
   "id": "e35da680",
   "metadata": {},
   "source": [
    "# Feature Selection"
   ]
  },
  {
   "cell_type": "code",
   "execution_count": null,
   "id": "46e0cc4e",
   "metadata": {},
   "outputs": [],
   "source": []
  },
  {
   "cell_type": "code",
   "execution_count": null,
   "id": "193bff6f",
   "metadata": {},
   "outputs": [],
   "source": []
  },
  {
   "cell_type": "markdown",
   "id": "859cb66f",
   "metadata": {},
   "source": [
    "# Final Model & Prediction"
   ]
  },
  {
   "cell_type": "code",
   "execution_count": null,
   "id": "3483be8f",
   "metadata": {},
   "outputs": [],
   "source": []
  },
  {
   "cell_type": "code",
   "execution_count": null,
   "id": "a96ec979",
   "metadata": {},
   "outputs": [],
   "source": []
  },
  {
   "cell_type": "markdown",
   "id": "7c6f614c",
   "metadata": {},
   "source": [
    "# <p style=\"background-color:green;font-family:newtimeroman;font-size:200%;color:white;text-align:center;border-radius:20px 20px;\"><b>Random Forest - Regression - THE END</b></p>\n",
    "![](https://www.techproeducation.com/logo/headerlogo.svg)\n",
    "\n",
    "<b>Yeniliklerden ilk siz haberdar olmak istiyorsanız lütfen bizi takip etmeyi unutmayın </b>[YouTube](https://www.youtube.com/c/techproeducation) | [Instagram](https://www.instagram.com/techproeducation) | [Facebook](https://www.facebook.com/techproeducation) | [Telegram](https://t.me/joinchat/HH2qRvA-ulh4OWbb) | [WhatsApp](https://api.whatsapp.com/send/?phone=%2B15853042959&text&type=phone_number&app_absent=0) | [LinkedIn](https://www.linkedin.com/company/techproeducation/mycompany/) |"
   ]
  }
 ],
 "metadata": {
  "hide_input": false,
  "kernelspec": {
   "display_name": "Python 3 (ipykernel)",
   "language": "python",
   "name": "python3"
  },
  "language_info": {
   "codemirror_mode": {
    "name": "ipython",
    "version": 3
   },
   "file_extension": ".py",
   "mimetype": "text/x-python",
   "name": "python",
   "nbconvert_exporter": "python",
   "pygments_lexer": "ipython3",
   "version": "3.11.8"
  },
  "toc": {
   "base_numbering": 1,
   "nav_menu": {},
   "number_sections": true,
   "sideBar": true,
   "skip_h1_title": false,
   "title_cell": "Table of Contents",
   "title_sidebar": "Contents",
   "toc_cell": false,
   "toc_position": {
    "height": "calc(100% - 180px)",
    "left": "10px",
    "top": "150px",
    "width": "349.091px"
   },
   "toc_section_display": true,
   "toc_window_display": true
  }
 },
 "nbformat": 4,
 "nbformat_minor": 5
}
